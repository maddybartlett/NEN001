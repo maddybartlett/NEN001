{
 "cells": [
  {
   "cell_type": "code",
   "execution_count": 1,
   "metadata": {},
   "outputs": [],
   "source": [
    "%matplotlib inline\n",
    "import matplotlib.pyplot as plt\n",
    "import nengo\n",
    "import nengolib\n",
    "import numpy as np\n",
    "import pandas as pd\n",
    "import random\n",
    "import scipy as sp\n",
    "from sklearn.metrics import accuracy_score\n",
    "from sklearn.decomposition import PCA\n",
    "\n",
    "import pytry"
   ]
  },
  {
   "cell_type": "code",
   "execution_count": 2,
   "metadata": {},
   "outputs": [],
   "source": [
    "data = pd.read_csv(\"pinsoro-2017-06-20-145454904791-small.csv\", low_memory=False)\n",
    "\n",
    "#data = pd.read_csv(\"two_datasets.csv\", low_memory=False) #labs 444\n",
    "\n",
    "x = np.array(data.iloc[:,11:195]).astype(float) #array of data for purple child (points in space for each frame)\n",
    "labs = np.array(data.iloc[:,218]).astype(str) #array of labels (purple child annotations, engagement)\n",
    "a = []\n",
    "for i in range(x.shape[1]):\n",
    "    y = pd.Series(x[:,i])\n",
    "    z = y.interpolate(limit_direction='both')\n",
    "    a.append(z)\n",
    "a = pd.DataFrame(a)\n",
    "a = a.dropna()\n",
    "a = np.array(a).T\n",
    "\n",
    "dt = 0.001"
   ]
  },
  {
   "cell_type": "code",
   "execution_count": 3,
   "metadata": {},
   "outputs": [],
   "source": [
    "def extract_pattern(start, end): #function to extract consecutive frames with the same label \n",
    "    pattern = np.array(a[start:end,:]).astype(float)\n",
    "    frames = np.array(data.iloc[start:end,9]).astype(int)\n",
    "\n",
    "    good_indices = frames != -1\n",
    "    frames = frames[good_indices]\n",
    "    pattern = pattern[good_indices]\n",
    "\n",
    "    fps = 30.0\n",
    "    t_sample = (frames - frames[0])/fps\n",
    "\n",
    "    t = np.arange(int(t_sample[-1]/dt))*dt\n",
    "\n",
    "    result = []\n",
    "    for i in range(pattern.shape[1]):       \n",
    "        p = np.interp(t, t_sample, pattern[:,i])\n",
    "        result.append(p)\n",
    "    result = np.array(result).T\n",
    "\n",
    "    return t, result"
   ]
  },
  {
   "cell_type": "code",
   "execution_count": 4,
   "metadata": {},
   "outputs": [],
   "source": [
    "start=[]\n",
    "start.append(0)\n",
    "end=[]\n",
    "label = []\n",
    "for i in range(1, (len(labs)-1)):\n",
    "    if labs[i]!=labs[i-1]:\n",
    "        start.append(i)\n",
    "    if labs[i]!=labs[i+1]:\n",
    "        end.append(i)\n",
    "        label.append(labs[i])"
   ]
  },
  {
   "cell_type": "code",
   "execution_count": 5,
   "metadata": {},
   "outputs": [],
   "source": [
    "t_noplay=[]\n",
    "p_noplay=[]\n",
    "t_goal=[]\n",
    "p_goal=[]\n",
    "t_aim=[]\n",
    "p_aim=[]\n",
    "\n",
    "for i in range(1,(len(start)-1)):\n",
    "    if label[i]==('noplay'):\n",
    "        ti, pi = extract_pattern(start[i], end[i])\n",
    "        t_noplay.append(ti)\n",
    "        p_noplay.append(pi)\n",
    "    if label[i]==('goaloriented'):\n",
    "        ti, pi = extract_pattern(start[i], end[i])\n",
    "        t_goal.append(ti)\n",
    "        p_goal.append(pi)\n",
    "    if label[i]==('aimless'):\n",
    "        ti, pi = extract_pattern(start[i], end[i])\n",
    "        t_aim.append(ti)\n",
    "        p_aim.append(pi)"
   ]
  },
  {
   "cell_type": "code",
   "execution_count": 6,
   "metadata": {},
   "outputs": [],
   "source": [
    "############ randomly split data 80/20 into training and testing sets ############ \n",
    "random.shuffle(p_goal)\n",
    "goal_train = p_goal[:(int(len(p_goal)*0.8))] \n",
    "goal_test = p_goal[(int(len(p_goal)*0.8)):]\n",
    "\n",
    "random.shuffle(p_noplay)\n",
    "noplay_train = p_noplay[:(int(len(p_noplay)*0.8))]\n",
    "noplay_test = p_noplay[(int(len(p_noplay)*0.8)):]"
   ]
  },
  {
   "cell_type": "code",
   "execution_count": 7,
   "metadata": {},
   "outputs": [],
   "source": [
    "############ create pca model and convert each pattern into single dimension (first PCA construct) ############ \n",
    "train_all = np.vstack(goal_train+noplay_train)\n",
    "pca_model = PCA(n_components=2).fit(train_all)\n",
    "\n",
    "goal_patterns1 = {}\n",
    "goal_patterns2 = {}\n",
    "i=0\n",
    "for gp in goal_train:\n",
    "    goal_patterns1[i] = pca_model.transform(gp)[:,0]\n",
    "    goal_patterns2[i] = pca_model.transform(gp)[:,1]\n",
    "    i+=1\n",
    "\n",
    "noplay_patterns1 = {}\n",
    "noplay_patterns2 = {}\n",
    "i=0\n",
    "for npp in noplay_train:\n",
    "    noplay_patterns1[i] = pca_model.transform(npp)[:,0]\n",
    "    noplay_patterns2[i] = pca_model.transform(npp)[:,1]\n",
    "    i+=1"
   ]
  },
  {
   "cell_type": "code",
   "execution_count": 8,
   "metadata": {},
   "outputs": [],
   "source": [
    "goal_patterns1 = [(goal_patterns1[key]) for key in goal_patterns1.keys()]\n",
    "goal_patterns2 = [(goal_patterns2[key]) for key in goal_patterns2.keys()]\n",
    "noplay_patterns1 = [(noplay_patterns1[key]) for key in noplay_patterns1.keys()]\n",
    "noplay_patterns2 = [(noplay_patterns2[key]) for key in noplay_patterns2.keys()]\n",
    "\n",
    "goal_patterns = np.vstack([goal_patterns1[0], goal_patterns2[0]]).T\n",
    "for gp in range(1,len(goal_train)):\n",
    "    goal_patterns = np.append(goal_patterns, (np.vstack([goal_patterns1[gp], goal_patterns2[gp]]).T), axis=0) \n",
    "noplay_patterns = np.vstack([noplay_patterns1[0], noplay_patterns2[0]]).T\n",
    "for npp in range(1,len(noplay_train)):\n",
    "    noplay_patterns = np.append(noplay_patterns, (np.vstack([noplay_patterns1[npp], noplay_patterns2[npp]]).T), axis=0) "
   ]
  },
  {
   "cell_type": "code",
   "execution_count": 9,
   "metadata": {},
   "outputs": [
    {
     "name": "stderr",
     "output_type": "stream",
     "text": [
      "C:\\Users\\mbartlett2\\AppData\\Local\\Continuum\\anaconda3\\lib\\site-packages\\scipy\\signal\\filter_design.py:1551: BadCoefficients: Badly conditioned filter coefficients (numerator): the results may be meaningless\n",
      "  \"results may be meaningless\", BadCoefficients)\n"
     ]
    }
   ],
   "source": [
    "############ TRAINING WITH 80% ############ \n",
    "D = 2\n",
    "\n",
    "theta = 0.5\n",
    "net = nengo.Network()\n",
    "with net:\n",
    "    process = nengo.processes.WhiteSignal(period=100., high=3.0, y0=0)\n",
    "    #rw = nengolib.networks.RollingWindow(theta=theta, n_neurons=q.n_neurons, process=process, neuron_type=nengo.LIFRate(tau_rc=0.02, tau_ref=0.002, amplitude=1))\n",
    "    rw = []\n",
    "    for i in range(D):\n",
    "        rw.append(nengolib.networks.RollingWindow(theta=theta, n_neurons=3000, \n",
    "                                                  process=process, \n",
    "                                                  neuron_type=nengo.LIFRate()))"
   ]
  },
  {
   "cell_type": "code",
   "execution_count": 10,
   "metadata": {},
   "outputs": [],
   "source": [
    "s_window = int(theta/dt)\n",
    "s_pattern = len(min(goal_patterns1, key=len))\n",
    "\n",
    "t_window = np.linspace(0, 1, s_window)\n",
    "inv_basis = rw[0].inverse_basis(t_window)\n",
    "\n",
    "n_keep = 10*1000\n",
    "sim_run = 20\n",
    "\n",
    "eval_points=[]\n",
    "target = []\n",
    "for i in range(s_pattern)[:n_keep]:\n",
    "    eval_points.append(np.dot(inv_basis, np.roll(goal_patterns, i)[:s_window]).T)\n",
    "    target.append([1])\n",
    "for i in range(s_pattern)[:n_keep]:  \n",
    "    eval_points.append(np.dot(inv_basis, np.roll(noplay_patterns, i)[:s_window]).T)\n",
    "    target.append([-1])\n",
    "eval_points = np.array(eval_points).reshape(len(eval_points), -1)"
   ]
  },
  {
   "cell_type": "code",
   "execution_count": 11,
   "metadata": {},
   "outputs": [],
   "source": [
    "############ TEST ON TRAINING PATTERNS ############ \n",
    "\n",
    "with net:\n",
    "\n",
    "    pool = nengo.Ensemble(n_neurons=3000, dimensions=eval_points.shape[1],\n",
    "                          neuron_type=nengo.LIFRate(), seed=1)\n",
    "\n",
    "    start = 0\n",
    "    for r in rw:\n",
    "        nengo.Connection(r.state, pool[start:start+r.state.size_out])\n",
    "        start += r.state.size_out\n",
    "\n",
    "    result = nengo.Node(None, size_in=1)\n",
    "    dec_conn = nengo.Connection(pool, result,\n",
    "                     eval_points=eval_points, scale_eval_points=False,\n",
    "                     function=target, synapse=0.1)"
   ]
  },
  {
   "cell_type": "code",
   "execution_count": 12,
   "metadata": {},
   "outputs": [
    {
     "data": {
      "text/plain": [
       "[<matplotlib.lines.Line2D at 0x1fc01edeac8>,\n",
       " <matplotlib.lines.Line2D at 0x1fc01edec18>]"
      ]
     },
     "execution_count": 12,
     "metadata": {},
     "output_type": "execute_result"
    },
    {
     "data": {
      "image/png": "[encoded data removed]",
      "text/plain": [
       "<Figure size 432x288 with 1 Axes>"
      ]
     },
     "metadata": {
      "needs_background": "light"
     },
     "output_type": "display_data"
    }
   ],
   "source": [
    "train_all1 = np.array(goal_patterns1[0])\n",
    "for gp in range(1,(len(goal_patterns1))):\n",
    "    train_all1 = np.hstack([train_all1,goal_patterns1[gp]])\n",
    "train_all1 = train_all1[:n_keep]\n",
    "for npp in range(0,(len(noplay_patterns1))):\n",
    "    train_all1 = np.hstack([train_all1,noplay_patterns1[npp]])\n",
    "train_all1 = train_all1[:n_keep*2]\n",
    "\n",
    "train_all2 = np.array(goal_patterns2[0])\n",
    "for gp in range(1,(len(goal_patterns2))):\n",
    "    train_all2 = np.hstack([train_all2,goal_patterns2[gp]])\n",
    "train_all2 = train_all2[:n_keep]\n",
    "for npp in range(0,(len(noplay_patterns2))):\n",
    "    train_all2 = np.hstack([train_all2,noplay_patterns2[npp]])\n",
    "train_all2 = train_all2[:n_keep*2]\n",
    "\n",
    "\n",
    "train_all = np.vstack([train_all1, train_all2]).T\n",
    "plt.plot(train_all)"
   ]
  },
  {
   "cell_type": "code",
   "execution_count": 13,
   "metadata": {},
   "outputs": [
    {
     "name": "stderr",
     "output_type": "stream",
     "text": [
      "C:\\Users\\mbartlett2\\AppData\\Local\\Continuum\\anaconda3\\lib\\site-packages\\nengo\\utils\\numpy.py:79: FutureWarning: Using a non-tuple sequence for multidimensional indexing is deprecated; use `arr[tuple(seq)]` instead of `arr[seq]`. In the future this will be interpreted as an array index, `arr[np.array(seq)]`, which will result either in an error or a different result.\n",
      "  v = a[inds]\n",
      "C:\\Users\\mbartlett2\\AppData\\Local\\Continuum\\anaconda3\\lib\\site-packages\\nengolib\\signal\\system.py:717: UserWarning: Filtering with non-SISO systems is an experimental feature that may not behave as expected.\n",
      "  \"expected.\", UserWarning)\n"
     ]
    },
    {
     "data": {
      "text/html": [
       "\n",
       "                <div id=\"e8a06191-56b4-4a86-8319-dda55c6ffb56\" style=\"\n",
       "                    width: 100%;\n",
       "                    border: 1px solid #cfcfcf;\n",
       "                    border-radius: 4px;\n",
       "                    text-align: center;\n",
       "                    position: relative;\">\n",
       "                  <div class=\"pb-text\" style=\"\n",
       "                      position: absolute;\n",
       "                      width: 100%;\">\n",
       "                    0%\n",
       "                  </div>\n",
       "                  <div class=\"pb-fill\" style=\"\n",
       "                      background-color: #bdd2e6;\n",
       "                      width: 0%;\">\n",
       "                    <style type=\"text/css\" scoped=\"scoped\">\n",
       "                        @keyframes pb-fill-anim {\n",
       "                            0% { background-position: 0 0; }\n",
       "                            100% { background-position: 100px 0; }\n",
       "                        }\n",
       "                    </style>\n",
       "                    &nbsp;\n",
       "                  </div>\n",
       "                </div>"
      ],
      "text/plain": [
       "HtmlProgressBar cannot be displayed. Please use the TerminalProgressBar. It can be enabled with `nengo.rc.set('progress', 'progress_bar', 'nengo.utils.progress.TerminalProgressBar')`."
      ]
     },
     "metadata": {},
     "output_type": "display_data"
    },
    {
     "data": {
      "application/javascript": [
       "\n",
       "              (function () {\n",
       "                  var root = document.getElementById('e8a06191-56b4-4a86-8319-dda55c6ffb56');\n",
       "                  var text = root.getElementsByClassName('pb-text')[0];\n",
       "                  var fill = root.getElementsByClassName('pb-fill')[0];\n",
       "\n",
       "                  text.innerHTML = 'Build finished in 0:00:17.';\n",
       "                  \n",
       "            fill.style.width = '100%';\n",
       "            fill.style.animation = 'pb-fill-anim 2s linear infinite';\n",
       "            fill.style.backgroundSize = '100px 100%';\n",
       "            fill.style.backgroundImage = 'repeating-linear-gradient(' +\n",
       "                '90deg, #bdd2e6, #edf2f8 40%, #bdd2e6 80%, #bdd2e6)';\n",
       "        \n",
       "                  \n",
       "                fill.style.animation = 'none';\n",
       "                fill.style.backgroundImage = 'none';\n",
       "            \n",
       "              })();\n",
       "        "
      ],
      "text/plain": [
       "<IPython.core.display.Javascript object>"
      ]
     },
     "metadata": {},
     "output_type": "display_data"
    },
    {
     "data": {
      "text/html": [
       "\n",
       "                <div id=\"d1e0542e-f57d-42ed-884f-7745b363498e\" style=\"\n",
       "                    width: 100%;\n",
       "                    border: 1px solid #cfcfcf;\n",
       "                    border-radius: 4px;\n",
       "                    text-align: center;\n",
       "                    position: relative;\">\n",
       "                  <div class=\"pb-text\" style=\"\n",
       "                      position: absolute;\n",
       "                      width: 100%;\">\n",
       "                    0%\n",
       "                  </div>\n",
       "                  <div class=\"pb-fill\" style=\"\n",
       "                      background-color: #bdd2e6;\n",
       "                      width: 0%;\">\n",
       "                    <style type=\"text/css\" scoped=\"scoped\">\n",
       "                        @keyframes pb-fill-anim {\n",
       "                            0% { background-position: 0 0; }\n",
       "                            100% { background-position: 100px 0; }\n",
       "                        }\n",
       "                    </style>\n",
       "                    &nbsp;\n",
       "                  </div>\n",
       "                </div>"
      ],
      "text/plain": [
       "HtmlProgressBar cannot be displayed. Please use the TerminalProgressBar. It can be enabled with `nengo.rc.set('progress', 'progress_bar', 'nengo.utils.progress.TerminalProgressBar')`."
      ]
     },
     "metadata": {},
     "output_type": "display_data"
    },
    {
     "data": {
      "application/javascript": [
       "\n",
       "              (function () {\n",
       "                  var root = document.getElementById('d1e0542e-f57d-42ed-884f-7745b363498e');\n",
       "                  var text = root.getElementsByClassName('pb-text')[0];\n",
       "                  var fill = root.getElementsByClassName('pb-fill')[0];\n",
       "\n",
       "                  text.innerHTML = 'Simulation finished in 0:00:18.';\n",
       "                  \n",
       "            if (100.0 > 0.) {\n",
       "                fill.style.transition = 'width 0.1s linear';\n",
       "            } else {\n",
       "                fill.style.transition = 'none';\n",
       "            }\n",
       "\n",
       "            fill.style.width = '100.0%';\n",
       "            fill.style.animation = 'none';\n",
       "            fill.style.backgroundImage = 'none'\n",
       "        \n",
       "                  \n",
       "                fill.style.animation = 'none';\n",
       "                fill.style.backgroundImage = 'none';\n",
       "            \n",
       "              })();\n",
       "        "
      ],
      "text/plain": [
       "<IPython.core.display.Javascript object>"
      ]
     },
     "metadata": {},
     "output_type": "display_data"
    },
    {
     "data": {
      "text/plain": [
       "<matplotlib.legend.Legend at 0x1fc7faeeac8>"
      ]
     },
     "execution_count": 13,
     "metadata": {},
     "output_type": "execute_result"
    },
    {
     "data": {
      "image/png": "[encoded data removed]",
      "text/plain": [
       "<Figure size 432x288 with 1 Axes>"
      ]
     },
     "metadata": {
      "needs_background": "light"
     },
     "output_type": "display_data"
    }
   ],
   "source": [
    "presentation_time_train=0.001\n",
    "\n",
    "model = nengo.Network()\n",
    "model.networks.append(net)\n",
    "with model:    \n",
    "    stim = nengo.Node(nengo.processes.PresentInput(train_all, presentation_time=presentation_time_train))\n",
    "    for i in range(D):\n",
    "        nengo.Connection(stim[i], rw[i].input, synapse=None)\n",
    "\n",
    "    p_result = nengo.Probe(result)\n",
    "    p_stim = nengo.Probe(stim)\n",
    "    p_pool = nengo.Probe(pool)\n",
    "sim = nengo.Simulator(model)\n",
    "sim.run(sim_run)\n",
    "\n",
    "plt.plot(sim.trange(), sim.data[p_stim], label='input')\n",
    "plt.plot(sim.trange(), sim.data[p_result], label='output')\n",
    "plt.legend(loc='best')"
   ]
  },
  {
   "cell_type": "code",
   "execution_count": 14,
   "metadata": {},
   "outputs": [
    {
     "name": "stdout",
     "output_type": "stream",
     "text": [
      "-1.3675491759761165\n",
      "-1.5509640088926153\n"
     ]
    }
   ],
   "source": [
    "############ GET RESULTS ############ \n",
    "\n",
    "goaltrain_mean = np.mean(sim.data[p_result][:n_keep])\n",
    "noplaytrain_mean = np.mean(sim.data[p_result][n_keep:])\n",
    "\n",
    "print(goaltrain_mean)\n",
    "print(noplaytrain_mean)"
   ]
  },
  {
   "cell_type": "code",
   "execution_count": 15,
   "metadata": {},
   "outputs": [],
   "source": [
    "############ EXTRACT 20% TEST PATTERNS ############ \n",
    "\n",
    "goal_test_patterns1 = {}\n",
    "goal_test_patterns2 = {}\n",
    "i=0\n",
    "for gp in goal_test:\n",
    "    goal_test_patterns1[i] = pca_model.transform(gp)[:,0]\n",
    "    goal_test_patterns2[i] = pca_model.transform(gp)[:,1]\n",
    "    i+=1\n",
    "\n",
    "noplay_test_patterns1 = {}\n",
    "noplay_test_patterns2 = {}\n",
    "i=0\n",
    "for npp in noplay_test:\n",
    "    noplay_test_patterns1[i] = pca_model.transform(npp)[:,0]\n",
    "    noplay_test_patterns2[i] = pca_model.transform(npp)[:,1]\n",
    "    i+=1"
   ]
  },
  {
   "cell_type": "code",
   "execution_count": 16,
   "metadata": {},
   "outputs": [],
   "source": [
    "goal_test_patterns1 = [(goal_test_patterns1[key]) for key in goal_test_patterns1.keys()]\n",
    "goal_test_patterns2 = [(goal_test_patterns2[key]) for key in goal_test_patterns2.keys()]\n",
    "noplay_test_patterns1 = [(noplay_test_patterns1[key]) for key in noplay_test_patterns1.keys()]\n",
    "noplay_test_patterns2 = [(noplay_test_patterns2[key]) for key in noplay_test_patterns2.keys()]\n",
    "\n",
    "goal_test_patterns = np.vstack([goal_test_patterns1[0], goal_test_patterns2[0]]).T\n",
    "for gp in range(1,len(goal_test)):\n",
    "    goal_test_patterns = np.append(goal_test_patterns, (np.vstack([goal_test_patterns1[gp], goal_test_patterns2[gp]]).T), axis=0) \n",
    "noplay_test_patterns = np.vstack([noplay_test_patterns1[0], noplay_test_patterns2[0]]).T\n",
    "for npp in range(1,len(noplay_test)):\n",
    "    noplay_test_patterns = np.append(noplay_test_patterns, (np.vstack([noplay_test_patterns1[npp], noplay_test_patterns2[npp]]).T), axis=0) \n"
   ]
  },
  {
   "cell_type": "code",
   "execution_count": 17,
   "metadata": {},
   "outputs": [
    {
     "data": {
      "text/plain": [
       "[<matplotlib.lines.Line2D at 0x1fc98830b38>,\n",
       " <matplotlib.lines.Line2D at 0x1fc98830c88>]"
      ]
     },
     "execution_count": 17,
     "metadata": {},
     "output_type": "execute_result"
    },
    {
     "data": {
      "image/png": "[encoded data removed]",
      "text/plain": [
       "<Figure size 432x288 with 1 Axes>"
      ]
     },
     "metadata": {
      "needs_background": "light"
     },
     "output_type": "display_data"
    }
   ],
   "source": [
    "test_all1 = np.array(goal_test_patterns1[0])\n",
    "for gp in range(1,(len(goal_test_patterns1))):\n",
    "    test_all1 = np.hstack([test_all1,goal_test_patterns1[gp]])\n",
    "test_all1 = test_all1[:n_keep]\n",
    "for npp in range(0,(len(noplay_test_patterns1))):\n",
    "    test_all1 = np.hstack([test_all1,noplay_test_patterns1[npp]])\n",
    "test_all1 = test_all1[:n_keep*2]\n",
    "\n",
    "test_all2 = np.array(goal_test_patterns2[0])\n",
    "for gp in range(1,(len(goal_test_patterns2))):\n",
    "    test_all2 = np.hstack([test_all2,goal_test_patterns2[gp]])\n",
    "test_all2 = test_all2[:n_keep]\n",
    "for npp in range(0,(len(noplay_test_patterns2))):\n",
    "    test_all2 = np.hstack([test_all2,noplay_test_patterns2[npp]])\n",
    "test_all2 = test_all2[:n_keep*2]\n",
    "\n",
    "test_all = np.vstack([test_all1, test_all2]).T\n",
    "plt.plot(test_all)"
   ]
  },
  {
   "cell_type": "code",
   "execution_count": 18,
   "metadata": {},
   "outputs": [
    {
     "name": "stderr",
     "output_type": "stream",
     "text": [
      "C:\\Users\\mbartlett2\\AppData\\Local\\Continuum\\anaconda3\\lib\\site-packages\\nengo\\utils\\numpy.py:79: FutureWarning: Using a non-tuple sequence for multidimensional indexing is deprecated; use `arr[tuple(seq)]` instead of `arr[seq]`. In the future this will be interpreted as an array index, `arr[np.array(seq)]`, which will result either in an error or a different result.\n",
      "  v = a[inds]\n",
      "C:\\Users\\mbartlett2\\AppData\\Local\\Continuum\\anaconda3\\lib\\site-packages\\nengolib\\signal\\system.py:717: UserWarning: Filtering with non-SISO systems is an experimental feature that may not behave as expected.\n",
      "  \"expected.\", UserWarning)\n"
     ]
    },
    {
     "data": {
      "text/html": [
       "\n",
       "                <div id=\"45591bd1-cb6e-433e-bed3-795d90311889\" style=\"\n",
       "                    width: 100%;\n",
       "                    border: 1px solid #cfcfcf;\n",
       "                    border-radius: 4px;\n",
       "                    text-align: center;\n",
       "                    position: relative;\">\n",
       "                  <div class=\"pb-text\" style=\"\n",
       "                      position: absolute;\n",
       "                      width: 100%;\">\n",
       "                    0%\n",
       "                  </div>\n",
       "                  <div class=\"pb-fill\" style=\"\n",
       "                      background-color: #bdd2e6;\n",
       "                      width: 0%;\">\n",
       "                    <style type=\"text/css\" scoped=\"scoped\">\n",
       "                        @keyframes pb-fill-anim {\n",
       "                            0% { background-position: 0 0; }\n",
       "                            100% { background-position: 100px 0; }\n",
       "                        }\n",
       "                    </style>\n",
       "                    &nbsp;\n",
       "                  </div>\n",
       "                </div>"
      ],
      "text/plain": [
       "HtmlProgressBar cannot be displayed. Please use the TerminalProgressBar. It can be enabled with `nengo.rc.set('progress', 'progress_bar', 'nengo.utils.progress.TerminalProgressBar')`."
      ]
     },
     "metadata": {},
     "output_type": "display_data"
    },
    {
     "data": {
      "application/javascript": [
       "\n",
       "              (function () {\n",
       "                  var root = document.getElementById('45591bd1-cb6e-433e-bed3-795d90311889');\n",
       "                  var text = root.getElementsByClassName('pb-text')[0];\n",
       "                  var fill = root.getElementsByClassName('pb-fill')[0];\n",
       "\n",
       "                  text.innerHTML = 'Build finished in 0:00:21.';\n",
       "                  \n",
       "            fill.style.width = '100%';\n",
       "            fill.style.animation = 'pb-fill-anim 2s linear infinite';\n",
       "            fill.style.backgroundSize = '100px 100%';\n",
       "            fill.style.backgroundImage = 'repeating-linear-gradient(' +\n",
       "                '90deg, #bdd2e6, #edf2f8 40%, #bdd2e6 80%, #bdd2e6)';\n",
       "        \n",
       "                  \n",
       "                fill.style.animation = 'none';\n",
       "                fill.style.backgroundImage = 'none';\n",
       "            \n",
       "              })();\n",
       "        "
      ],
      "text/plain": [
       "<IPython.core.display.Javascript object>"
      ]
     },
     "metadata": {},
     "output_type": "display_data"
    },
    {
     "data": {
      "text/html": [
       "\n",
       "                <div id=\"8d668bc3-17eb-4941-9f4a-9af9b123e49d\" style=\"\n",
       "                    width: 100%;\n",
       "                    border: 1px solid #cfcfcf;\n",
       "                    border-radius: 4px;\n",
       "                    text-align: center;\n",
       "                    position: relative;\">\n",
       "                  <div class=\"pb-text\" style=\"\n",
       "                      position: absolute;\n",
       "                      width: 100%;\">\n",
       "                    0%\n",
       "                  </div>\n",
       "                  <div class=\"pb-fill\" style=\"\n",
       "                      background-color: #bdd2e6;\n",
       "                      width: 0%;\">\n",
       "                    <style type=\"text/css\" scoped=\"scoped\">\n",
       "                        @keyframes pb-fill-anim {\n",
       "                            0% { background-position: 0 0; }\n",
       "                            100% { background-position: 100px 0; }\n",
       "                        }\n",
       "                    </style>\n",
       "                    &nbsp;\n",
       "                  </div>\n",
       "                </div>"
      ],
      "text/plain": [
       "HtmlProgressBar cannot be displayed. Please use the TerminalProgressBar. It can be enabled with `nengo.rc.set('progress', 'progress_bar', 'nengo.utils.progress.TerminalProgressBar')`."
      ]
     },
     "metadata": {},
     "output_type": "display_data"
    },
    {
     "data": {
      "application/javascript": [
       "\n",
       "              (function () {\n",
       "                  var root = document.getElementById('8d668bc3-17eb-4941-9f4a-9af9b123e49d');\n",
       "                  var text = root.getElementsByClassName('pb-text')[0];\n",
       "                  var fill = root.getElementsByClassName('pb-fill')[0];\n",
       "\n",
       "                  text.innerHTML = 'Simulation finished in 0:00:18.';\n",
       "                  \n",
       "            if (100.0 > 0.) {\n",
       "                fill.style.transition = 'width 0.1s linear';\n",
       "            } else {\n",
       "                fill.style.transition = 'none';\n",
       "            }\n",
       "\n",
       "            fill.style.width = '100.0%';\n",
       "            fill.style.animation = 'none';\n",
       "            fill.style.backgroundImage = 'none'\n",
       "        \n",
       "                  \n",
       "                fill.style.animation = 'none';\n",
       "                fill.style.backgroundImage = 'none';\n",
       "            \n",
       "              })();\n",
       "        "
      ],
      "text/plain": [
       "<IPython.core.display.Javascript object>"
      ]
     },
     "metadata": {},
     "output_type": "display_data"
    },
    {
     "data": {
      "text/plain": [
       "<matplotlib.legend.Legend at 0x1fc988b82b0>"
      ]
     },
     "execution_count": 18,
     "metadata": {},
     "output_type": "execute_result"
    },
    {
     "data": {
      "image/png": "[encoded data removed]",
      "text/plain": [
       "<Figure size 432x288 with 1 Axes>"
      ]
     },
     "metadata": {
      "needs_background": "light"
     },
     "output_type": "display_data"
    }
   ],
   "source": [
    "presentation_time_test=0.001\n",
    "\n",
    "model = nengo.Network()\n",
    "model.networks.append(net)\n",
    "with model:    \n",
    "    stim = nengo.Node(nengo.processes.PresentInput(test_all, presentation_time=presentation_time_test))\n",
    "    for i in range(D):\n",
    "        nengo.Connection(stim[i], rw[i].input, synapse=None)\n",
    "\n",
    "    p_result = nengo.Probe(result)\n",
    "    p_stim = nengo.Probe(stim)\n",
    "    p_pool = nengo.Probe(pool)\n",
    "sim = nengo.Simulator(model)\n",
    "sim.run(sim_run)\n",
    "\n",
    "plt.plot(sim.trange(), sim.data[p_stim], label='input')\n",
    "plt.plot(sim.trange(), sim.data[p_result], label='output')\n",
    "plt.legend(loc='best')"
   ]
  },
  {
   "cell_type": "code",
   "execution_count": 19,
   "metadata": {},
   "outputs": [
    {
     "name": "stdout",
     "output_type": "stream",
     "text": [
      "-1.1111048002397548\n",
      "-1.3246122614034768\n"
     ]
    }
   ],
   "source": [
    "############ GET RESULTS ############ \n",
    "\n",
    "goaltest_mean = np.mean(sim.data[p_result][:n_keep])\n",
    "noplaytest_mean = np.mean(sim.data[p_result][n_keep:])\n",
    "\n",
    "print(goaltest_mean)\n",
    "print(noplaytest_mean)"
   ]
  },
  {
   "cell_type": "code",
   "execution_count": 20,
   "metadata": {},
   "outputs": [
    {
     "data": {
      "text/plain": [
       "[<matplotlib.lines.Line2D at 0x1fc9891cac8>,\n",
       " <matplotlib.lines.Line2D at 0x1fc9891cc18>]"
      ]
     },
     "execution_count": 20,
     "metadata": {},
     "output_type": "execute_result"
    },
    {
     "data": {
      "image/png": "[encoded data removed]",
      "text/plain": [
       "<Figure size 432x288 with 1 Axes>"
      ]
     },
     "metadata": {
      "needs_background": "light"
     },
     "output_type": "display_data"
    }
   ],
   "source": [
    "################# TEST ON AIMLESS PATTERNS #################\n",
    "\n",
    "random.shuffle(p_aim)\n",
    "\n",
    "aimless_patterns1 = {}\n",
    "aimless_patterns2 = {}\n",
    "i=0\n",
    "for ap in p_aim:\n",
    "    aimless_patterns1[i] = pca_model.transform(ap)[:,0]\n",
    "    aimless_patterns2[i] = pca_model.transform(ap)[:,1]\n",
    "    i+=1\n",
    "\n",
    "\n",
    "test_aim1 = np.array(aimless_patterns1[0])\n",
    "for ap in range(1,(len(aimless_patterns1))):\n",
    "    test_aim1 = np.hstack([test_aim1,aimless_patterns1[ap]])\n",
    "test_aim1 = test_aim1[:n_keep]\n",
    "\n",
    "test_aim2 = np.array(aimless_patterns2[0])\n",
    "for ap in range(1,(len(aimless_patterns2))):\n",
    "    test_aim2 = np.hstack([test_aim2,aimless_patterns2[ap]])\n",
    "test_aim2 = test_aim2[:n_keep]\n",
    "\n",
    "test_aim = np.vstack([test_aim1, test_aim2]).T\n",
    "plt.plot(test_aim)"
   ]
  },
  {
   "cell_type": "code",
   "execution_count": 21,
   "metadata": {},
   "outputs": [
    {
     "name": "stderr",
     "output_type": "stream",
     "text": [
      "C:\\Users\\mbartlett2\\AppData\\Local\\Continuum\\anaconda3\\lib\\site-packages\\nengo\\utils\\numpy.py:79: FutureWarning: Using a non-tuple sequence for multidimensional indexing is deprecated; use `arr[tuple(seq)]` instead of `arr[seq]`. In the future this will be interpreted as an array index, `arr[np.array(seq)]`, which will result either in an error or a different result.\n",
      "  v = a[inds]\n",
      "C:\\Users\\mbartlett2\\AppData\\Local\\Continuum\\anaconda3\\lib\\site-packages\\nengolib\\signal\\system.py:717: UserWarning: Filtering with non-SISO systems is an experimental feature that may not behave as expected.\n",
      "  \"expected.\", UserWarning)\n"
     ]
    },
    {
     "data": {
      "text/html": [
       "\n",
       "                <div id=\"df845450-1517-48d2-9e1b-edc79606b944\" style=\"\n",
       "                    width: 100%;\n",
       "                    border: 1px solid #cfcfcf;\n",
       "                    border-radius: 4px;\n",
       "                    text-align: center;\n",
       "                    position: relative;\">\n",
       "                  <div class=\"pb-text\" style=\"\n",
       "                      position: absolute;\n",
       "                      width: 100%;\">\n",
       "                    0%\n",
       "                  </div>\n",
       "                  <div class=\"pb-fill\" style=\"\n",
       "                      background-color: #bdd2e6;\n",
       "                      width: 0%;\">\n",
       "                    <style type=\"text/css\" scoped=\"scoped\">\n",
       "                        @keyframes pb-fill-anim {\n",
       "                            0% { background-position: 0 0; }\n",
       "                            100% { background-position: 100px 0; }\n",
       "                        }\n",
       "                    </style>\n",
       "                    &nbsp;\n",
       "                  </div>\n",
       "                </div>"
      ],
      "text/plain": [
       "HtmlProgressBar cannot be displayed. Please use the TerminalProgressBar. It can be enabled with `nengo.rc.set('progress', 'progress_bar', 'nengo.utils.progress.TerminalProgressBar')`."
      ]
     },
     "metadata": {},
     "output_type": "display_data"
    },
    {
     "data": {
      "application/javascript": [
       "\n",
       "              (function () {\n",
       "                  var root = document.getElementById('df845450-1517-48d2-9e1b-edc79606b944');\n",
       "                  var text = root.getElementsByClassName('pb-text')[0];\n",
       "                  var fill = root.getElementsByClassName('pb-fill')[0];\n",
       "\n",
       "                  text.innerHTML = 'Build finished in 0:00:20.';\n",
       "                  \n",
       "            fill.style.width = '100%';\n",
       "            fill.style.animation = 'pb-fill-anim 2s linear infinite';\n",
       "            fill.style.backgroundSize = '100px 100%';\n",
       "            fill.style.backgroundImage = 'repeating-linear-gradient(' +\n",
       "                '90deg, #bdd2e6, #edf2f8 40%, #bdd2e6 80%, #bdd2e6)';\n",
       "        \n",
       "                  \n",
       "                fill.style.animation = 'none';\n",
       "                fill.style.backgroundImage = 'none';\n",
       "            \n",
       "              })();\n",
       "        "
      ],
      "text/plain": [
       "<IPython.core.display.Javascript object>"
      ]
     },
     "metadata": {},
     "output_type": "display_data"
    },
    {
     "data": {
      "text/html": [
       "\n",
       "                <div id=\"bf9f6394-e111-4437-87c7-184cd7d4e6bd\" style=\"\n",
       "                    width: 100%;\n",
       "                    border: 1px solid #cfcfcf;\n",
       "                    border-radius: 4px;\n",
       "                    text-align: center;\n",
       "                    position: relative;\">\n",
       "                  <div class=\"pb-text\" style=\"\n",
       "                      position: absolute;\n",
       "                      width: 100%;\">\n",
       "                    0%\n",
       "                  </div>\n",
       "                  <div class=\"pb-fill\" style=\"\n",
       "                      background-color: #bdd2e6;\n",
       "                      width: 0%;\">\n",
       "                    <style type=\"text/css\" scoped=\"scoped\">\n",
       "                        @keyframes pb-fill-anim {\n",
       "                            0% { background-position: 0 0; }\n",
       "                            100% { background-position: 100px 0; }\n",
       "                        }\n",
       "                    </style>\n",
       "                    &nbsp;\n",
       "                  </div>\n",
       "                </div>"
      ],
      "text/plain": [
       "HtmlProgressBar cannot be displayed. Please use the TerminalProgressBar. It can be enabled with `nengo.rc.set('progress', 'progress_bar', 'nengo.utils.progress.TerminalProgressBar')`."
      ]
     },
     "metadata": {},
     "output_type": "display_data"
    },
    {
     "data": {
      "application/javascript": [
       "\n",
       "              (function () {\n",
       "                  var root = document.getElementById('bf9f6394-e111-4437-87c7-184cd7d4e6bd');\n",
       "                  var text = root.getElementsByClassName('pb-text')[0];\n",
       "                  var fill = root.getElementsByClassName('pb-fill')[0];\n",
       "\n",
       "                  text.innerHTML = 'Simulation finished in 0:00:24.';\n",
       "                  \n",
       "            if (100.0 > 0.) {\n",
       "                fill.style.transition = 'width 0.1s linear';\n",
       "            } else {\n",
       "                fill.style.transition = 'none';\n",
       "            }\n",
       "\n",
       "            fill.style.width = '100.0%';\n",
       "            fill.style.animation = 'none';\n",
       "            fill.style.backgroundImage = 'none'\n",
       "        \n",
       "                  \n",
       "                fill.style.animation = 'none';\n",
       "                fill.style.backgroundImage = 'none';\n",
       "            \n",
       "              })();\n",
       "        "
      ],
      "text/plain": [
       "<IPython.core.display.Javascript object>"
      ]
     },
     "metadata": {},
     "output_type": "display_data"
    },
    {
     "data": {
      "text/plain": [
       "<matplotlib.legend.Legend at 0x1fc98877b38>"
      ]
     },
     "execution_count": 21,
     "metadata": {},
     "output_type": "execute_result"
    },
    {
     "data": {
      "image/png": "[encoded data removed]",
      "text/plain": [
       "<Figure size 432x288 with 1 Axes>"
      ]
     },
     "metadata": {
      "needs_background": "light"
     },
     "output_type": "display_data"
    }
   ],
   "source": [
    " presentation_time_aim=0.001\n",
    "\n",
    "model = nengo.Network()\n",
    "model.networks.append(net)\n",
    "with model:    \n",
    "    stim = nengo.Node(nengo.processes.PresentInput(test_aim, presentation_time=presentation_time_aim))\n",
    "    for i in range(D):\n",
    "        nengo.Connection(stim[i], rw[i].input, synapse=None)\n",
    "\n",
    "    p_result = nengo.Probe(result)\n",
    "    p_stim = nengo.Probe(stim)\n",
    "    p_pool = nengo.Probe(pool)\n",
    "sim = nengo.Simulator(model)\n",
    "sim.run(sim_run)\n",
    "\n",
    "plt.plot(sim.trange(), sim.data[p_stim], label='input')\n",
    "plt.plot(sim.trange(), sim.data[p_result], label='output')\n",
    "plt.legend(loc='best')"
   ]
  },
  {
   "cell_type": "code",
   "execution_count": 22,
   "metadata": {},
   "outputs": [
    {
     "name": "stdout",
     "output_type": "stream",
     "text": [
      "-1.3675491759761165\n",
      "-1.5509640088926153\n",
      "-1.1111048002397548\n",
      "-1.3246122614034768\n",
      "-1.1311556913198857\n",
      "-1.153931771053056\n"
     ]
    }
   ],
   "source": [
    "############ GET RESULTS ############ \n",
    "\n",
    "aim1_mean = np.mean(sim.data[p_result][:n_keep])\n",
    "aim2_mean = np.mean(sim.data[p_result][n_keep:])\n",
    "\n",
    "print(goaltrain_mean)\n",
    "print(noplaytrain_mean)\n",
    "\n",
    "print(goaltest_mean)\n",
    "print(noplaytest_mean)\n",
    "\n",
    "print(aim1_mean)\n",
    "print(aim2_mean)"
   ]
  },
  {
   "cell_type": "code",
   "execution_count": null,
   "metadata": {},
   "outputs": [],
   "source": []
  },
  {
   "cell_type": "code",
   "execution_count": null,
   "metadata": {},
   "outputs": [],
   "source": []
  }
 ],
 "metadata": {
  "kernelspec": {
   "display_name": "Python 3",
   "language": "python",
   "name": "python3"
  },
  "language_info": {
   "codemirror_mode": {
    "name": "ipython",
    "version": 3
   },
   "file_extension": ".py",
   "mimetype": "text/x-python",
   "name": "python",
   "nbconvert_exporter": "python",
   "pygments_lexer": "ipython3",
   "version": "3.7.0"
  }
 },
 "nbformat": 4,
 "nbformat_minor": 2
}
