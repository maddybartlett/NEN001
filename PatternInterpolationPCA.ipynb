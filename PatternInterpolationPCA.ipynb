{
 "cells": [
  {
   "cell_type": "code",
   "execution_count": 60,
   "metadata": {},
   "outputs": [],
   "source": [
    "%matplotlib inline\n",
    "import matplotlib.pyplot as plt\n",
    "import nengo\n",
    "import nengolib\n",
    "import numpy as np\n",
    "import pandas as pd\n",
    "import scipy as sp"
   ]
  },
  {
   "cell_type": "code",
   "execution_count": 61,
   "metadata": {},
   "outputs": [
    {
     "data": {
      "text/plain": [
       "(13333, 180)"
      ]
     },
     "execution_count": 61,
     "metadata": {},
     "output_type": "execute_result"
    }
   ],
   "source": [
    "from sklearn.decomposition import PCA\n",
    "data = pd.read_csv(\"pinsoro-2017-06-01-102743523980-small.csv\", low_memory=False)\n",
    "\n",
    "x = np.array(data.iloc[:,11:195]).astype(float)\n",
    "a = []\n",
    "for i in range(x.shape[1]):\n",
    "    y = pd.Series(x[:,i])\n",
    "    z = y.interpolate(limit_direction='both')\n",
    "    a.append(z)\n",
    "a = pd.DataFrame(a)\n",
    "a = a.dropna()\n",
    "a = np.array(a).T\n",
    "\n",
    "\n",
    "dt = 0.001\n",
    "\n",
    "def extract_pattern(start, end):\n",
    "    pattern = np.array(a[start:end,:]).astype(float)\n",
    "    frames = np.array(data.iloc[start:end,9]).astype(int)\n",
    "\n",
    "    good_indices = frames != -1\n",
    "    frames = frames[good_indices]\n",
    "    pattern = pattern[good_indices]\n",
    "\n",
    "    fps = 30.0\n",
    "    t_sample = (frames - frames[0])/fps\n",
    "\n",
    "    t = np.arange(int(t_sample[-1]/dt))*dt\n",
    "    \n",
    "    result = []\n",
    "    for i in range(pattern.shape[1]):       \n",
    "        p = np.interp(t, t_sample, pattern[:,i])\n",
    "        result.append(p)\n",
    "    result = np.array(result).T\n",
    "    \n",
    "    return t, result\n",
    "\n",
    "\n",
    "t1, result1 = extract_pattern(2976, 3378)\n",
    "t2, result2 = extract_pattern(3701, 4103)\n",
    "\n",
    "#np.savetxt('result.csv', result1, delimiter=',')\n",
    "result1.shape"
   ]
  },
  {
   "cell_type": "code",
   "execution_count": 62,
   "metadata": {},
   "outputs": [
    {
     "name": "stdout",
     "output_type": "stream",
     "text": [
      "Cumulative explained variance: [0.42956568]\n",
      "Cumulative explained variance: [0.78312532]\n"
     ]
    },
    {
     "data": {
      "text/plain": [
       "(13333,)"
      ]
     },
     "execution_count": 62,
     "metadata": {},
     "output_type": "execute_result"
    },
    {
     "data": {
      "image/png": "[encoded data removed]",
      "text/plain": [
       "<Figure size 432x288 with 1 Axes>"
      ]
     },
     "metadata": {
      "needs_background": "light"
     },
     "output_type": "display_data"
    }
   ],
   "source": [
    "nb_components=1\n",
    "def extract_component(data):\n",
    "    pca_model=PCA(n_components=nb_components).fit(data)\n",
    "    p = pca_model.transform(data)\n",
    "    print(\"Cumulative explained variance: %s\" % pca_model.explained_variance_ratio_.cumsum())\n",
    "    \n",
    "    return p[:,0]\n",
    "\n",
    "p1 = extract_component(result1)\n",
    "p2 = extract_component(result2)\n",
    "\n",
    "plt.plot(t1, p1)\n",
    "plt.plot(t2, p2)\n",
    "p1.shape"
   ]
  },
  {
   "cell_type": "markdown",
   "metadata": {
    "collapsed": true
   },
   "source": [
    "Pattern 1 is goal oriented play. \n",
    "Pattern 2 is no-play. "
   ]
  },
  {
   "cell_type": "markdown",
   "metadata": {},
   "source": [
    "Now let's create a network that represents a rolling window in time (Aaron's \"delay network\"). The process determines what sort of pattern the network will be optimized for -- here we just go with white noise of a maximum of 3Hz.  theta determines how big the rolling window is -- here we use 0.5 seconds."
   ]
  },
  {
   "cell_type": "code",
   "execution_count": 63,
   "metadata": {},
   "outputs": [
    {
     "name": "stderr",
     "output_type": "stream",
     "text": [
      "C:\\Users\\mbartlett2\\AppData\\Local\\Continuum\\anaconda3\\lib\\site-packages\\scipy\\signal\\filter_design.py:1551: BadCoefficients: Badly conditioned filter coefficients (numerator): the results may be meaningless\n",
      "  \"results may be meaningless\", BadCoefficients)\n"
     ]
    }
   ],
   "source": [
    "theta = 1.0\n",
    "\n",
    "net = nengo.Network()\n",
    "with net:\n",
    "    process = nengo.processes.WhiteSignal(period=100., high=3.0, y0=0)\n",
    "    rw = nengolib.networks.RollingWindow(theta=theta, n_neurons=3000, process=process, neuron_type=nengo.LIFRate(tau_rc=0.02, tau_ref=0.002, amplitude=1))"
   ]
  },
  {
   "cell_type": "markdown",
   "metadata": {},
   "source": [
    "Now we need to create the training data for decoding out of the rolling window. Our patterns are larger than the rolling window, so to create our training data we will take our patterns, shift them, and cut them down to the right size. In order to then give that to nengo, we also need to project from the window's space to the internal representation space (using the inv_basis).\n",
    "\n",
    "The target array is the desired output value for each of the slices of the pattern in eval_points. We'll use 1 for pattern1 and -1 for pattern2."
   ]
  },
  {
   "cell_type": "code",
   "execution_count": 64,
   "metadata": {},
   "outputs": [
    {
     "name": "stdout",
     "output_type": "stream",
     "text": [
      "(26666, 6)\n"
     ]
    }
   ],
   "source": [
    "s_window = int(theta/dt)\n",
    "s_pattern = min(len(p1), len(p2))\n",
    "\n",
    "t_window = np.linspace(0, 1, s_window)\n",
    "inv_basis = rw.inverse_basis(t_window)\n",
    "    \n",
    "eval_points=[]\n",
    "target = []\n",
    "for i in range(s_pattern):\n",
    "    eval_points.append(np.dot(inv_basis, np.roll(p1, i)[:s_window]))\n",
    "    target.append([1])\n",
    "    eval_points.append(np.dot(inv_basis, np.roll(p2, i)[:s_window]))\n",
    "    target.append([-1])\n",
    "    \n",
    "eval_points = np.array(eval_points)\n",
    "print(eval_points.shape)"
   ]
  },
  {
   "cell_type": "markdown",
   "metadata": {},
   "source": [
    "Now we can create a connection optimized to do this decoding"
   ]
  },
  {
   "cell_type": "code",
   "execution_count": 65,
   "metadata": {},
   "outputs": [],
   "source": [
    "with net:\n",
    "    result = nengo.Node(None, size_in=1)\n",
    "    nengo.Connection(rw.state, result,\n",
    "                     eval_points=eval_points, scale_eval_points=True,\n",
    "                     function=target, synapse=0.1)"
   ]
  },
  {
   "cell_type": "markdown",
   "metadata": {},
   "source": [
    "Let's try feeding in those two patterns and see what the response is"
   ]
  },
  {
   "cell_type": "code",
   "execution_count": 67,
   "metadata": {},
   "outputs": [
    {
     "name": "stderr",
     "output_type": "stream",
     "text": [
      "C:\\Users\\mbartlett2\\AppData\\Local\\Continuum\\anaconda3\\lib\\site-packages\\nengo\\utils\\numpy.py:79: FutureWarning: Using a non-tuple sequence for multidimensional indexing is deprecated; use `arr[tuple(seq)]` instead of `arr[seq]`. In the future this will be interpreted as an array index, `arr[np.array(seq)]`, which will result either in an error or a different result.\n",
      "  v = a[inds]\n",
      "C:\\Users\\mbartlett2\\AppData\\Local\\Continuum\\anaconda3\\lib\\site-packages\\nengolib\\signal\\system.py:717: UserWarning: Filtering with non-SISO systems is an experimental feature that may not behave as expected.\n",
      "  \"expected.\", UserWarning)\n"
     ]
    },
    {
     "data": {
      "text/html": [
       "\n",
       "                <div id=\"37294a45-d6c4-4dff-a6c4-899f0f0b9ac0\" style=\"\n",
       "                    width: 100%;\n",
       "                    border: 1px solid #cfcfcf;\n",
       "                    border-radius: 4px;\n",
       "                    text-align: center;\n",
       "                    position: relative;\">\n",
       "                  <div class=\"pb-text\" style=\"\n",
       "                      position: absolute;\n",
       "                      width: 100%;\">\n",
       "                    0%\n",
       "                  </div>\n",
       "                  <div class=\"pb-fill\" style=\"\n",
       "                      background-color: #bdd2e6;\n",
       "                      width: 0%;\">\n",
       "                    <style type=\"text/css\" scoped=\"scoped\">\n",
       "                        @keyframes pb-fill-anim {\n",
       "                            0% { background-position: 0 0; }\n",
       "                            100% { background-position: 100px 0; }\n",
       "                        }\n",
       "                    </style>\n",
       "                    &nbsp;\n",
       "                  </div>\n",
       "                </div>"
      ],
      "text/plain": [
       "HtmlProgressBar cannot be displayed. Please use the TerminalProgressBar. It can be enabled with `nengo.rc.set('progress', 'progress_bar', 'nengo.utils.progress.TerminalProgressBar')`."
      ]
     },
     "metadata": {},
     "output_type": "display_data"
    },
    {
     "data": {
      "application/javascript": [
       "\n",
       "              (function () {\n",
       "                  var root = document.getElementById('37294a45-d6c4-4dff-a6c4-899f0f0b9ac0');\n",
       "                  var text = root.getElementsByClassName('pb-text')[0];\n",
       "                  var fill = root.getElementsByClassName('pb-fill')[0];\n",
       "\n",
       "                  text.innerHTML = 'Build finished in 0:00:17.';\n",
       "                  \n",
       "            fill.style.width = '100%';\n",
       "            fill.style.animation = 'pb-fill-anim 2s linear infinite';\n",
       "            fill.style.backgroundSize = '100px 100%';\n",
       "            fill.style.backgroundImage = 'repeating-linear-gradient(' +\n",
       "                '90deg, #bdd2e6, #edf2f8 40%, #bdd2e6 80%, #bdd2e6)';\n",
       "        \n",
       "                  \n",
       "                fill.style.animation = 'none';\n",
       "                fill.style.backgroundImage = 'none';\n",
       "            \n",
       "              })();\n",
       "        "
      ],
      "text/plain": [
       "<IPython.core.display.Javascript object>"
      ]
     },
     "metadata": {},
     "output_type": "display_data"
    },
    {
     "data": {
      "text/html": [
       "\n",
       "                <div id=\"76580c85-6cee-48f1-b442-7c1c333346f7\" style=\"\n",
       "                    width: 100%;\n",
       "                    border: 1px solid #cfcfcf;\n",
       "                    border-radius: 4px;\n",
       "                    text-align: center;\n",
       "                    position: relative;\">\n",
       "                  <div class=\"pb-text\" style=\"\n",
       "                      position: absolute;\n",
       "                      width: 100%;\">\n",
       "                    0%\n",
       "                  </div>\n",
       "                  <div class=\"pb-fill\" style=\"\n",
       "                      background-color: #bdd2e6;\n",
       "                      width: 0%;\">\n",
       "                    <style type=\"text/css\" scoped=\"scoped\">\n",
       "                        @keyframes pb-fill-anim {\n",
       "                            0% { background-position: 0 0; }\n",
       "                            100% { background-position: 100px 0; }\n",
       "                        }\n",
       "                    </style>\n",
       "                    &nbsp;\n",
       "                  </div>\n",
       "                </div>"
      ],
      "text/plain": [
       "HtmlProgressBar cannot be displayed. Please use the TerminalProgressBar. It can be enabled with `nengo.rc.set('progress', 'progress_bar', 'nengo.utils.progress.TerminalProgressBar')`."
      ]
     },
     "metadata": {},
     "output_type": "display_data"
    },
    {
     "data": {
      "application/javascript": [
       "\n",
       "              (function () {\n",
       "                  var root = document.getElementById('76580c85-6cee-48f1-b442-7c1c333346f7');\n",
       "                  var text = root.getElementsByClassName('pb-text')[0];\n",
       "                  var fill = root.getElementsByClassName('pb-fill')[0];\n",
       "\n",
       "                  text.innerHTML = 'Simulation finished in 0:00:16.';\n",
       "                  \n",
       "            if (100.0 > 0.) {\n",
       "                fill.style.transition = 'width 0.1s linear';\n",
       "            } else {\n",
       "                fill.style.transition = 'none';\n",
       "            }\n",
       "\n",
       "            fill.style.width = '100.0%';\n",
       "            fill.style.animation = 'none';\n",
       "            fill.style.backgroundImage = 'none'\n",
       "        \n",
       "                  \n",
       "                fill.style.animation = 'none';\n",
       "                fill.style.backgroundImage = 'none';\n",
       "            \n",
       "              })();\n",
       "        "
      ],
      "text/plain": [
       "<IPython.core.display.Javascript object>"
      ]
     },
     "metadata": {},
     "output_type": "display_data"
    },
    {
     "data": {
      "text/plain": [
       "<matplotlib.legend.Legend at 0x277b7f69be0>"
      ]
     },
     "execution_count": 67,
     "metadata": {},
     "output_type": "execute_result"
    },
    {
     "data": {
      "image/png": "[encoded data removed]",
      "text/plain": [
       "<Figure size 432x288 with 1 Axes>"
      ]
     },
     "metadata": {
      "needs_background": "light"
     },
     "output_type": "display_data"
    }
   ],
   "source": [
    "p_all = np.hstack([p1, p2])\n",
    "\n",
    "model = nengo.Network()\n",
    "model.networks.append(net)\n",
    "with model:    \n",
    "    stim = nengo.Node(nengo.processes.PresentInput(p_all, presentation_time=0.001))\n",
    "    nengo.Connection(stim, rw.input, synapse=None)\n",
    "    \n",
    "    p_result = nengo.Probe(result)\n",
    "    p_stim = nengo.Probe(stim)\n",
    "sim = nengo.Simulator(model)\n",
    "sim.run(30)\n",
    "\n",
    "plt.plot(sim.trange(), sim.data[p_stim], label='input')\n",
    "plt.plot(sim.trange(), sim.data[p_result], label='output')\n",
    "plt.legend(loc='best')"
   ]
  },
  {
   "cell_type": "code",
   "execution_count": null,
   "metadata": {},
   "outputs": [],
   "source": []
  }
 ],
 "metadata": {
  "kernelspec": {
   "display_name": "Python 3",
   "language": "python",
   "name": "python3"
  },
  "language_info": {
   "codemirror_mode": {
    "name": "ipython",
    "version": 3
   },
   "file_extension": ".py",
   "mimetype": "text/x-python",
   "name": "python",
   "nbconvert_exporter": "python",
   "pygments_lexer": "ipython3",
   "version": "3.7.0"
  }
 },
 "nbformat": 4,
 "nbformat_minor": 2
}
