{
 "cells": [
  {
   "cell_type": "code",
   "execution_count": 1,
   "metadata": {},
   "outputs": [],
   "source": [
    "%matplotlib inline\n",
    "import matplotlib.pyplot as plt\n",
    "import nengo\n",
    "import nengolib\n",
    "import numpy as np\n",
    "import pandas as pd\n",
    "import scipy as sp"
   ]
  },
  {
   "cell_type": "code",
   "execution_count": 2,
   "metadata": {},
   "outputs": [],
   "source": [
    "from sklearn.decomposition import PCA\n",
    "data = pd.read_csv(\"pinsoro-2017-06-12-140651300755-small.csv\", low_memory=False)\n",
    "\n",
    "x = np.array(data.iloc[:,11:195]).astype(float)\n",
    "a = []\n",
    "for i in range(x.shape[1]):\n",
    "    y = pd.Series(x[:,i])\n",
    "    z = y.interpolate(limit_direction='both')\n",
    "    a.append(z)\n",
    "a = pd.DataFrame(a)\n",
    "a = a.dropna()\n",
    "a = np.array(a).T\n",
    "\n",
    "\n",
    "dt = 0.001\n",
    "\n",
    "def extract_pattern(start, end):\n",
    "    pattern = np.array(a[start:end,:]).astype(float)\n",
    "    frames = np.array(data.iloc[start:end,9]).astype(int)\n",
    "\n",
    "    good_indices = frames != -1\n",
    "    frames = frames[good_indices]\n",
    "    pattern = pattern[good_indices]\n",
    "\n",
    "    fps = 30.0\n",
    "    t_sample = (frames - frames[0])/fps\n",
    "\n",
    "    t = np.arange(int(t_sample[-1]/dt))*dt\n",
    "    \n",
    "    result = []\n",
    "    for i in range(pattern.shape[1]):       \n",
    "        p = np.interp(t, t_sample, pattern[:,i])\n",
    "        result.append(p)\n",
    "    result = np.array(result).T\n",
    "    \n",
    "    return t, result\n",
    "\n",
    "\n",
    "t1, result1 = extract_pattern(10175, 10280) #goaloriented\n",
    "t2, result2 = extract_pattern(22854, 23059) #noplay\n",
    "t3, result3 = extract_pattern(13811, 14182) #goaloriented\n",
    "#t4, result4 = extract_pattern(9796, 10174) #noplay \n",
    "#t5, result5 = extract_pattern(22753, 22853) #goaloriented \n",
    "t6, result6 = extract_pattern(14583, 14991) #noplay\n"
   ]
  },
  {
   "cell_type": "code",
   "execution_count": 3,
   "metadata": {},
   "outputs": [
    {
     "name": "stdout",
     "output_type": "stream",
     "text": [
      "(35999, 184)\n",
      "Cumulative explained variance: [0.48210002]\n"
     ]
    },
    {
     "data": {
      "text/plain": [
       "<matplotlib.legend.Legend at 0x26db797a518>"
      ]
     },
     "execution_count": 3,
     "metadata": {},
     "output_type": "execute_result"
    },
    {
     "data": {
      "image/png": "[encoded data removed]",
      "text/plain": [
       "<Figure size 432x288 with 1 Axes>"
      ]
     },
     "metadata": {
      "needs_background": "light"
     },
     "output_type": "display_data"
    }
   ],
   "source": [
    "nb_components=1\n",
    "train_all = np.vstack([result1, result2, result3, result6]) #result4, result5, result6])\n",
    "print(train_all.shape)\n",
    "pca_model = PCA(n_components=nb_components).fit(train_all)\n",
    "print(\"Cumulative explained variance: %s\" % pca_model.explained_variance_ratio_.cumsum())\n",
    "\n",
    "p1 = pca_model.transform(result1)[:,0]\n",
    "p2 = pca_model.transform(result2)[:,0]\n",
    "p3 = pca_model.transform(result3)[:,0]\n",
    "#p4 = pca_model.transform(result4)[:,0]\n",
    "#p5 = pca_model.transform(result5)[:,0]\n",
    "p6 = pca_model.transform(result6)[:,0]\n",
    "\n",
    "plt.plot(t1, p1, label='p1')\n",
    "plt.plot(t2, p2, label='p2')\n",
    "plt.plot(t3, p3, label='p3')\n",
    "#plt.plot(t4, p4, label='p4')\n",
    "#plt.plot(t5, p5, label='p5')\n",
    "plt.plot(t6, p6, label='p6')\n",
    "plt.legend()\n"
   ]
  },
  {
   "cell_type": "markdown",
   "metadata": {
    "collapsed": true
   },
   "source": [
    "Pattern 1 is goal oriented play. \n",
    "Pattern 2 is no-play. "
   ]
  },
  {
   "cell_type": "markdown",
   "metadata": {},
   "source": [
    "Now let's create a network that represents a rolling window in time (Aaron's \"delay network\"). The process determines what sort of pattern the network will be optimized for -- here we just go with white noise of a maximum of 3Hz.  theta determines how big the rolling window is -- here we use 0.5 seconds."
   ]
  },
  {
   "cell_type": "code",
   "execution_count": 4,
   "metadata": {},
   "outputs": [
    {
     "name": "stderr",
     "output_type": "stream",
     "text": [
      "C:\\Users\\mbartlett2\\AppData\\Local\\Continuum\\anaconda3\\lib\\site-packages\\scipy\\signal\\filter_design.py:1551: BadCoefficients: Badly conditioned filter coefficients (numerator): the results may be meaningless\n",
      "  \"results may be meaningless\", BadCoefficients)\n"
     ]
    }
   ],
   "source": [
    "theta = 1.0\n",
    "\n",
    "net = nengo.Network()\n",
    "with net:\n",
    "    process = nengo.processes.WhiteSignal(period=100., high=1.0, y0=0)\n",
    "    rw = nengolib.networks.RollingWindow(theta=theta, n_neurons=2000, process=process, neuron_type=nengo.LIFRate(tau_rc=0.02, tau_ref=0.002, amplitude=1))"
   ]
  },
  {
   "cell_type": "markdown",
   "metadata": {},
   "source": [
    "Now we need to create the training data for decoding out of the rolling window. Our patterns are larger than the rolling window, so to create our training data we will take our patterns, shift them, and cut them down to the right size. In order to then give that to nengo, we also need to project from the window's space to the internal representation space (using the inv_basis).\n",
    "\n",
    "The target array is the desired output value for each of the slices of the pattern in eval_points. We'll use 1 for pattern1 and -1 for pattern2."
   ]
  },
  {
   "cell_type": "code",
   "execution_count": 5,
   "metadata": {},
   "outputs": [
    {
     "name": "stdout",
     "output_type": "stream",
     "text": [
      "1000\n",
      "(13864, 6)\n",
      "3466\n"
     ]
    }
   ],
   "source": [
    "s_window = int(theta/dt)\n",
    "print(s_window)\n",
    "s_pattern = min(len(p1), len(p2), len(p3), len(p6)) #len(p4), len(p5), len(p6))\n",
    "\n",
    "t_window = np.linspace(0, 1, s_window)\n",
    "inv_basis = rw.inverse_basis(t_window)\n",
    "    \n",
    "eval_points=[]\n",
    "target = []\n",
    "for i in range(s_pattern):\n",
    "    eval_points.append(np.dot(inv_basis, np.roll(p1, i)[:s_window]))\n",
    "    target.append([1])\n",
    "    eval_points.append(np.dot(inv_basis, np.roll(p2, i)[:s_window]))\n",
    "    target.append([-1])\n",
    "    eval_points.append(np.dot(inv_basis, np.roll(p3, i)[:s_window]))\n",
    "    target.append([1])\n",
    "    #eval_points.append(np.dot(inv_basis, np.roll(p4, i)[:s_window]))\n",
    "    #target.append([-1])\n",
    "    #eval_points.append(np.dot(inv_basis, np.roll(p5, i)[:s_window]))\n",
    "    #target.append([1])\n",
    "    eval_points.append(np.dot(inv_basis, np.roll(p6, i)[:s_window]))\n",
    "    target.append([-1])\n",
    "    \n",
    "eval_points = np.array(eval_points)\n",
    "print(eval_points.shape)\n",
    "print(s_pattern)"
   ]
  },
  {
   "cell_type": "markdown",
   "metadata": {},
   "source": [
    "Now we can create a connection optimized to do this decoding"
   ]
  },
  {
   "cell_type": "code",
   "execution_count": 6,
   "metadata": {},
   "outputs": [],
   "source": [
    "with net:\n",
    "    result = nengo.Node(None, size_in=1)\n",
    "    nengo.Connection(rw.state, result,\n",
    "                     eval_points=eval_points, scale_eval_points=True,\n",
    "                     function=target, synapse=0.1)"
   ]
  },
  {
   "cell_type": "markdown",
   "metadata": {},
   "source": [
    "Let's try feeding in those two patterns and see what the response is"
   ]
  },
  {
   "cell_type": "code",
   "execution_count": 11,
   "metadata": {},
   "outputs": [
    {
     "name": "stderr",
     "output_type": "stream",
     "text": [
      "C:\\Users\\mbartlett2\\AppData\\Local\\Continuum\\anaconda3\\lib\\site-packages\\nengo\\utils\\numpy.py:79: FutureWarning: Using a non-tuple sequence for multidimensional indexing is deprecated; use `arr[tuple(seq)]` instead of `arr[seq]`. In the future this will be interpreted as an array index, `arr[np.array(seq)]`, which will result either in an error or a different result.\n",
      "  v = a[inds]\n",
      "C:\\Users\\mbartlett2\\AppData\\Local\\Continuum\\anaconda3\\lib\\site-packages\\nengolib\\signal\\system.py:717: UserWarning: Filtering with non-SISO systems is an experimental feature that may not behave as expected.\n",
      "  \"expected.\", UserWarning)\n"
     ]
    },
    {
     "data": {
      "text/html": [
       "\n",
       "                <div id=\"ed8351ef-fea1-4b0d-847d-6a53ace761e2\" style=\"\n",
       "                    width: 100%;\n",
       "                    border: 1px solid #cfcfcf;\n",
       "                    border-radius: 4px;\n",
       "                    text-align: center;\n",
       "                    position: relative;\">\n",
       "                  <div class=\"pb-text\" style=\"\n",
       "                      position: absolute;\n",
       "                      width: 100%;\">\n",
       "                    0%\n",
       "                  </div>\n",
       "                  <div class=\"pb-fill\" style=\"\n",
       "                      background-color: #bdd2e6;\n",
       "                      width: 0%;\">\n",
       "                    <style type=\"text/css\" scoped=\"scoped\">\n",
       "                        @keyframes pb-fill-anim {\n",
       "                            0% { background-position: 0 0; }\n",
       "                            100% { background-position: 100px 0; }\n",
       "                        }\n",
       "                    </style>\n",
       "                    &nbsp;\n",
       "                  </div>\n",
       "                </div>"
      ],
      "text/plain": [
       "HtmlProgressBar cannot be displayed. Please use the TerminalProgressBar. It can be enabled with `nengo.rc.set('progress', 'progress_bar', 'nengo.utils.progress.TerminalProgressBar')`."
      ]
     },
     "metadata": {},
     "output_type": "display_data"
    },
    {
     "data": {
      "application/javascript": [
       "\n",
       "              (function () {\n",
       "                  var root = document.getElementById('ed8351ef-fea1-4b0d-847d-6a53ace761e2');\n",
       "                  var text = root.getElementsByClassName('pb-text')[0];\n",
       "                  var fill = root.getElementsByClassName('pb-fill')[0];\n",
       "\n",
       "                  text.innerHTML = 'Build finished in 0:00:04.';\n",
       "                  \n",
       "            fill.style.width = '100%';\n",
       "            fill.style.animation = 'pb-fill-anim 2s linear infinite';\n",
       "            fill.style.backgroundSize = '100px 100%';\n",
       "            fill.style.backgroundImage = 'repeating-linear-gradient(' +\n",
       "                '90deg, #bdd2e6, #edf2f8 40%, #bdd2e6 80%, #bdd2e6)';\n",
       "        \n",
       "                  \n",
       "                fill.style.animation = 'none';\n",
       "                fill.style.backgroundImage = 'none';\n",
       "            \n",
       "              })();\n",
       "        "
      ],
      "text/plain": [
       "<IPython.core.display.Javascript object>"
      ]
     },
     "metadata": {},
     "output_type": "display_data"
    },
    {
     "data": {
      "text/html": [
       "\n",
       "                <div id=\"8e54e311-a435-49f6-a33f-c99c461d9f13\" style=\"\n",
       "                    width: 100%;\n",
       "                    border: 1px solid #cfcfcf;\n",
       "                    border-radius: 4px;\n",
       "                    text-align: center;\n",
       "                    position: relative;\">\n",
       "                  <div class=\"pb-text\" style=\"\n",
       "                      position: absolute;\n",
       "                      width: 100%;\">\n",
       "                    0%\n",
       "                  </div>\n",
       "                  <div class=\"pb-fill\" style=\"\n",
       "                      background-color: #bdd2e6;\n",
       "                      width: 0%;\">\n",
       "                    <style type=\"text/css\" scoped=\"scoped\">\n",
       "                        @keyframes pb-fill-anim {\n",
       "                            0% { background-position: 0 0; }\n",
       "                            100% { background-position: 100px 0; }\n",
       "                        }\n",
       "                    </style>\n",
       "                    &nbsp;\n",
       "                  </div>\n",
       "                </div>"
      ],
      "text/plain": [
       "HtmlProgressBar cannot be displayed. Please use the TerminalProgressBar. It can be enabled with `nengo.rc.set('progress', 'progress_bar', 'nengo.utils.progress.TerminalProgressBar')`."
      ]
     },
     "metadata": {},
     "output_type": "display_data"
    },
    {
     "data": {
      "application/javascript": [
       "\n",
       "              (function () {\n",
       "                  var root = document.getElementById('8e54e311-a435-49f6-a33f-c99c461d9f13');\n",
       "                  var text = root.getElementsByClassName('pb-text')[0];\n",
       "                  var fill = root.getElementsByClassName('pb-fill')[0];\n",
       "\n",
       "                  text.innerHTML = 'Simulation finished in 0:00:08.';\n",
       "                  \n",
       "            if (100.0 > 0.) {\n",
       "                fill.style.transition = 'width 0.1s linear';\n",
       "            } else {\n",
       "                fill.style.transition = 'none';\n",
       "            }\n",
       "\n",
       "            fill.style.width = '100.0%';\n",
       "            fill.style.animation = 'none';\n",
       "            fill.style.backgroundImage = 'none'\n",
       "        \n",
       "                  \n",
       "                fill.style.animation = 'none';\n",
       "                fill.style.backgroundImage = 'none';\n",
       "            \n",
       "              })();\n",
       "        "
      ],
      "text/plain": [
       "<IPython.core.display.Javascript object>"
      ]
     },
     "metadata": {},
     "output_type": "display_data"
    },
    {
     "data": {
      "text/plain": [
       "<matplotlib.legend.Legend at 0x26d8037e908>"
      ]
     },
     "execution_count": 11,
     "metadata": {},
     "output_type": "execute_result"
    },
    {
     "data": {
      "image/png": "[encoded data removed]",
      "text/plain": [
       "<Figure size 432x288 with 1 Axes>"
      ]
     },
     "metadata": {
      "needs_background": "light"
     },
     "output_type": "display_data"
    }
   ],
   "source": [
    "p_all = np.hstack([p1, p2, p3, p6]) #p4, p5, p6])\n",
    "\n",
    "presentation_time_train=0.00063\n",
    "\n",
    "model = nengo.Network()\n",
    "model.networks.append(net)\n",
    "with model:    \n",
    "    stim = nengo.Node(nengo.processes.PresentInput(p_all, presentation_time=presentation_time_train))\n",
    "    nengo.Connection(stim, rw.input, synapse=None)\n",
    "    \n",
    "    p_result = nengo.Probe(result)\n",
    "    p_stim = nengo.Probe(stim)\n",
    "sim = nengo.Simulator(model)\n",
    "sim.run(30)\n",
    "\n",
    "plt.plot(sim.trange(), sim.data[p_stim], label='input')\n",
    "plt.plot(sim.trange(), sim.data[p_result], label='output')\n",
    "plt.legend(loc='best')"
   ]
  },
  {
   "cell_type": "code",
   "execution_count": 12,
   "metadata": {},
   "outputs": [
    {
     "name": "stdout",
     "output_type": "stream",
     "text": [
      "Goal Oriented Mean:    0.9639393448217711  SD:  0.15298761445372652  Median:  0.996623122102782\n",
      "No Play Mean:          0.4445018956393543  SD:  0.1752607293859638  Median:  0.38861219871930236\n",
      "Goal Oriented Mean:    0.7111383745818742  SD:  0.583540240793423  Median:  0.9977950078507382\n",
      "No Play Mean:          -0.6114896348610275  SD:  0.6914793129318589  Median:  -0.9711820987808716\n"
     ]
    }
   ],
   "source": [
    "p1_len = int(len(p1)*presentation_time_train/dt)\n",
    "p2_len = p1_len+int(len(p2)*presentation_time_train/dt)\n",
    "p3_len = p2_len+int(len(p3)*presentation_time_train/dt)\n",
    "#p4_len = p3_len+int(len(p4)*presentation_time_train/dt)\n",
    "#p5_len = p4_len+int(len(p5)*presentation_time_train/dt)\n",
    "p6_len = p3_len+int(len(p6)*presentation_time_train/dt) #p5_len+int(len(p6)*presentation_time_train/dt)\n",
    "\n",
    "mean1 = np.mean(sim.data[p_result][0:p1_len])\n",
    "std1 = np.std(sim.data[p_result][0:p1_len])\n",
    "median1 = np.median(sim.data[p_result][0:p1_len])\n",
    "mean2 = np.mean(sim.data[p_result][p1_len:p2_len])\n",
    "std2 = np.std(sim.data[p_result][p1_len:p2_len])\n",
    "median2 = np.median(sim.data[p_result][p1_len:p2_len])\n",
    "mean3 = np.mean(sim.data[p_result][p2_len:p3_len])\n",
    "std3 = np.std(sim.data[p_result][p2_len:p3_len])\n",
    "median3 = np.median(sim.data[p_result][p2_len:p3_len])\n",
    "#mean4 = np.mean(sim.data[p_result][p3_len:p4_len])\n",
    "#std4 = np.std(sim.data[p_result][p3_len:p4_len])\n",
    "#median4 = np.median(sim.data[p_result][p3_len:p4_len])\n",
    "#mean5 = np.mean(sim.data[p_result][p4_len:p5_len])\n",
    "#std5 = np.std(sim.data[p_result][p4_len:p5_len])\n",
    "#median5 = np.median(sim.data[p_result][p4_len:p5_len])\n",
    "mean6 = np.mean(sim.data[p_result][p3_len:p6_len]) #[p5_len:p6_len])\n",
    "std6 = np.std(sim.data[p_result][p3_len:p6_len]) #[p5_len:p6_len])\n",
    "median6 = np.median(sim.data[p_result][p3_len:p6_len]) #[p5_len:p6_len])\n",
    "\n",
    "print(\"Goal Oriented Mean:   \",mean1,\" SD: \",std1,\" Median: \",median1)\n",
    "print(\"No Play Mean:         \",mean2,\" SD: \",std2,\" Median: \",median2)\n",
    "print(\"Goal Oriented Mean:   \",mean3,\" SD: \",std3,\" Median: \",median3)\n",
    "#print(\"No Play Mean:         \",mean4,\" SD: \",std4,\" Median: \",median4)\n",
    "#print(\"Goal Oriented Mean:   \",mean5,\" SD: \",std5,\" Median: \",median5)\n",
    "print(\"No Play Mean:         \",mean6,\" SD: \",std6,\" Median: \",median6)\n"
   ]
  },
  {
   "cell_type": "markdown",
   "metadata": {},
   "source": [
    "And now we test with \"aimless\" patterns."
   ]
  },
  {
   "cell_type": "code",
   "execution_count": 9,
   "metadata": {},
   "outputs": [
    {
     "data": {
      "text/plain": [
       "<matplotlib.legend.Legend at 0x1e71a860c88>"
      ]
     },
     "execution_count": 9,
     "metadata": {},
     "output_type": "execute_result"
    },
    {
     "data": {
      "image/png": "[encoded data removed]",
      "text/plain": [
       "<Figure size 432x288 with 1 Axes>"
      ]
     },
     "metadata": {
      "needs_background": "light"
     },
     "output_type": "display_data"
    }
   ],
   "source": [
    "t7, result7 = extract_pattern(8684, 8990) #aimless\n",
    "t8, result8 = extract_pattern(10464, 10822) #aimless\n",
    "t9, result9 = extract_pattern(13062, 13810) #aimless\n",
    "\n",
    "testp1 = pca_model.transform(result7)[:,0]\n",
    "testp2 = pca_model.transform(result8)[:,0]\n",
    "testp3 = pca_model.transform(result9)[:,0]\n",
    "\n",
    "plt.plot(t7, testp1, label='testp1')\n",
    "plt.plot(t8, testp2, label='testp2')\n",
    "plt.plot(t9, testp3, label='testp3')\n",
    "\n",
    "plt.legend()"
   ]
  },
  {
   "cell_type": "code",
   "execution_count": 13,
   "metadata": {
    "scrolled": false
   },
   "outputs": [
    {
     "name": "stderr",
     "output_type": "stream",
     "text": [
      "C:\\Users\\mbartlett2\\AppData\\Local\\Continuum\\anaconda3\\lib\\site-packages\\nengo\\utils\\numpy.py:79: FutureWarning: Using a non-tuple sequence for multidimensional indexing is deprecated; use `arr[tuple(seq)]` instead of `arr[seq]`. In the future this will be interpreted as an array index, `arr[np.array(seq)]`, which will result either in an error or a different result.\n",
      "  v = a[inds]\n",
      "C:\\Users\\mbartlett2\\AppData\\Local\\Continuum\\anaconda3\\lib\\site-packages\\nengolib\\signal\\system.py:717: UserWarning: Filtering with non-SISO systems is an experimental feature that may not behave as expected.\n",
      "  \"expected.\", UserWarning)\n"
     ]
    },
    {
     "data": {
      "text/html": [
       "\n",
       "                <div id=\"feca65e6-e993-4af2-b478-840d86431a79\" style=\"\n",
       "                    width: 100%;\n",
       "                    border: 1px solid #cfcfcf;\n",
       "                    border-radius: 4px;\n",
       "                    text-align: center;\n",
       "                    position: relative;\">\n",
       "                  <div class=\"pb-text\" style=\"\n",
       "                      position: absolute;\n",
       "                      width: 100%;\">\n",
       "                    0%\n",
       "                  </div>\n",
       "                  <div class=\"pb-fill\" style=\"\n",
       "                      background-color: #bdd2e6;\n",
       "                      width: 0%;\">\n",
       "                    <style type=\"text/css\" scoped=\"scoped\">\n",
       "                        @keyframes pb-fill-anim {\n",
       "                            0% { background-position: 0 0; }\n",
       "                            100% { background-position: 100px 0; }\n",
       "                        }\n",
       "                    </style>\n",
       "                    &nbsp;\n",
       "                  </div>\n",
       "                </div>"
      ],
      "text/plain": [
       "HtmlProgressBar cannot be displayed. Please use the TerminalProgressBar. It can be enabled with `nengo.rc.set('progress', 'progress_bar', 'nengo.utils.progress.TerminalProgressBar')`."
      ]
     },
     "metadata": {},
     "output_type": "display_data"
    },
    {
     "data": {
      "application/javascript": [
       "\n",
       "              (function () {\n",
       "                  var root = document.getElementById('feca65e6-e993-4af2-b478-840d86431a79');\n",
       "                  var text = root.getElementsByClassName('pb-text')[0];\n",
       "                  var fill = root.getElementsByClassName('pb-fill')[0];\n",
       "\n",
       "                  text.innerHTML = 'Build finished in 0:00:08.';\n",
       "                  \n",
       "            fill.style.width = '100%';\n",
       "            fill.style.animation = 'pb-fill-anim 2s linear infinite';\n",
       "            fill.style.backgroundSize = '100px 100%';\n",
       "            fill.style.backgroundImage = 'repeating-linear-gradient(' +\n",
       "                '90deg, #bdd2e6, #edf2f8 40%, #bdd2e6 80%, #bdd2e6)';\n",
       "        \n",
       "                  \n",
       "                fill.style.animation = 'none';\n",
       "                fill.style.backgroundImage = 'none';\n",
       "            \n",
       "              })();\n",
       "        "
      ],
      "text/plain": [
       "<IPython.core.display.Javascript object>"
      ]
     },
     "metadata": {},
     "output_type": "display_data"
    },
    {
     "data": {
      "text/html": [
       "\n",
       "                <div id=\"983bb1f5-5828-4785-b095-d5603f0ac746\" style=\"\n",
       "                    width: 100%;\n",
       "                    border: 1px solid #cfcfcf;\n",
       "                    border-radius: 4px;\n",
       "                    text-align: center;\n",
       "                    position: relative;\">\n",
       "                  <div class=\"pb-text\" style=\"\n",
       "                      position: absolute;\n",
       "                      width: 100%;\">\n",
       "                    0%\n",
       "                  </div>\n",
       "                  <div class=\"pb-fill\" style=\"\n",
       "                      background-color: #bdd2e6;\n",
       "                      width: 0%;\">\n",
       "                    <style type=\"text/css\" scoped=\"scoped\">\n",
       "                        @keyframes pb-fill-anim {\n",
       "                            0% { background-position: 0 0; }\n",
       "                            100% { background-position: 100px 0; }\n",
       "                        }\n",
       "                    </style>\n",
       "                    &nbsp;\n",
       "                  </div>\n",
       "                </div>"
      ],
      "text/plain": [
       "HtmlProgressBar cannot be displayed. Please use the TerminalProgressBar. It can be enabled with `nengo.rc.set('progress', 'progress_bar', 'nengo.utils.progress.TerminalProgressBar')`."
      ]
     },
     "metadata": {},
     "output_type": "display_data"
    },
    {
     "data": {
      "application/javascript": [
       "\n",
       "              (function () {\n",
       "                  var root = document.getElementById('983bb1f5-5828-4785-b095-d5603f0ac746');\n",
       "                  var text = root.getElementsByClassName('pb-text')[0];\n",
       "                  var fill = root.getElementsByClassName('pb-fill')[0];\n",
       "\n",
       "                  text.innerHTML = 'Simulation finished in 0:00:12.';\n",
       "                  \n",
       "            if (100.0 > 0.) {\n",
       "                fill.style.transition = 'width 0.1s linear';\n",
       "            } else {\n",
       "                fill.style.transition = 'none';\n",
       "            }\n",
       "\n",
       "            fill.style.width = '100.0%';\n",
       "            fill.style.animation = 'none';\n",
       "            fill.style.backgroundImage = 'none'\n",
       "        \n",
       "                  \n",
       "                fill.style.animation = 'none';\n",
       "                fill.style.backgroundImage = 'none';\n",
       "            \n",
       "              })();\n",
       "        "
      ],
      "text/plain": [
       "<IPython.core.display.Javascript object>"
      ]
     },
     "metadata": {},
     "output_type": "display_data"
    },
    {
     "data": {
      "text/plain": [
       "<matplotlib.legend.Legend at 0x1e705e3cc50>"
      ]
     },
     "execution_count": 13,
     "metadata": {},
     "output_type": "execute_result"
    },
    {
     "data": {
      "image/png": "[encoded data removed]",
      "text/plain": [
       "<Figure size 432x288 with 1 Axes>"
      ]
     },
     "metadata": {
      "needs_background": "light"
     },
     "output_type": "display_data"
    }
   ],
   "source": [
    "testp = testp2\n",
    "p_all = np.hstack([p1, testp, p4])\n",
    "\n",
    "presentation_time_test=30/len(p_all)\n",
    "\n",
    "model = nengo.Network()\n",
    "model.networks.append(net)\n",
    "with model:    \n",
    "    stim = nengo.Node(nengo.processes.PresentInput(p_all, presentation_time=presentation_time_test))\n",
    "    nengo.Connection(stim, rw.input, synapse=None)\n",
    "    \n",
    "    p_result = nengo.Probe(result)\n",
    "    p_stim = nengo.Probe(stim)\n",
    "sim = nengo.Simulator(model)\n",
    "sim.run(30)\n",
    "\n",
    "plt.plot(sim.trange(), sim.data[p_stim], label='input')\n",
    "plt.plot(sim.trange(), sim.data[p_result], label='output')\n",
    "plt.legend(loc='best')"
   ]
  },
  {
   "cell_type": "code",
   "execution_count": 11,
   "metadata": {},
   "outputs": [
    {
     "name": "stdout",
     "output_type": "stream",
     "text": [
      "Goal Oriented Mean:    0.5004183659583286  SD:  0.341508669012762  Median:  0.5788720962219731\n",
      "Aimless Mean:          0.41110226923493953  SD:  0.8850537138043589  Median:  0.41074014399514114\n",
      "No Play Mean:          -0.09785204953636993  SD:  0.4878279118785149  Median:  0.1147368953702407\n"
     ]
    }
   ],
   "source": [
    "p1_len = int(len(p1)*presentation_time_test/dt)\n",
    "testp_len = p1_len+int(len(testp)*presentation_time_test/dt)\n",
    "p4_len = testp_len+int(len(p4)*presentation_time_test/dt)\n",
    "\n",
    "mean1 = np.mean(sim.data[p_result][0:p1_len])\n",
    "std1 = np.std(sim.data[p_result][0:p1_len])\n",
    "median1 = np.median(sim.data[p_result][0:p1_len])\n",
    "\n",
    "mean2 = np.mean(sim.data[p_result][p1_len:testp_len])\n",
    "std2 = np.std(sim.data[p_result][p1_len:testp_len])\n",
    "median2 = np.median(sim.data[p_result][p1_len:testp_len])\n",
    "\n",
    "mean3 = np.mean(sim.data[p_result][testp_len:p4_len])\n",
    "std3 = np.std(sim.data[p_result][testp_len:p4_len])\n",
    "median3 = np.median(sim.data[p_result][testp_len:p4_len])\n",
    "\n",
    "print(\"Goal Oriented Mean:   \",mean1,\" SD: \",std1,\" Median: \",median1)\n",
    "print(\"Aimless Mean:         \",mean2,\" SD: \",std2,\" Median: \",median2)\n",
    "print(\"No Play Mean:         \",mean3,\" SD: \",std3,\" Median: \",median3)\n"
   ]
  },
  {
   "cell_type": "code",
   "execution_count": 12,
   "metadata": {},
   "outputs": [
    {
     "name": "stdout",
     "output_type": "stream",
     "text": [
      "27865\n"
     ]
    }
   ],
   "source": [
    "print(len(p_all))"
   ]
  },
  {
   "cell_type": "code",
   "execution_count": null,
   "metadata": {},
   "outputs": [],
   "source": []
  },
  {
   "cell_type": "code",
   "execution_count": null,
   "metadata": {},
   "outputs": [],
   "source": []
  }
 ],
 "metadata": {
  "kernelspec": {
   "display_name": "Python 3",
   "language": "python",
   "name": "python3"
  },
  "language_info": {
   "codemirror_mode": {
    "name": "ipython",
    "version": 3
   },
   "file_extension": ".py",
   "mimetype": "text/x-python",
   "name": "python",
   "nbconvert_exporter": "python",
   "pygments_lexer": "ipython3",
   "version": "3.7.0"
  }
 },
 "nbformat": 4,
 "nbformat_minor": 2
}
