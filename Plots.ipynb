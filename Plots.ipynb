{
 "cells": [
  {
   "cell_type": "code",
   "execution_count": null,
   "metadata": {},
   "outputs": [],
   "source": [
    "import pandas as pd\n",
    "import seaborn as sns\n",
    "import numpy as np\n",
    "import pytry\n",
    "import matplotlib.pyplot as plt\n",
    "import scipy.stats as stats"
   ]
  },
  {
   "cell_type": "markdown",
   "metadata": {},
   "source": [
    "# Dimensions Experiment"
   ]
  },
  {
   "cell_type": "code",
   "execution_count": null,
   "metadata": {},
   "outputs": [],
   "source": [
    "data_dims = pd.DataFrame(pytry.read('ICCM_dims'))\n",
    "#data_dims"
   ]
  },
  {
   "cell_type": "code",
   "execution_count": null,
   "metadata": {},
   "outputs": [],
   "source": [
    "result_dims = pd.DataFrame({'training (80%)': pd.concat([data_dims.classify_train]), 'testing (20%)': pd.concat([data_dims.classify_test]), 'aimless': pd.concat([data_dims.classify_aim])})\n",
    "#result_dims"
   ]
  },
  {
   "cell_type": "markdown",
   "metadata": {},
   "source": [
    "Now let's look at how well the system did on each data set."
   ]
  },
  {
   "cell_type": "code",
   "execution_count": null,
   "metadata": {},
   "outputs": [],
   "source": [
    "errors = result_dims.std()\n",
    "ax = result_dims.mean().plot(kind='bar', yerr=errors)\n",
    "ax.set_ylabel(\"Classification Accuracy (mean)\")\n",
    "ax.set_xlabel(\"Classification Test\")"
   ]
  },
  {
   "cell_type": "code",
   "execution_count": null,
   "metadata": {},
   "outputs": [],
   "source": [
    "print('Mean Accuracy Training Patterns: ', (result_dims[\"training (80%)\"].mean())*100)\n",
    "print('Mean Accuracy Testing Patterns: ', (result_dims[\"testing (20%)\"].mean())*100)\n",
    "print('Mean Accuracy Aimless Patterns: ', (result_dims[\"aimless\"].mean())*100)"
   ]
  },
  {
   "cell_type": "code",
   "execution_count": null,
   "metadata": {},
   "outputs": [],
   "source": [
    "errors"
   ]
  },
  {
   "cell_type": "markdown",
   "metadata": {},
   "source": [
    "Next we look at whether the number of dimensions had an effect on accuracy of classification."
   ]
  },
  {
   "cell_type": "code",
   "execution_count": null,
   "metadata": {},
   "outputs": [],
   "source": [
    "by_dim = data_dims.groupby(['n_dims'])['classify_train','classify_test','classify_aim'].mean()\n",
    "by_dim_errors = data_dims.groupby(['n_dims'])['classify_train','classify_test','classify_aim'].std()\n",
    "\n",
    "bx = by_dim.plot(kind='bar', yerr=by_dim_errors, figsize=(11,8)) #plot\n",
    "bx.set_ylabel(\"Classification Accuracy (mean)\")\n",
    "bx.set_xlabel(\"Number of Dimensions\")"
   ]
  },
  {
   "cell_type": "code",
   "execution_count": null,
   "metadata": {},
   "outputs": [],
   "source": [
    "by_dim"
   ]
  },
  {
   "cell_type": "code",
   "execution_count": null,
   "metadata": {},
   "outputs": [],
   "source": [
    "by_dim_errors"
   ]
  },
  {
   "cell_type": "code",
   "execution_count": null,
   "metadata": {},
   "outputs": [],
   "source": [
    "stats.f_oneway(data_dims['classify_train'][data_dims['n_dims'] == 1], \n",
    "             data_dims['classify_train'][data_dims['n_dims'] == 2],\n",
    "             data_dims['classify_train'][data_dims['n_dims'] == 3],\n",
    "             data_dims['classify_train'][data_dims['n_dims'] == 4])"
   ]
  },
  {
   "cell_type": "code",
   "execution_count": null,
   "metadata": {},
   "outputs": [],
   "source": [
    "import statsmodels.api as sm\n",
    "from statsmodels.formula.api import ols\n",
    " \n",
    "mod = ols('classify_train ~ n_dims',\n",
    "                data=data_dims).fit()\n",
    "                \n",
    "aov_table = sm.stats.anova_lm(mod, typ=2)\n",
    "print(aov_table)"
   ]
  },
  {
   "cell_type": "code",
   "execution_count": null,
   "metadata": {},
   "outputs": [],
   "source": [
    "effect_size = aov_table['sum_sq'][0]/(aov_table['sum_sq'][0]+aov_table['sum_sq'][1]) #eta squared\n",
    "effect_size"
   ]
  },
  {
   "cell_type": "code",
   "execution_count": null,
   "metadata": {},
   "outputs": [],
   "source": [
    "from statsmodels.stats.multicomp import pairwise_tukeyhsd\n",
    "from statsmodels.stats.multicomp import MultiComparison\n",
    "\n",
    "mc = MultiComparison(data_dims['classify_train'], data_dims['n_dims'])\n",
    "mc_results = mc.tukeyhsd()\n",
    "print(mc_results)"
   ]
  },
  {
   "cell_type": "markdown",
   "metadata": {},
   "source": [
    "Histogram plots of the actual classification outputs for each pattern type. \n",
    "**Note**: this is across the whole experiment."
   ]
  },
  {
   "cell_type": "code",
   "execution_count": null,
   "metadata": {},
   "outputs": [],
   "source": [
    "gtrx = pd.DataFrame({'goal_train': pd.concat([eval('data_dims.accuracy_train%d' % i) for i in range(100)])})\n",
    "\n",
    "gtsx = pd.DataFrame({'goal_test': pd.concat([eval('data_dims.accuracy_test%d' % i) for i in range(100)])})\n",
    "\n",
    "ntrx = pd.DataFrame({'noplay_train': pd.concat([eval('data_dims.accuracy_train%d' % i) for i in range(100,200)])})\n",
    "\n",
    "ntsx = pd.DataFrame({'noplay_test': pd.concat([eval('data_dims.accuracy_test%d' % i) for i in range(100,200)])}) \n",
    "\n",
    "ax = pd.DataFrame({'aimless': pd.concat([eval('data_dims.accuracy_aim%d' % i) for i in range(100)])})"
   ]
  },
  {
   "cell_type": "code",
   "execution_count": null,
   "metadata": {},
   "outputs": [],
   "source": [
    "goal_train = []\n",
    "for i in range(len(gtrx)):\n",
    "    a = gtrx.iloc[i].values\n",
    "    b = np.concatenate(a).ravel().tolist()\n",
    "    goal_train.append(b)\n",
    "goal_train = np.asarray(goal_train)\n",
    "\n",
    "goal_test = []\n",
    "for i in range(len(gtsx)):\n",
    "    a = gtsx.iloc[i].values\n",
    "    b = np.concatenate(a).ravel().tolist()\n",
    "    goal_test.append(b)\n",
    "goal_test = np.asarray(goal_test)\n",
    "\n",
    "noplay_train = []\n",
    "for i in range(len(ntrx)):\n",
    "    a = ntrx.iloc[i].values\n",
    "    b = np.concatenate(a).ravel().tolist()\n",
    "    noplay_train.append(b)\n",
    "noplay_train = np.asarray(noplay_train)\n",
    "\n",
    "noplay_test = []\n",
    "for i in range(len(ntsx)):\n",
    "    a = ntsx.iloc[i].values\n",
    "    b = np.concatenate(a).ravel().tolist()\n",
    "    noplay_test.append(b)\n",
    "noplay_test = np.asarray(noplay_test)\n",
    "\n",
    "aimless = []\n",
    "for i in range(len(ax)):\n",
    "    a = ax.iloc[i].values\n",
    "    b = np.concatenate(a).ravel().tolist()\n",
    "    aimless.append(b)\n",
    "aimless = np.asarray(aimless)"
   ]
  },
  {
   "cell_type": "code",
   "execution_count": null,
   "metadata": {},
   "outputs": [],
   "source": [
    "#bins=[-4, -3.5, -3, -2.5, -2, -1.5, -1, 0, 1, 1.5, 2, 2.5, 3, 3.5, 4]\n",
    "#bins=[-2.5, -2, -1.5, -1, 0, 1, 1.5, 2, 2.5]\n",
    "#bins=[-1.5, -1.25, -1, -0.75, -0.5, -0.25, 0, 0.25, 0.5, 0.75, 1, 1.25, 1.5]\n",
    "#bins=np.arange(min(aimless), max(aimless) + 0.25, 0.25)\n",
    "bins=np.arange(-2, 2 + 0.25, 0.25)\n",
    "plt.hist(goal_train, bins=bins, rwidth=0.95, alpha=0.65, label='goal train')\n",
    "plt.hist(goal_test, bins=bins, rwidth=0.95, alpha=0.65, label='goal test')\n",
    "plt.legend(loc='upper right')\n"
   ]
  },
  {
   "cell_type": "code",
   "execution_count": null,
   "metadata": {},
   "outputs": [],
   "source": [
    "plt.hist(noplay_train, bins=bins, rwidth=0.95, alpha=0.65, label='noplay train')\n",
    "plt.hist(noplay_test, bins=bins, rwidth=0.95, alpha=0.65, label='noplay test')\n",
    "plt.legend(loc='upper right')"
   ]
  },
  {
   "cell_type": "code",
   "execution_count": null,
   "metadata": {},
   "outputs": [],
   "source": [
    "plt.hist(aimless, bins=bins, rwidth=0.95, alpha=0.5, label='aimless test')"
   ]
  },
  {
   "cell_type": "code",
   "execution_count": null,
   "metadata": {},
   "outputs": [],
   "source": [
    "plt.hist(goal_test, bins=bins, rwidth=0.95, alpha=0.5, label='goal train', histtype=u'step')\n",
    "plt.hist(aimless, bins=bins, rwidth=0.95, alpha=0.5, label='aimless test', histtype=u'step')\n",
    "plt.hist(noplay_test, bins=bins, rwidth=0.95, alpha=0.5, label='noplay test', histtype=u'step')\n",
    "plt.legend(loc='upper right')"
   ]
  },
  {
   "cell_type": "markdown",
   "metadata": {},
   "source": [
    "Now we want histogram plots for each dimension condition."
   ]
  },
  {
   "cell_type": "code",
   "execution_count": null,
   "metadata": {},
   "outputs": [],
   "source": [
    "goaltrain1 = goal_train[0::4]\n",
    "goaltrain2 = goal_train[1::4]\n",
    "goaltrain3 = goal_train[2::4]\n",
    "goaltrain4 = goal_train[3::4]"
   ]
  },
  {
   "cell_type": "code",
   "execution_count": null,
   "metadata": {},
   "outputs": [],
   "source": [
    "f, (ax1, ax2, ax3, ax4) = plt.subplots(1, 4, sharey=True, figsize=(15, 4))\n",
    "f.suptitle('Classification of Goal Training Patterns in each Dimension Condition')\n",
    "ax1.hist(goaltrain1, bins=bins, rwidth=0.95, alpha=0.5, label='1 input dim')\n",
    "ax1.set_title('1 input dim')\n",
    "ax2.hist(goaltrain2, bins=bins, rwidth=0.95, alpha=0.5, label='2 input dims')\n",
    "ax2.set_title('2 input dims')\n",
    "ax3.hist(goaltrain3, bins=bins, rwidth=0.95, alpha=0.5, label='3 input dims')\n",
    "ax3.set_title('3 input dims')\n",
    "ax4.hist(goaltrain4, bins=bins, rwidth=0.95, alpha=0.5, label='4 input dims')\n",
    "ax4.set_title('4 input dims')"
   ]
  },
  {
   "cell_type": "code",
   "execution_count": null,
   "metadata": {},
   "outputs": [],
   "source": [
    "goaltest1 = goal_test[0::4]\n",
    "goaltest2 = goal_test[1::4]\n",
    "goaltest3 = goal_test[2::4]\n",
    "goaltest4 = goal_test[3::4]"
   ]
  },
  {
   "cell_type": "code",
   "execution_count": null,
   "metadata": {},
   "outputs": [],
   "source": [
    "f, (ax1, ax2, ax3, ax4) = plt.subplots(1, 4, sharey=True, figsize=(15, 4))\n",
    "f.suptitle('Classification of Goal Testing Patterns in each Dimension Condition')\n",
    "ax1.hist(goaltest1, bins=bins, rwidth=0.95, alpha=0.5, label='1 input dim')\n",
    "ax1.set_title('1 input dim')\n",
    "ax2.hist(goaltest2, bins=bins, rwidth=0.95, alpha=0.5, label='2 input dims')\n",
    "ax2.set_title('2 input dims')\n",
    "ax3.hist(goaltest3, bins=bins, rwidth=0.95, alpha=0.5, label='3 input dims')\n",
    "ax3.set_title('3 input dims')\n",
    "ax4.hist(goaltest4, bins=bins, rwidth=0.95, alpha=0.5, label='4 input dims')\n",
    "ax4.set_title('4 input dims')"
   ]
  },
  {
   "cell_type": "code",
   "execution_count": null,
   "metadata": {},
   "outputs": [],
   "source": [
    "noplaytrain1 = noplay_train[0::4]\n",
    "noplaytrain2 = noplay_train[1::4]\n",
    "noplaytrain3 = noplay_train[2::4]\n",
    "noplaytrain4 = noplay_train[3::4]"
   ]
  },
  {
   "cell_type": "code",
   "execution_count": null,
   "metadata": {},
   "outputs": [],
   "source": [
    "f, (ax1, ax2, ax3, ax4) = plt.subplots(1, 4, sharey=True, figsize=(15, 4))\n",
    "f.suptitle('Classification of No Play Training Patterns in each Dimension Condition')\n",
    "ax1.hist(noplaytrain1, bins=bins, rwidth=0.95, alpha=0.5, label='1 input dim')\n",
    "ax1.set_title('1 input dim')\n",
    "ax2.hist(noplaytrain2, bins=bins, rwidth=0.95, alpha=0.5, label='2 input dims')\n",
    "ax2.set_title('2 input dims')\n",
    "ax3.hist(noplaytrain3, bins=bins, rwidth=0.95, alpha=0.5, label='3 input dims')\n",
    "ax3.set_title('3 input dims')\n",
    "ax4.hist(noplaytrain4, bins=bins, rwidth=0.95, alpha=0.5, label='4 input dims')\n",
    "ax4.set_title('4 input dims')"
   ]
  },
  {
   "cell_type": "code",
   "execution_count": null,
   "metadata": {},
   "outputs": [],
   "source": [
    "noplaytest1 = noplay_test[0::4]\n",
    "noplaytest2 = noplay_test[1::4]\n",
    "noplaytest3 = noplay_test[2::4]\n",
    "noplaytest4 = noplay_test[3::4]"
   ]
  },
  {
   "cell_type": "code",
   "execution_count": null,
   "metadata": {},
   "outputs": [],
   "source": [
    "f, (ax1, ax2, ax3, ax4) = plt.subplots(1, 4, sharey=True, figsize=(15, 4))\n",
    "f.suptitle('Classification of No Play Testing Patterns in each Dimension Condition')\n",
    "ax1.hist(noplaytest1, bins=bins, rwidth=0.95, alpha=0.5, label='1 input dim')\n",
    "ax1.set_title('1 input dim')\n",
    "ax2.hist(noplaytest2, bins=bins, rwidth=0.95, alpha=0.5, label='2 input dims')\n",
    "ax2.set_title('2 input dims')\n",
    "ax3.hist(noplaytest3, bins=bins, rwidth=0.95, alpha=0.5, label='3 input dims')\n",
    "ax3.set_title('3 input dims')\n",
    "ax4.hist(noplaytest4, bins=bins, rwidth=0.95, alpha=0.5, label='4 input dims')\n",
    "ax4.set_title('4 input dims')"
   ]
  },
  {
   "cell_type": "code",
   "execution_count": null,
   "metadata": {},
   "outputs": [],
   "source": [
    "aimless1 = aimless[0::4]\n",
    "aimless2 = aimless[1::4]\n",
    "aimless3 = aimless[2::4]\n",
    "aimless4 = aimless[3::4]"
   ]
  },
  {
   "cell_type": "code",
   "execution_count": null,
   "metadata": {
    "scrolled": true
   },
   "outputs": [],
   "source": [
    "f, (ax1, ax2, ax3, ax4) = plt.subplots(1, 4, sharey=True, figsize=(15, 4))\n",
    "f.suptitle('Classification of Aimless Patterns in each Dimension Condition')\n",
    "ax1.hist(aimless1, bins=bins, rwidth=0.95, alpha=0.5, label='1 input dim')\n",
    "ax1.set_title('1 input dim')\n",
    "ax2.hist(aimless2, bins=bins, rwidth=0.95, alpha=0.5, label='2 input dims')\n",
    "ax2.set_title('2 input dims')\n",
    "ax3.hist(aimless3, bins=bins, rwidth=0.95, alpha=0.5, label='3 input dims')\n",
    "ax3.set_title('3 input dims')\n",
    "ax4.hist(aimless4, bins=bins, rwidth=0.95, alpha=0.5, label='4 input dims')\n",
    "ax4.set_title('4 input dims')"
   ]
  },
  {
   "cell_type": "markdown",
   "metadata": {},
   "source": [
    "Bar charts reporting Average Classification Score for each Pattern Type."
   ]
  },
  {
   "cell_type": "code",
   "execution_count": null,
   "metadata": {},
   "outputs": [],
   "source": [
    "goal_train_class = pd.DataFrame({'1':goaltrain1[:,0],\n",
    "                          '2':goaltrain2[:,0],\n",
    "                          '3':goaltrain3[:,0],\n",
    "                          '4':goaltrain4[:,0]})\n",
    "goal_test_class = pd.DataFrame({'1':goaltest1[:,0],\n",
    "                          '2':goaltest2[:,0],\n",
    "                          '3':goaltest3[:,0],\n",
    "                          '4':goaltest4[:,0]})\n",
    "noplay_train_class = pd.DataFrame({'1':noplaytrain1[:,0],\n",
    "                          '2':noplaytrain2[:,0],\n",
    "                          '3':noplaytrain3[:,0],\n",
    "                          '4':noplaytrain4[:,0]})\n",
    "noplay_test_class = pd.DataFrame({'1':noplaytest1[:,0],\n",
    "                          '2':noplaytest2[:,0],\n",
    "                          '3':noplaytest3[:,0],\n",
    "                          '4':noplaytest4[:,0]})\n",
    "aimless_class = pd.DataFrame({'1':aimless1[:,0],\n",
    "                          '2':aimless2[:,0],\n",
    "                          '3':aimless3[:,0],\n",
    "                          '4':aimless4[:,0]})\n",
    "\n",
    "errorsgtr = goal_train_class.std()\n",
    "errorsgts = goal_test_class.std()\n",
    "errorsntr = noplay_train_class.std()\n",
    "errorsnts = noplay_test_class.std()\n",
    "errorsa = aimless_class.std()\n",
    "\n",
    "ax = goal_train_class.mean().plot(kind='bar', yerr=errorsgtr)\n",
    "ax.set_ylabel(\"Average Classification for goal training patterns\")\n",
    "ax.set_xlabel(\"Number of Dimensions\")\n"
   ]
  },
  {
   "cell_type": "code",
   "execution_count": null,
   "metadata": {},
   "outputs": [],
   "source": [
    "ax = goal_test_class.mean().plot(kind='bar', yerr=errorsgts)\n",
    "ax.set_ylabel(\"Average Classification for goal testing patterns\")\n",
    "ax.set_xlabel(\"Number of Dimensions\")"
   ]
  },
  {
   "cell_type": "code",
   "execution_count": null,
   "metadata": {},
   "outputs": [],
   "source": [
    "ax = noplay_train_class.mean().plot(kind='bar', yerr=errorsntr)\n",
    "ax.set_ylabel(\"Average Classification for noplay training patterns\")\n",
    "ax.set_xlabel(\"Number of Dimensions\")"
   ]
  },
  {
   "cell_type": "code",
   "execution_count": null,
   "metadata": {},
   "outputs": [],
   "source": [
    "ax = noplay_test_class.mean().plot(kind='bar', yerr=errorsnts)\n",
    "ax.set_ylabel(\"Average Classification for noplay testing patterns\")\n",
    "ax.set_xlabel(\"Number of Dimensions\")"
   ]
  },
  {
   "cell_type": "code",
   "execution_count": null,
   "metadata": {},
   "outputs": [],
   "source": [
    "ax = aimless_class.mean().plot(kind='bar', yerr=errorsa)\n",
    "ax.set_ylabel(\"Average Classification for aimless patterns\")\n",
    "ax.set_xlabel(\"Number of Dimensions\")"
   ]
  },
  {
   "cell_type": "markdown",
   "metadata": {},
   "source": [
    "# Pattern Length Experiment"
   ]
  },
  {
   "cell_type": "code",
   "execution_count": null,
   "metadata": {},
   "outputs": [],
   "source": [
    "'''import numpy as np\n",
    "data=data_dims.T\n",
    "data=data.iloc[100:300]\n",
    "for i in range(400):  \n",
    "    v = data[[i]].values\n",
    "    out = np.concatenate(v).ravel().tolist()\n",
    "    classify = np.isclose(out, 0, atol=1.0)\n",
    "    score= np.mean(classify)\n",
    "    print(score)'''"
   ]
  },
  {
   "cell_type": "code",
   "execution_count": null,
   "metadata": {},
   "outputs": [],
   "source": [
    "data_lens = pd.DataFrame(pytry.read('ICCM_lens'))\n",
    "#data_lens"
   ]
  },
  {
   "cell_type": "code",
   "execution_count": null,
   "metadata": {},
   "outputs": [],
   "source": [
    "result_lens = pd.DataFrame({'training (80%)': pd.concat([data_lens.classify_train]), 'testing (20%)': pd.concat([data_lens.classify_test]), 'aimless': pd.concat([data_lens.classify_aim])})"
   ]
  },
  {
   "cell_type": "code",
   "execution_count": null,
   "metadata": {},
   "outputs": [],
   "source": [
    "errors = result_lens.std()\n",
    "lx = result_lens.mean().plot(kind='bar', yerr=errors)\n",
    "lx.set_ylabel(\"Classification Accuracy (mean)\")\n",
    "lx.set_xlabel(\"Classification Test\")"
   ]
  },
  {
   "cell_type": "code",
   "execution_count": null,
   "metadata": {},
   "outputs": [],
   "source": [
    "by_len = data_lens.groupby(['len_train'])['classify_train','classify_test','classify_aim'].mean()\n",
    "by_len_errors = data_lens.groupby(['len_train'])['classify_train','classify_test','classify_aim'].std()\n",
    "\n",
    "mx = by_len.plot(kind='bar', yerr=by_len_errors, figsize=(11,8)) #plot\n",
    "mx.set_ylabel(\"Classification Accuracy (mean)\")\n",
    "mx.set_xlabel(\"Length of Training Pattern\")"
   ]
  },
  {
   "cell_type": "code",
   "execution_count": null,
   "metadata": {},
   "outputs": [],
   "source": [
    "#list = [col for col in data_lens if col.startswith('accuracy_train')]\n",
    "#list"
   ]
  },
  {
   "cell_type": "code",
   "execution_count": null,
   "metadata": {},
   "outputs": [],
   "source": [
    "training = pd.DataFrame({'training': pd.concat([eval('data_lens.accuracy_train%d' % i) for i in range(800)])})\n",
    "train_len_10 = training[0::4]\n",
    "train_len_20 = training[1::4]\n",
    "train_len_30 = training[2::4]\n",
    "train_len_40 = training[3::4]\n",
    "\n",
    "goal_train_10 = train_len_10[:10000]\n",
    "noplay_train_10 = train_len_10[10000:20000]\n",
    "\n",
    "goal_train_20 = train_len_20[:20000]\n",
    "noplay_train_20 = train_len_20[20000:40000]\n",
    "\n",
    "goal_train_30 = train_len_30[:30000]\n",
    "noplay_train_30 = train_len_30[30000:60000]\n",
    "\n",
    "goal_train_40 = train_len_40[:40000]\n",
    "noplay_train_40 = train_len_40[40000:80000]\n",
    "\n",
    "gtrxl = pd.DataFrame({'goal_train': pd.concat([goal_train_10.training, goal_train_20.training, goal_train_30.training, goal_train_40.training])})\n",
    "\n",
    "gtsxl = pd.DataFrame({'goal_test': pd.concat([eval('data_lens.accuracy_test%d' % i) for i in range(100)])})\n",
    "\n",
    "ntrxl = pd.DataFrame({'noplay_train':  pd.concat([noplay_train_10.training, noplay_train_20.training, noplay_train_30.training, noplay_train_40.training])})\n",
    "\n",
    "ntsxl = pd.DataFrame({'noplay_test': pd.concat([eval('data_lens.accuracy_test%d' % i) for i in range(100,200)])}) \n",
    "\n",
    "axl = pd.DataFrame({'aimless': pd.concat([eval('data_lens.accuracy_aim%d' % i) for i in range(100)])})"
   ]
  },
  {
   "cell_type": "code",
   "execution_count": null,
   "metadata": {},
   "outputs": [],
   "source": [
    "goal_trainl = []\n",
    "for i in range(len(gtrxl)):\n",
    "    a = gtrxl.iloc[i].values\n",
    "    #b = np.concatenate(a).ravel().tolist()\n",
    "    goal_trainl.append(a)\n",
    "goal_trainl = np.asarray(goal_trainl)\n",
    "\n",
    "goal_trainl10 = []\n",
    "for i in range(len(goal_train_10)):\n",
    "    a = goal_train_10.iloc[i].values\n",
    "    #b = np.concatenate(a).ravel().tolist()\n",
    "    goal_trainl10.append(a)\n",
    "goal_trainl10 = np.asarray(goal_trainl10)\n",
    "\n",
    "goal_trainl20 = []\n",
    "for i in range(len(goal_train_20)):\n",
    "    a = goal_train_20.iloc[i].values\n",
    "    #b = np.concatenate(a).ravel().tolist()\n",
    "    goal_trainl20.append(a)\n",
    "goal_trainl20 = np.asarray(goal_trainl20)\n",
    "\n",
    "goal_trainl30 = []\n",
    "for i in range(len(goal_train_30)):\n",
    "    a = goal_train_30.iloc[i].values\n",
    "    #b = np.concatenate(a).ravel().tolist()\n",
    "    goal_trainl30.append(a)\n",
    "goal_trainl30 = np.asarray(goal_trainl30)\n",
    "\n",
    "goal_trainl40 = []\n",
    "for i in range(len(goal_train_40)):\n",
    "    a = goal_train_40.iloc[i].values\n",
    "    #b = np.concatenate(a).ravel().tolist()\n",
    "    goal_trainl40.append(a)\n",
    "goal_trainl40 = np.asarray(goal_trainl40)\n",
    "\n",
    "goal_testl = []\n",
    "for i in range(len(gtsxl)):\n",
    "    a = gtsxl.iloc[i].values\n",
    "    b = np.concatenate(a).ravel().tolist()\n",
    "    goal_testl.append(b)\n",
    "goal_testl = np.asarray(goal_testl)\n",
    "\n",
    "noplay_trainl = []\n",
    "for i in range(len(ntrxl)):\n",
    "    a = ntrxl.iloc[i].values\n",
    "    #b = np.concatenate(a).ravel().tolist()\n",
    "    noplay_trainl.append(a)\n",
    "noplay_trainl = np.asarray(noplay_trainl)\n",
    "\n",
    "noplay_trainl10 = []\n",
    "for i in range(len(noplay_train_10)):\n",
    "    a = noplay_train_10.iloc[i].values\n",
    "    #b = np.concatenate(a).ravel().tolist()\n",
    "    noplay_trainl10.append(a)\n",
    "noplay_trainl10 = np.asarray(noplay_trainl10)\n",
    "\n",
    "noplay_trainl20 = []\n",
    "for i in range(len(noplay_train_20)):\n",
    "    a = noplay_train_20.iloc[i].values\n",
    "    #b = np.concatenate(a).ravel().tolist()\n",
    "    noplay_trainl20.append(a)\n",
    "noplay_trainl20 = np.asarray(noplay_trainl20)\n",
    "\n",
    "noplay_trainl30 = []\n",
    "for i in range(len(noplay_train_30)):\n",
    "    a = noplay_train_30.iloc[i].values\n",
    "    #b = np.concatenate(a).ravel().tolist()\n",
    "    noplay_trainl30.append(a)\n",
    "noplay_trainl30 = np.asarray(noplay_trainl30)\n",
    "\n",
    "noplay_trainl40 = []\n",
    "for i in range(len(noplay_train_40)):\n",
    "    a = noplay_train_40.iloc[i].values\n",
    "    #b = np.concatenate(a).ravel().tolist()\n",
    "    noplay_trainl40.append(a)\n",
    "noplay_trainl40 = np.asarray(noplay_trainl40)\n",
    "\n",
    "noplay_testl = []\n",
    "for i in range(len(ntsxl)):\n",
    "    a = ntsxl.iloc[i].values\n",
    "    b = np.concatenate(a).ravel().tolist()\n",
    "    noplay_testl.append(b)\n",
    "noplay_testl = np.asarray(noplay_testl)\n",
    "\n",
    "aimlessl = []\n",
    "for i in range(len(axl)):\n",
    "    a = axl.iloc[i].values\n",
    "    b = np.concatenate(a).ravel().tolist()\n",
    "    aimlessl.append(b)\n",
    "aimlessl = np.asarray(aimlessl)"
   ]
  },
  {
   "cell_type": "code",
   "execution_count": null,
   "metadata": {},
   "outputs": [],
   "source": [
    "#bins=[-4, -3.5, -3, -2.5, -2, -1.5, -1, 0, 1, 1.5, 2, 2.5, 3, 3.5, 4]\n",
    "#bins=[-2.5, -2, -1.5, -1, 0, 1, 1.5, 2, 2.5]\n",
    "#bins=[-1.5, -1.25, -1, -0.75, -0.5, -0.25, 0, 0.25, 0.5, 0.75, 1, 1.25, 1.5]\n",
    "#bins=np.arange(min(aimless), max(aimless) + 0.25, 0.25)\n",
    "bins=np.arange(-2, 2 + 0.25, 0.25)\n",
    "plt.hist(goal_trainl, bins=bins, rwidth=0.95, alpha=0.65, label='goal train')\n",
    "plt.hist(goal_testl, bins=bins, rwidth=0.95, alpha=0.65, label='goal test')\n",
    "plt.legend(loc='upper right')"
   ]
  },
  {
   "cell_type": "code",
   "execution_count": null,
   "metadata": {},
   "outputs": [],
   "source": [
    "plt.hist(noplay_trainl, bins=bins, rwidth=0.95, alpha=0.65, label='noplay train')\n",
    "plt.hist(noplay_testl, bins=bins, rwidth=0.95, alpha=0.65, label='noplay test')\n",
    "plt.legend(loc='upper right')"
   ]
  },
  {
   "cell_type": "code",
   "execution_count": null,
   "metadata": {},
   "outputs": [],
   "source": [
    "plt.hist(aimlessl, bins=bins, rwidth=0.95, alpha=0.5, label='aimless test')"
   ]
  },
  {
   "cell_type": "code",
   "execution_count": null,
   "metadata": {},
   "outputs": [],
   "source": [
    "plt.hist(goal_testl, bins=bins, rwidth=0.95, alpha=0.5, label='goal train', histtype=u'step')\n",
    "plt.hist(aimlessl, bins=bins, rwidth=0.95, alpha=0.5, label='aimless test', histtype=u'step')\n",
    "plt.hist(noplay_testl, bins=bins, rwidth=0.95, alpha=0.5, label='noplay test', histtype=u'step')\n",
    "plt.legend(loc='upper right')"
   ]
  },
  {
   "cell_type": "code",
   "execution_count": null,
   "metadata": {},
   "outputs": [],
   "source": [
    "f, (axl1, axl2, axl3, axl4) = plt.subplots(1, 4, sharey=True, figsize=(15, 4))\n",
    "f.suptitle('Classification of Goal Training Patterns in each Training Length Condition')\n",
    "axl1.hist(goal_trainl10, bins=bins, rwidth=0.95, alpha=0.5, label='10 seconds training')\n",
    "axl1.set_title('10 seconds training')\n",
    "axl2.hist(goal_trainl20, bins=bins, rwidth=0.95, alpha=0.5, label='20 seconds training')\n",
    "axl2.set_title('20 seconds training')\n",
    "axl3.hist(goal_trainl30, bins=bins, rwidth=0.95, alpha=0.5, label='30 seconds training')\n",
    "axl3.set_title('30 seconds training')\n",
    "axl4.hist(goal_trainl40, bins=bins, rwidth=0.95, alpha=0.5, label='40 seconds training')\n",
    "axl4.set_title('40 seconds training')"
   ]
  },
  {
   "cell_type": "code",
   "execution_count": null,
   "metadata": {},
   "outputs": [],
   "source": [
    "goal_testl1 = goal_testl[0::4]\n",
    "goal_testl2 = goal_testl[1::4]\n",
    "goal_testl3 = goal_testl[2::4]\n",
    "goal_testl4 = goal_testl[3::4]"
   ]
  },
  {
   "cell_type": "code",
   "execution_count": null,
   "metadata": {},
   "outputs": [],
   "source": [
    "f, (axl1, axl2, axl3, axl4) = plt.subplots(1, 4, sharey=True, figsize=(15, 4))\n",
    "f.suptitle('Classification of Goal Testing Patterns in each Training Length Condition')\n",
    "axl1.hist(goal_testl1, bins=bins, rwidth=0.95, alpha=0.5, label='10 seconds training')\n",
    "axl1.set_title('10 seconds training')\n",
    "axl2.hist(goal_testl2, bins=bins, rwidth=0.95, alpha=0.5, label='20 seconds training')\n",
    "axl2.set_title('20 seconds training')\n",
    "axl3.hist(goal_testl3, bins=bins, rwidth=0.95, alpha=0.5, label='30 seconds training')\n",
    "axl3.set_title('30 seconds training')\n",
    "axl4.hist(goal_testl4, bins=bins, rwidth=0.95, alpha=0.5, label='40 seconds training')\n",
    "axl4.set_title('40 seconds training')"
   ]
  },
  {
   "cell_type": "code",
   "execution_count": null,
   "metadata": {},
   "outputs": [],
   "source": [
    "f, (axl1, axl2, axl3, axl4) = plt.subplots(1, 4, sharey=True, figsize=(15, 4))\n",
    "f.suptitle('Classification of No Play Training Patterns in each Training Length Condition')\n",
    "axl1.hist(noplay_trainl10, bins=bins, rwidth=0.95, alpha=0.5, label='10 seconds training')\n",
    "axl1.set_title('10 seconds training')\n",
    "axl2.hist(noplay_trainl20, bins=bins, rwidth=0.95, alpha=0.5, label='20 seconds training')\n",
    "axl2.set_title('20 seconds training')\n",
    "axl3.hist(noplay_trainl30, bins=bins, rwidth=0.95, alpha=0.5, label='30 seconds training')\n",
    "axl3.set_title('30 seconds training')\n",
    "axl4.hist(noplay_trainl40, bins=bins, rwidth=0.95, alpha=0.5, label='40 seconds training')\n",
    "axl4.set_title('40 seconds training')"
   ]
  },
  {
   "cell_type": "code",
   "execution_count": null,
   "metadata": {},
   "outputs": [],
   "source": [
    "noplay_testl\n",
    "noplay_testl1 = noplay_testl[0::4]\n",
    "noplay_testl2 = noplay_testl[1::4]\n",
    "noplay_testl3 = noplay_testl[2::4]\n",
    "noplay_testl4 = noplay_testl[3::4]"
   ]
  },
  {
   "cell_type": "code",
   "execution_count": null,
   "metadata": {},
   "outputs": [],
   "source": [
    "f, (axl1, axl2, axl3, axl4) = plt.subplots(1, 4, sharey=True, figsize=(15, 4))\n",
    "f.suptitle('Classification of No Play Testing Patterns in each Training Length Condition')\n",
    "axl1.hist(noplay_testl1, bins=bins, rwidth=0.95, alpha=0.5, label='10 seconds training')\n",
    "axl1.set_title('10 seconds training')\n",
    "axl2.hist(noplay_testl2, bins=bins, rwidth=0.95, alpha=0.5, label='20 seconds training')\n",
    "axl2.set_title('20 seconds training')\n",
    "axl3.hist(noplay_testl3, bins=bins, rwidth=0.95, alpha=0.5, label='30 seconds training')\n",
    "axl3.set_title('30 seconds training')\n",
    "axl4.hist(noplay_testl4, bins=bins, rwidth=0.95, alpha=0.5, label='40 seconds training')\n",
    "axl4.set_title('40 seconds training')"
   ]
  },
  {
   "cell_type": "code",
   "execution_count": null,
   "metadata": {},
   "outputs": [],
   "source": [
    "aimlessl1 = aimlessl[0::4]\n",
    "aimlessl2 = aimlessl[1::4]\n",
    "aimlessl3 = aimlessl[2::4]\n",
    "aimlessl4 = aimlessl[3::4]"
   ]
  },
  {
   "cell_type": "code",
   "execution_count": null,
   "metadata": {},
   "outputs": [],
   "source": [
    "f, (axl1, axl2, axl3, axl4) = plt.subplots(1, 4, sharey=True, figsize=(15, 4))\n",
    "f.suptitle('Classification of Aimless Testing Patterns in each Training Length Condition')\n",
    "axl1.hist(aimlessl1, bins=bins, rwidth=0.95, alpha=0.5, label='10 seconds training')\n",
    "axl1.set_title('10 seconds training')\n",
    "axl2.hist(aimlessl2, bins=bins, rwidth=0.95, alpha=0.5, label='20 seconds training')\n",
    "axl2.set_title('20 seconds training')\n",
    "axl3.hist(aimlessl3, bins=bins, rwidth=0.95, alpha=0.5, label='30 seconds training')\n",
    "axl3.set_title('30 seconds training')\n",
    "axl4.hist(aimlessl4, bins=bins, rwidth=0.95, alpha=0.5, label='40 seconds training')\n",
    "axl4.set_title('40 seconds training')"
   ]
  },
  {
   "cell_type": "markdown",
   "metadata": {},
   "source": [
    "Bar charts reporting Average Classification Score for each Pattern Type."
   ]
  },
  {
   "cell_type": "code",
   "execution_count": null,
   "metadata": {},
   "outputs": [],
   "source": [
    "ave_class = pd.DataFrame({'goal testing': pd.concat([gtsxl.goal_test]), \n",
    "                          'noplay testing': pd.concat([ntsxl.noplay_test]),\n",
    "                          'aimless': pd.concat([axl.aimless])})\n",
    "\n",
    "errors = ave_class.std()\n",
    "ax = ave_class.mean().plot(kind='bar', yerr=errors)\n",
    "ax.set_ylabel(\"Average Classification\")\n",
    "ax.set_xlabel(\"Classification Test\")"
   ]
  },
  {
   "cell_type": "code",
   "execution_count": null,
   "metadata": {},
   "outputs": [],
   "source": [
    "goal_test_class = pd.DataFrame({'10':goal_testl1[:,0],\n",
    "                          '20':goal_testl2[:,0],\n",
    "                          '30':goal_testl3[:,0],\n",
    "                          '40':goal_testl4[:,0]})\n",
    "noplay_test_class = pd.DataFrame({'10':noplay_testl1[:,0],\n",
    "                          '20':noplay_testl2[:,0],\n",
    "                          '30':noplay_testl3[:,0],\n",
    "                          '40':noplay_testl4[:,0]})\n",
    "aimless_class = pd.DataFrame({'10':aimlessl1[:,0],\n",
    "                          '20':aimlessl2[:,0],\n",
    "                          '30':aimlessl3[:,0],\n",
    "                          '40':aimlessl4[:,0]})\n",
    "\n",
    "errorsgts = goal_test_class.std()\n",
    "errorsnts = noplay_test_class.std()\n",
    "errorsa = aimless_class.std()\n",
    "\n",
    "ax = goal_test_class.mean().plot(kind='bar', yerr=errorsgts)\n",
    "ax.set_ylabel(\"Average Classification for goal testing patterns\")\n",
    "ax.set_xlabel(\"Length of Training Pattern\")\n"
   ]
  },
  {
   "cell_type": "code",
   "execution_count": null,
   "metadata": {},
   "outputs": [],
   "source": [
    "ax = noplay_test_class.mean().plot(kind='bar', yerr=errorsnts)\n",
    "ax.set_ylabel(\"Average Classification for noplay testing patterns\")\n",
    "ax.set_xlabel(\"Length of Training Pattern\")"
   ]
  },
  {
   "cell_type": "code",
   "execution_count": null,
   "metadata": {},
   "outputs": [],
   "source": [
    "ax = aimless_class.mean().plot(kind='bar', yerr=errorsa)\n",
    "ax.set_ylabel(\"Average Classification for noplay testing patterns\")\n",
    "ax.set_xlabel(\"Length of Training Pattern\")"
   ]
  },
  {
   "cell_type": "code",
   "execution_count": null,
   "metadata": {},
   "outputs": [],
   "source": []
  },
  {
   "cell_type": "code",
   "execution_count": null,
   "metadata": {},
   "outputs": [],
   "source": []
  },
  {
   "cell_type": "markdown",
   "metadata": {},
   "source": [
    "# Experiments Serge Requested"
   ]
  },
  {
   "cell_type": "markdown",
   "metadata": {},
   "source": [
    "5 seconds training pattern. Results of goal testing patterns"
   ]
  },
  {
   "cell_type": "code",
   "execution_count": null,
   "metadata": {},
   "outputs": [],
   "source": [
    "data_5 = pd.DataFrame(pytry.read('len_5'))\n",
    "\n",
    "gtsxl = [eval('data_5.accuracy_test%d' % i) for i in range(100)]\n",
    "\n",
    "len_5_aimless = []\n",
    "for i in range(len(gtsxl)):\n",
    "    a = gtsxl[i].values\n",
    "    b = np.concatenate(a).ravel().tolist()\n",
    "    len_5_aimless.append(b)\n",
    "len_5_aimless = np.asarray(len_5_aimless)\n",
    "\n",
    "plt.hist(len_5_aimless, rwidth=0.95, alpha=0.5, label='5 seconds training')"
   ]
  },
  {
   "cell_type": "markdown",
   "metadata": {},
   "source": [
    "5 seconds training pattern and 8 input dimensions. Results of goal testing patterns"
   ]
  },
  {
   "cell_type": "code",
   "execution_count": null,
   "metadata": {},
   "outputs": [],
   "source": [
    "data_5_8 = pd.DataFrame(pytry.read('len_5_dim_8'))\n",
    "\n",
    "gtsxl = [eval('data_5_8.accuracy_test%d' % i) for i in range(100)]\n",
    "\n",
    "lendim = []\n",
    "for i in range(len(gtsxl)):\n",
    "    a = gtsxl[i].values\n",
    "    b = np.concatenate(a).ravel().tolist()\n",
    "    lendim.append(b)\n",
    "lendim = np.asarray(lendim)\n",
    "\n",
    "plt.hist(lendim, rwidth=0.95, alpha=0.5, label='5 seconds training')"
   ]
  },
  {
   "cell_type": "code",
   "execution_count": null,
   "metadata": {},
   "outputs": [],
   "source": [
    "data_80 = pd.DataFrame(pytry.read('80_secs'))\n",
    "\n",
    "#list = [col for col in data_80 if col.startswith('accuracy_train')]\n",
    "#data_80['accuracy_train800']"
   ]
  },
  {
   "cell_type": "code",
   "execution_count": null,
   "metadata": {},
   "outputs": [],
   "source": [
    "data_80 = pd.DataFrame(pytry.read('80_secs'))\n",
    "\n",
    "gtrx = [eval('data_80.accuracy_train%d' % i) for i in range(800)]\n",
    "\n",
    "gtsx = [eval('data_80.accuracy_test%d' % i) for i in range(100)]\n",
    "\n",
    "ntrx = [eval('data_80.accuracy_train%d' % i) for i in range(800,1600)]\n",
    "\n",
    "ntsx = [eval('data_80.accuracy_test%d' % i) for i in range(100,200)]\n",
    "\n",
    "\n",
    "goal_train = []\n",
    "for i in range(len(gtrx)):\n",
    "    a = gtrx[i].values\n",
    "    b = np.concatenate(a).ravel().tolist()\n",
    "    goal_train.append(b)\n",
    "goal_train = np.asarray(goal_train)\n",
    "\n",
    "plt.hist(goal_train, rwidth=0.95, alpha=0.5, label='80 seconds training')"
   ]
  },
  {
   "cell_type": "code",
   "execution_count": null,
   "metadata": {},
   "outputs": [],
   "source": [
    "goal_test = []\n",
    "for i in range(len(gtsx)):\n",
    "    a = gtsx[i].values\n",
    "    b = np.concatenate(a).ravel().tolist()\n",
    "    goal_test.append(b)\n",
    "goal_test = np.asarray(goal_test)\n",
    "\n",
    "plt.hist(goal_test, rwidth=0.95, alpha=0.5, label='80 seconds training')"
   ]
  },
  {
   "cell_type": "code",
   "execution_count": null,
   "metadata": {
    "scrolled": true
   },
   "outputs": [],
   "source": [
    "noplay_train = []\n",
    "for i in range(len(ntrx)):\n",
    "    a = ntrx[i].values\n",
    "    b = np.concatenate(a).ravel().tolist()\n",
    "    noplay_train.append(b)\n",
    "noplay_train = np.asarray(noplay_train)\n",
    "\n",
    "plt.hist(noplay_train, rwidth=0.95, alpha=0.5, label='80 seconds training')"
   ]
  },
  {
   "cell_type": "code",
   "execution_count": null,
   "metadata": {},
   "outputs": [],
   "source": [
    "noplay_test = []\n",
    "for i in range(len(ntsx)):\n",
    "    a = ntsx[i].values\n",
    "    b = np.concatenate(a).ravel().tolist()\n",
    "    noplay_test.append(b)\n",
    "noplay_test = np.asarray(noplay_test)\n",
    "\n",
    "plt.hist(noplay_test, rwidth=0.95, alpha=0.5, label='80 seconds training')"
   ]
  },
  {
   "cell_type": "markdown",
   "metadata": {},
   "source": [
    "# Child-Robot Experiment\n",
    "\n",
    "Experiment run with child-robot data. 20 iterations of each of the 4 dimensions. Also changed target values from -1,1 to 0,2. "
   ]
  },
  {
   "cell_type": "code",
   "execution_count": null,
   "metadata": {},
   "outputs": [],
   "source": [
    "data_cr_dims = pd.DataFrame(pytry.read('02-child-robot'))\n",
    "\n",
    "gtr = pd.DataFrame({'goal_train': pd.concat([eval('data_cr_dims.accuracy_train%d' % i) for i in range(100)])})\n",
    "gts = pd.DataFrame({'goal_test': pd.concat([eval('data_cr_dims.accuracy_test%d' % i) for i in range(100)])})\n",
    "ntr = pd.DataFrame({'noplay_train': pd.concat([eval('data_cr_dims.accuracy_train%d' % i) for i in range(100,200)])})\n",
    "nts = pd.DataFrame({'noplay_test': pd.concat([eval('data_cr_dims.accuracy_test%d' % i) for i in range(100,200)])}) \n",
    "ats = pd.DataFrame({'aimless': pd.concat([eval('data_cr_dims.accuracy_aim%d' % i) for i in range(100)])})\n",
    "\n",
    "goal_train = []\n",
    "for i in range(len(gtr)):\n",
    "    a = gtr.iloc[i].values\n",
    "    b = np.concatenate(a).ravel().tolist()\n",
    "    goal_train.append(b)\n",
    "goal_train = np.asarray(goal_train)\n",
    "\n",
    "goal_test = []\n",
    "for i in range(len(gts)):\n",
    "    a = gts.iloc[i].values\n",
    "    b = np.concatenate(a).ravel().tolist()\n",
    "    goal_test.append(b)\n",
    "goal_test = np.asarray(goal_test)\n",
    "\n",
    "noplay_train = []\n",
    "for i in range(len(ntr)):\n",
    "    a = ntr.iloc[i].values\n",
    "    b = np.concatenate(a).ravel().tolist()\n",
    "    noplay_train.append(b)\n",
    "noplay_train = np.asarray(noplay_train)\n",
    "\n",
    "noplay_test = []\n",
    "for i in range(len(nts)):\n",
    "    a = nts.iloc[i].values\n",
    "    b = np.concatenate(a).ravel().tolist()\n",
    "    noplay_test.append(b)\n",
    "noplay_test = np.asarray(noplay_test)\n",
    "\n",
    "aimless = []\n",
    "for i in range(len(ats)):\n",
    "    a = ats.iloc[i].values\n",
    "    b = np.concatenate(a).ravel().tolist()\n",
    "    aimless.append(b)\n",
    "aimless = np.asarray(aimless)\n",
    "\n",
    "goaltrain1 = goal_train[0::4]\n",
    "goaltrain2 = goal_train[1::4]\n",
    "goaltrain3 = goal_train[2::4]\n",
    "goaltrain4 = goal_train[3::4]\n",
    "\n",
    "bins=np.arange(-2, 2 + 0.25, 0.25)\n",
    "\n",
    "f, (ax1, ax2, ax3, ax4) = plt.subplots(1, 4, sharey=True, figsize=(15, 4))\n",
    "f.suptitle('Classification of Goal Training Patterns in each Dimension Condition')\n",
    "ax1.hist(goaltrain1, bins=bins, rwidth=0.95, alpha=0.5, label='1 input dim')\n",
    "ax1.set_title('1 input dim')\n",
    "ax2.hist(goaltrain2, bins=bins, rwidth=0.95, alpha=0.5, label='2 input dims')\n",
    "ax2.set_title('2 input dims')\n",
    "ax3.hist(goaltrain3, bins=bins, rwidth=0.95, alpha=0.5, label='3 input dims')\n",
    "ax3.set_title('3 input dims')\n",
    "ax4.hist(goaltrain4, bins=bins, rwidth=0.95, alpha=0.5, label='4 input dims')\n",
    "ax4.set_title('4 input dims')"
   ]
  },
  {
   "cell_type": "code",
   "execution_count": null,
   "metadata": {},
   "outputs": [],
   "source": [
    "goaltest1 = goal_test[0::4]\n",
    "goaltest2 = goal_test[1::4]\n",
    "goaltest3 = goal_test[2::4]\n",
    "goaltest4 = goal_test[3::4]\n",
    "\n",
    "f, (ax1, ax2, ax3, ax4) = plt.subplots(1, 4, sharey=True, figsize=(15, 4))\n",
    "f.suptitle('Classification of Goal Testing Patterns in each Dimension Condition')\n",
    "ax1.hist(goaltest1, bins=bins, rwidth=0.95, alpha=0.5, label='1 input dim')\n",
    "ax1.set_title('1 input dim')\n",
    "ax2.hist(goaltest2, bins=bins, rwidth=0.95, alpha=0.5, label='2 input dims')\n",
    "ax2.set_title('2 input dims')\n",
    "ax3.hist(goaltest3, bins=bins, rwidth=0.95, alpha=0.5, label='3 input dims')\n",
    "ax3.set_title('3 input dims')\n",
    "ax4.hist(goaltest4, bins=bins, rwidth=0.95, alpha=0.5, label='4 input dims')\n",
    "ax4.set_title('4 input dims')"
   ]
  },
  {
   "cell_type": "code",
   "execution_count": null,
   "metadata": {},
   "outputs": [],
   "source": [
    "noplaytrain1 = noplay_train[0::4]\n",
    "noplaytrain2 = noplay_train[1::4]\n",
    "noplaytrain3 = noplay_train[2::4]\n",
    "noplaytrain4 = noplay_train[3::4]\n",
    "\n",
    "f, (ax1, ax2, ax3, ax4) = plt.subplots(1, 4, sharey=True, figsize=(15, 4))\n",
    "f.suptitle('Classification of No Play Training Patterns in each Dimension Condition')\n",
    "ax1.hist(noplaytrain1, bins=bins, rwidth=0.95, alpha=0.5, label='1 input dim')\n",
    "ax1.set_title('1 input dim')\n",
    "ax2.hist(noplaytrain2, bins=bins, rwidth=0.95, alpha=0.5, label='2 input dims')\n",
    "ax2.set_title('2 input dims')\n",
    "ax3.hist(noplaytrain3, bins=bins, rwidth=0.95, alpha=0.5, label='3 input dims')\n",
    "ax3.set_title('3 input dims')\n",
    "ax4.hist(noplaytrain4, bins=bins, rwidth=0.95, alpha=0.5, label='4 input dims')\n",
    "ax4.set_title('4 input dims')"
   ]
  },
  {
   "cell_type": "code",
   "execution_count": null,
   "metadata": {},
   "outputs": [],
   "source": [
    "noplaytest1 = noplay_test[0::4]\n",
    "noplaytest2 = noplay_test[1::4]\n",
    "noplaytest3 = noplay_test[2::4]\n",
    "noplaytest4 = noplay_test[3::4]\n",
    "\n",
    "f, (ax1, ax2, ax3, ax4) = plt.subplots(1, 4, sharey=True, figsize=(15, 4))\n",
    "f.suptitle('Classification of No Play Testing Patterns in each Dimension Condition')\n",
    "ax1.hist(noplaytest1, bins=bins, rwidth=0.95, alpha=0.5, label='1 input dim')\n",
    "ax1.set_title('1 input dim')\n",
    "ax2.hist(noplaytest2, bins=bins, rwidth=0.95, alpha=0.5, label='2 input dims')\n",
    "ax2.set_title('2 input dims')\n",
    "ax3.hist(noplaytest3, bins=bins, rwidth=0.95, alpha=0.5, label='3 input dims')\n",
    "ax3.set_title('3 input dims')\n",
    "ax4.hist(noplaytest4, bins=bins, rwidth=0.95, alpha=0.5, label='4 input dims')\n",
    "ax4.set_title('4 input dims')"
   ]
  },
  {
   "cell_type": "code",
   "execution_count": null,
   "metadata": {},
   "outputs": [],
   "source": [
    "aimless1 = aimless[0::4]\n",
    "aimless2 = aimless[1::4]\n",
    "aimless3 = aimless[2::4]\n",
    "aimless4 = aimless[3::4]\n",
    "\n",
    "f, (ax1, ax2, ax3, ax4) = plt.subplots(1, 4, sharey=True, figsize=(15, 4))\n",
    "f.suptitle('Classification of No Play Testing Patterns in each Dimension Condition')\n",
    "ax1.hist(aimless1, bins=bins, rwidth=0.95, alpha=0.5, label='1 input dim')\n",
    "ax1.set_title('1 input dim')\n",
    "ax2.hist(aimless2, bins=bins, rwidth=0.95, alpha=0.5, label='2 input dims')\n",
    "ax2.set_title('2 input dims')\n",
    "ax3.hist(aimless3, bins=bins, rwidth=0.95, alpha=0.5, label='3 input dims')\n",
    "ax3.set_title('3 input dims')\n",
    "ax4.hist(aimless4, bins=bins, rwidth=0.95, alpha=0.5, label='4 input dims')\n",
    "ax4.set_title('4 input dims')"
   ]
  },
  {
   "cell_type": "markdown",
   "metadata": {},
   "source": [
    "# More Training Data\n",
    "\n",
    "Experiments run with more training data (50, 60, 70 and 80 seconds). Using a multi-data file."
   ]
  },
  {
   "cell_type": "code",
   "execution_count": 21,
   "metadata": {},
   "outputs": [
    {
     "data": {
      "text/plain": [
       "Text(0.5,1,'80 seconds training')"
      ]
     },
     "execution_count": 21,
     "metadata": {},
     "output_type": "execute_result"
    },
    {
     "data": {
      "image/png": "[encoded data removed]",
      "text/plain": [
       "<Figure size 1080x288 with 4 Axes>"
      ]
     },
     "metadata": {
      "needs_background": "light"
     },
     "output_type": "display_data"
    }
   ],
   "source": [
    "data_longer = pd.DataFrame(pytry.read('more_training'))\n",
    "\n",
    "training = pd.DataFrame({'training': pd.concat([eval('data_longer.accuracy_train%d' % i) for i in range(1600)])})\n",
    "train_len_50 = training[0::4]\n",
    "train_len_60 = training[1::4]\n",
    "train_len_70 = training[2::4]\n",
    "train_len_80 = training[3::4]\n",
    "\n",
    "goal_train_50 = train_len_50[:10000]\n",
    "noplay_train_50 = train_len_50[10000:20000]\n",
    "\n",
    "goal_train_60 = train_len_60[:12000]\n",
    "noplay_train_60 = train_len_60[12000:24000]\n",
    "\n",
    "goal_train_70 = train_len_70[:14000]\n",
    "noplay_train_70 = train_len_70[14000:28000]\n",
    "\n",
    "goal_train_80 = train_len_80[:16000]\n",
    "noplay_train_80 = train_len_80[16000:32000]\n",
    "\n",
    "gts = pd.DataFrame({'goal_test': pd.concat([eval('data_longer.accuracy_test%d' % i) for i in range(100)])})\n",
    "nts = pd.DataFrame({'noplay_test': pd.concat([eval('data_longer.accuracy_test%d' % i) for i in range(100,200)])}) \n",
    "ats = pd.DataFrame({'aimless': pd.concat([eval('data_longer.accuracy_aim%d' % i) for i in range(100)])})\n",
    "\n",
    "goal_testl = []\n",
    "for i in range(len(gts)):\n",
    "    a = gts.iloc[i].values\n",
    "    b = np.concatenate(a).ravel().tolist()\n",
    "    goal_testl.append(b)\n",
    "goal_testl = np.asarray(goal_testl)\n",
    "\n",
    "\n",
    "noplay_trainl50 = []\n",
    "for i in range(len(noplay_train_50)):\n",
    "    a = noplay_train_50.iloc[i].values\n",
    "    #b = np.concatenate(a).ravel().tolist()\n",
    "    noplay_trainl50.append(a)\n",
    "noplay_trainl50 = np.asarray(noplay_trainl50)\n",
    "\n",
    "noplay_trainl60 = []\n",
    "for i in range(len(noplay_train_60)):\n",
    "    a = noplay_train_60.iloc[i].values\n",
    "    #b = np.concatenate(a).ravel().tolist()\n",
    "    noplay_trainl60.append(a)\n",
    "noplay_trainl60 = np.asarray(noplay_trainl60)\n",
    "\n",
    "noplay_trainl70 = []\n",
    "for i in range(len(noplay_train_70)):\n",
    "    a = noplay_train_70.iloc[i].values\n",
    "    #b = np.concatenate(a).ravel().tolist()\n",
    "    noplay_trainl70.append(a)\n",
    "noplay_trainl70 = np.asarray(noplay_trainl70)\n",
    "\n",
    "noplay_trainl80 = []\n",
    "for i in range(len(noplay_train_80)):\n",
    "    a = noplay_train_80.iloc[i].values\n",
    "    #b = np.concatenate(a).ravel().tolist()\n",
    "    noplay_trainl80.append(a)\n",
    "noplay_trainl80 = np.asarray(noplay_trainl80)\n",
    "\n",
    "noplay_testl = []\n",
    "for i in range(len(nts)):\n",
    "    a = nts.iloc[i].values\n",
    "    b = np.concatenate(a).ravel().tolist()\n",
    "    noplay_testl.append(b)\n",
    "noplay_testl = np.asarray(noplay_testl)\n",
    "\n",
    "aimlessl = []\n",
    "for i in range(len(ats)):\n",
    "    a = ats.iloc[i].values\n",
    "    b = np.concatenate(a).ravel().tolist()\n",
    "    aimlessl.append(b)\n",
    "aimlessl = np.asarray(aimlessl)\n",
    "\n",
    "bins=np.arange(-2, 2 + 0.25, 0.25)\n",
    "\n",
    "f, (axl1, axl2, axl3, axl4) = plt.subplots(1, 4, sharey=True, figsize=(15, 4))\n",
    "f.suptitle('Classification of Goal Training Patterns in each Training Length Condition')\n",
    "axl1.hist(goal_trainl50, bins=bins, rwidth=0.95, alpha=0.5, label='10 seconds training')\n",
    "axl1.set_title('50 seconds training')\n",
    "axl2.hist(goal_trainl60, bins=bins, rwidth=0.95, alpha=0.5, label='20 seconds training')\n",
    "axl2.set_title('60 seconds training')\n",
    "axl3.hist(goal_trainl70, bins=bins, rwidth=0.95, alpha=0.5, label='30 seconds training')\n",
    "axl3.set_title('70 seconds training')\n",
    "axl4.hist(goal_trainl80, bins=bins, rwidth=0.95, alpha=0.5, label='40 seconds training')\n",
    "axl4.set_title('80 seconds training')"
   ]
  },
  {
   "cell_type": "code",
   "execution_count": 22,
   "metadata": {},
   "outputs": [
    {
     "data": {
      "text/plain": [
       "Text(0.5,1,'80 seconds training')"
      ]
     },
     "execution_count": 22,
     "metadata": {},
     "output_type": "execute_result"
    },
    {
     "data": {
      "image/png": "[encoded data removed]",
      "text/plain": [
       "<Figure size 1080x288 with 4 Axes>"
      ]
     },
     "metadata": {
      "needs_background": "light"
     },
     "output_type": "display_data"
    }
   ],
   "source": [
    "goal_testl1 = goal_testl[0::4]\n",
    "goal_testl2 = goal_testl[1::4]\n",
    "goal_testl3 = goal_testl[2::4]\n",
    "goal_testl4 = goal_testl[3::4]\n",
    "\n",
    "f, (axl1, axl2, axl3, axl4) = plt.subplots(1, 4, sharey=True, figsize=(15, 4))\n",
    "f.suptitle('Classification of Goal Testing Patterns in each Training Length Condition')\n",
    "axl1.hist(goal_testl1, bins=bins, rwidth=0.95, alpha=0.5, label='10 seconds training')\n",
    "axl1.set_title('50 seconds training')\n",
    "axl2.hist(goal_testl2, bins=bins, rwidth=0.95, alpha=0.5, label='20 seconds training')\n",
    "axl2.set_title('60 seconds training')\n",
    "axl3.hist(goal_testl3, bins=bins, rwidth=0.95, alpha=0.5, label='30 seconds training')\n",
    "axl3.set_title('70 seconds training')\n",
    "axl4.hist(goal_testl4, bins=bins, rwidth=0.95, alpha=0.5, label='40 seconds training')\n",
    "axl4.set_title('80 seconds training')"
   ]
  },
  {
   "cell_type": "code",
   "execution_count": 23,
   "metadata": {},
   "outputs": [
    {
     "data": {
      "text/plain": [
       "Text(0.5,1,'80 seconds training')"
      ]
     },
     "execution_count": 23,
     "metadata": {},
     "output_type": "execute_result"
    },
    {
     "data": {
      "image/png": "[encoded data removed]",
      "text/plain": [
       "<Figure size 1080x288 with 4 Axes>"
      ]
     },
     "metadata": {
      "needs_background": "light"
     },
     "output_type": "display_data"
    }
   ],
   "source": [
    "f, (axl1, axl2, axl3, axl4) = plt.subplots(1, 4, sharey=True, figsize=(15, 4))\n",
    "f.suptitle('Classification of No Play Training Patterns in each Training Length Condition')\n",
    "axl1.hist(noplay_trainl50, bins=bins, rwidth=0.95, alpha=0.5, label='10 seconds training')\n",
    "axl1.set_title('50 seconds training')\n",
    "axl2.hist(noplay_trainl60, bins=bins, rwidth=0.95, alpha=0.5, label='20 seconds training')\n",
    "axl2.set_title('60 seconds training')\n",
    "axl3.hist(noplay_trainl70, bins=bins, rwidth=0.95, alpha=0.5, label='30 seconds training')\n",
    "axl3.set_title('70 seconds training')\n",
    "axl4.hist(noplay_trainl80, bins=bins, rwidth=0.95, alpha=0.5, label='40 seconds training')\n",
    "axl4.set_title('80 seconds training')"
   ]
  },
  {
   "cell_type": "code",
   "execution_count": 24,
   "metadata": {},
   "outputs": [
    {
     "data": {
      "text/plain": [
       "Text(0.5,1,'80 seconds training')"
      ]
     },
     "execution_count": 24,
     "metadata": {},
     "output_type": "execute_result"
    },
    {
     "data": {
      "image/png": "[encoded data removed]",
      "text/plain": [
       "<Figure size 1080x288 with 4 Axes>"
      ]
     },
     "metadata": {
      "needs_background": "light"
     },
     "output_type": "display_data"
    }
   ],
   "source": [
    "noplay_testl1 = noplay_testl[0::4]\n",
    "noplay_testl2 = noplay_testl[1::4]\n",
    "noplay_testl3 = noplay_testl[2::4]\n",
    "noplay_testl4 = noplay_testl[3::4]\n",
    "\n",
    "f, (axl1, axl2, axl3, axl4) = plt.subplots(1, 4, sharey=True, figsize=(15, 4))\n",
    "f.suptitle('Classification of No Play Testing Patterns in each Training Length Condition')\n",
    "axl1.hist(noplay_testl1, bins=bins, rwidth=0.95, alpha=0.5, label='10 seconds training')\n",
    "axl1.set_title('50 seconds training')\n",
    "axl2.hist(noplay_testl2, bins=bins, rwidth=0.95, alpha=0.5, label='20 seconds training')\n",
    "axl2.set_title('60 seconds training')\n",
    "axl3.hist(noplay_testl3, bins=bins, rwidth=0.95, alpha=0.5, label='30 seconds training')\n",
    "axl3.set_title('70 seconds training')\n",
    "axl4.hist(noplay_testl4, bins=bins, rwidth=0.95, alpha=0.5, label='40 seconds training')\n",
    "axl4.set_title('80 seconds training')"
   ]
  },
  {
   "cell_type": "code",
   "execution_count": 25,
   "metadata": {},
   "outputs": [
    {
     "data": {
      "text/plain": [
       "Text(0.5,1,'80 seconds training')"
      ]
     },
     "execution_count": 25,
     "metadata": {},
     "output_type": "execute_result"
    },
    {
     "data": {
      "image/png": "[encoded data removed]",
      "text/plain": [
       "<Figure size 1080x288 with 4 Axes>"
      ]
     },
     "metadata": {
      "needs_background": "light"
     },
     "output_type": "display_data"
    }
   ],
   "source": [
    "aimlessl1 = aimlessl[0::4]\n",
    "aimlessl2 = aimlessl[1::4]\n",
    "aimlessl3 = aimlessl[2::4]\n",
    "aimlessl4 = aimlessl[3::4]\n",
    "\n",
    "f, (axl1, axl2, axl3, axl4) = plt.subplots(1, 4, sharey=True, figsize=(15, 4))\n",
    "f.suptitle('Classification of Aimless Testing Patterns in each Training Length Condition')\n",
    "axl1.hist(aimlessl1, bins=bins, rwidth=0.95, alpha=0.5, label='10 seconds training')\n",
    "axl1.set_title('50 seconds training')\n",
    "axl2.hist(aimlessl2, bins=bins, rwidth=0.95, alpha=0.5, label='20 seconds training')\n",
    "axl2.set_title('60 seconds training')\n",
    "axl3.hist(aimlessl3, bins=bins, rwidth=0.95, alpha=0.5, label='30 seconds training')\n",
    "axl3.set_title('70 seconds training')\n",
    "axl4.hist(aimlessl4, bins=bins, rwidth=0.95, alpha=0.5, label='40 seconds training')\n",
    "axl4.set_title('80 seconds training')"
   ]
  },
  {
   "cell_type": "code",
   "execution_count": null,
   "metadata": {},
   "outputs": [],
   "source": []
  }
 ],
 "metadata": {
  "kernelspec": {
   "display_name": "Python 3",
   "language": "python",
   "name": "python3"
  },
  "language_info": {
   "codemirror_mode": {
    "name": "ipython",
    "version": 3
   },
   "file_extension": ".py",
   "mimetype": "text/x-python",
   "name": "python",
   "nbconvert_exporter": "python",
   "pygments_lexer": "ipython3",
   "version": "3.7.0"
  }
 },
 "nbformat": 4,
 "nbformat_minor": 2
}
