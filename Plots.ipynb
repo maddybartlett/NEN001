{
 "cells": [
  {
   "cell_type": "code",
   "execution_count": 1,
   "metadata": {},
   "outputs": [],
   "source": [
    "import pandas as pd\n",
    "import seaborn\n",
    "import pytry"
   ]
  },
  {
   "cell_type": "code",
   "execution_count": 2,
   "metadata": {},
   "outputs": [
    {
     "data": {
      "text/plain": [
       "<matplotlib.axes._subplots.AxesSubplot at 0x7fa4164ccdd8>"
      ]
     },
     "execution_count": 2,
     "metadata": {},
     "output_type": "execute_result"
    },
    {
     "data": {
      "image/png": "[encoded data removed]",
      "text/plain": [
       "<Figure size 432x288 with 1 Axes>"
      ]
     },
     "metadata": {},
     "output_type": "display_data"
    }
   ],
   "source": [
    "data = pd.DataFrame(pytry.read('2D_results'))\n",
    "\n",
    "results_goal = pd.DataFrame({'goal': pd.concat([data.gtr_0, data.gtr_1, data.gtr_2, data.gtr_3, data.gtr_4, data.gtr_5, \n",
    "                                          data.gtr_6, data.gtr_7, data.gtr_8, data.gtr_9, data.gtst_0, data.gtst_1, \n",
    "                                          data.gtst_2], ignore_index=True)}).sort_index()\n",
    "results_noplay = pd.DataFrame({'noplay': pd.concat([data.ntr_0, data.ntr_1, data.ntr_2, data.ntr_3, data.ntr_4, data.ntr_5, \n",
    "                               data.ntr_6, data.ntr_7, data.ntr_8, data.ntr_9, data.ntr_10, data.ntr_11, \n",
    "                               data.ntr_12, data.ntr_13, data.ntr_14, data.ntr_15, data.ntr_16, data.ntr_17, \n",
    "                               data.ntr_18, data.ntr_19, data.ntst_0, data.ntst_1, data.ntst_2, data.ntst_3, \n",
    "                               data.ntst_4], ignore_index=True)}).sort_index()\n",
    "results_aimless = pd.DataFrame({'aimless': pd.concat([data.aim_0, data.aim_1, data.aim_2, data.aim_3, data.aim_4, \n",
    "                                                      data.aim_5, data.aim_6, data.aim_7, data.aim_8, data.aim_9, \n",
    "                                                     data.aim_10, data.aim_11, data.aim_12, data.aim_13, data.aim_14, \n",
    "                                                     data.aim_15, data.aim_16, data.aim_17, data.aim_18, data.aim_19,\n",
    "                                                     data.aim_20], ignore_index=True)}).sort_index()\n",
    "\n",
    "all = [results_goal, results_noplay, results_aimless]\n",
    "\n",
    "result = pd.concat(all, sort=False, ignore_index=True)\n",
    "\n",
    "#print(result)\n",
    "errors = result.std()\n",
    "result.mean().plot(kind='bar', yerr=errors)\n"
   ]
  },
  {
   "cell_type": "code",
   "execution_count": null,
   "metadata": {},
   "outputs": [],
   "source": []
  },
  {
   "cell_type": "code",
   "execution_count": null,
   "metadata": {},
   "outputs": [],
   "source": [
    "model = nengo.Network()\n",
    "model.networks.append(net)\n",
    "with model:\n",
    "    stim = nengo.Node(nengo.processes.PresentInput(train_all, \n",
    "                                                   presentation_time=presentation_time_train))\n",
    "    for i in range(D):\n",
    "        nengo.Connection(stim[i], rw[i].input, synapse=None)\n",
    "        \n",
    "    ideal_results = [1.0, -1.0]\n",
    "    def ideal_func(t):\n",
    "        return ideal_results[int(t/5) % len(ideal_results)]\n",
    "    ideal_result = nengo.Node(ideal_func)\n",
    "    \n",
    "    result2 = nengo.Node(None, size_in=1)\n",
    "    nengo.Connection(pool, result2, eval_points=sim.data[p_pool], function=sim.data[p_ideal], scale_eval_points=False)\n",
    "    \n",
    "    p_result = nengo.Probe(result)\n",
    "    p_result2 = nengo.Probe(result2)\n",
    "    p_stim = nengo.Probe(stim)\n",
    "    \n",
    "sim2 = nengo.Simulator(model)\n",
    "sim2.run(10)"
   ]
  },
  {
   "cell_type": "code",
   "execution_count": null,
   "metadata": {},
   "outputs": [],
   "source": [
    "model = nengo.Network()\n",
    "model.networks.append(net)\n",
    "with model:\n",
    "    offsets = [-np.pi/2, np.pi]\n",
    "    def stim_func(t):\n",
    "        offset = offsets[int(t/5) % len(offsets)]\n",
    "        return np.sin(t*np.pi), np.sin(t*np.pi+offset)\n",
    "\n",
    "    ideal_results = [1.0, -1.0]\n",
    "    def ideal_func(t):\n",
    "        return ideal_results[int(t/5) % len(ideal_results)]\n",
    "    ideal_result = nengo.Node(ideal_func)\n",
    "    \n",
    "    \n",
    "    \n",
    "    stim = nengo.Node(stim_func)\n",
    "    for i in range(D):\n",
    "        nengo.Connection(stim[i], rw[i].input, synapse=None)\n",
    "    \n",
    "    p_result = nengo.Probe(result)\n",
    "    p_stim = nengo.Probe(stim)\n",
    "    p_pool = nengo.Probe(pool)\n",
    "    p_ideal = nengo.Probe(ideal_result)"
   ]
  }
 ],
 "metadata": {
  "kernelspec": {
   "display_name": "Python 3",
   "language": "python",
   "name": "python3"
  },
  "language_info": {
   "codemirror_mode": {
    "name": "ipython",
    "version": 3
   },
   "file_extension": ".py",
   "mimetype": "text/x-python",
   "name": "python",
   "nbconvert_exporter": "python",
   "pygments_lexer": "ipython3",
   "version": "3.6.5"
  }
 },
 "nbformat": 4,
 "nbformat_minor": 2
}
