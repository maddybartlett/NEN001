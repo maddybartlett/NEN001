{
 "cells": [
  {
   "cell_type": "code",
   "execution_count": null,
   "metadata": {},
   "outputs": [],
   "source": [
    "import numpy as np\n",
    "import pandas as pd\n",
    "import random\n",
    "from sklearn.decomposition import PCA\n",
    "import matplotlib.pyplot as plt\n",
    "import pickle"
   ]
  },
  {
   "cell_type": "markdown",
   "metadata": {},
   "source": [
    "# Examine PCA Models"
   ]
  },
  {
   "cell_type": "code",
   "execution_count": null,
   "metadata": {},
   "outputs": [],
   "source": [
    "pickle_filename = \"%s_pca_model.pkl\" % seed\n",
    "with open(pickle_filename, 'rb') as file:\n",
    "    pca_model = pickle.load(file)\n",
    "    \n",
    "loadings = pca_model.components_\n",
    "plt.scatter(*loadings, alpha=0.3, label=\"Loadings\");\n",
    "\n",
    "plt.title(\"Loading plot\");\n",
    "plt.xlabel(\"Loadings on PC1\");\n",
    "plt.ylabel(\"Loadings on PC2\");\n",
    "plt.grid();\n",
    "plt.legend(loc='lower left');"
   ]
  },
  {
   "cell_type": "code",
   "execution_count": null,
   "metadata": {},
   "outputs": [],
   "source": [
    "loadings"
   ]
  },
  {
   "cell_type": "code",
   "execution_count": null,
   "metadata": {},
   "outputs": [],
   "source": []
  },
  {
   "cell_type": "markdown",
   "metadata": {},
   "source": [
    "# Unstacking Training Patterns"
   ]
  },
  {
   "cell_type": "code",
   "execution_count": null,
   "metadata": {},
   "outputs": [],
   "source": [
    "seed=0\n",
    "goal_train_pca=np.load('Training_Out\\%s_goal_train_pca.npy' % seed)\n",
    "\n",
    "goal_train_dict={}\n",
    "a=0\n",
    "for i in range(len(goal_train_time)):\n",
    "    b=a+int(len(goal_train_time[i]))\n",
    "    goal_train_dict[i]=goal_train_pca[a:b]\n",
    "    a=b"
   ]
  },
  {
   "cell_type": "code",
   "execution_count": null,
   "metadata": {},
   "outputs": [],
   "source": []
  }
 ],
 "metadata": {
  "kernelspec": {
   "display_name": "Python 3",
   "language": "python",
   "name": "python3"
  },
  "language_info": {
   "codemirror_mode": {
    "name": "ipython",
    "version": 3
   },
   "file_extension": ".py",
   "mimetype": "text/x-python",
   "name": "python",
   "nbconvert_exporter": "python",
   "pygments_lexer": "ipython3",
   "version": "3.7.0"
  }
 },
 "nbformat": 4,
 "nbformat_minor": 2
}
