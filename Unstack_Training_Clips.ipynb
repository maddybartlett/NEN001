{
 "cells": [
  {
   "cell_type": "code",
   "execution_count": null,
   "metadata": {},
   "outputs": [],
   "source": [
    "import numpy as np\n",
    "import pandas as pd\n",
    "import random\n",
    "from sklearn.decomposition import PCA\n",
    "import matplotlib.pyplot as plt\n",
    "import pickle"
   ]
  },
  {
   "cell_type": "markdown",
   "metadata": {},
   "source": [
    "# Examine PCA Models"
   ]
  },
  {
   "cell_type": "code",
   "execution_count": null,
   "metadata": {},
   "outputs": [],
   "source": [
    "seed = 0\n",
    "pickle_filename = \"Training_Out/%s_pca_model.pkl\" % seed\n",
    "with open(pickle_filename, 'rb') as file:\n",
    "    pca_model = pickle.load(file)\n",
    "    \n",
    "loadings = pca_model.components_\n",
    "plt.scatter(*loadings, alpha=0.3, label=\"Loadings\");\n",
    "\n",
    "plt.title(\"Loading plot\");\n",
    "plt.xlabel(\"Loadings on PC1\");\n",
    "plt.ylabel(\"Loadings on PC2\");\n",
    "plt.grid();\n",
    "plt.legend(loc='lower left');"
   ]
  },
  {
   "cell_type": "code",
   "execution_count": null,
   "metadata": {},
   "outputs": [],
   "source": [
    "df1=pd.DataFrame(loadings)"
   ]
  },
  {
   "cell_type": "code",
   "execution_count": null,
   "metadata": {},
   "outputs": [],
   "source": [
    "df2=pd.DataFrame(abs(loadings)<0.05).T\n",
    "#df2"
   ]
  },
  {
   "cell_type": "code",
   "execution_count": null,
   "metadata": {},
   "outputs": [],
   "source": [
    "df2[0].value_counts(dropna=False)"
   ]
  },
  {
   "cell_type": "code",
   "execution_count": null,
   "metadata": {},
   "outputs": [],
   "source": [
    "df2[1].value_counts(dropna=False)"
   ]
  },
  {
   "cell_type": "markdown",
   "metadata": {},
   "source": [
    "# Unstacking Training Patterns"
   ]
  },
  {
   "cell_type": "code",
   "execution_count": null,
   "metadata": {},
   "outputs": [],
   "source": [
    "for j in range(20):   \n",
    "    seed=0\n",
    "    goal_train_pca=np.load('Training_Out/%s_goal_train_pca.npy' % seed)\n",
    "    goal_train_time=np.load('Training_Out/%s_goal_train_time.npy' % seed)\n",
    "\n",
    "    goal_train_dict={}\n",
    "    a=0\n",
    "    for i in range(len(goal_train_time)):\n",
    "        b=len(goal_train_time[i])\n",
    "        goal_train_dict[i]=goal_train_pca[a:(a+b)]\n",
    "        a=b\n",
    "\n",
    "    pickle_filename = \"Unstacked_Training/%s_goal_train_dict.pkl\" % seed\n",
    "    with open(pickle_filename, 'wb') as file:\n",
    "        pickle.dump(goal_train_dict, file)"
   ]
  },
  {
   "cell_type": "code",
   "execution_count": null,
   "metadata": {},
   "outputs": [],
   "source": [
    "for j in range(20):   \n",
    "    seed=j\n",
    "    noplay_train_pca=np.load('Training_Out/%s_noplay_train_pca.npy' % seed)\n",
    "    noplay_train_time=np.load('Training_Out/%s_noplay_train_time.npy' % seed)\n",
    "\n",
    "    noplay_train_dict={}\n",
    "    a=0\n",
    "    for i in range(len(noplay_train_time)):\n",
    "        b=len(noplay_train_time[i])\n",
    "        noplay_train_dict[i]=noplay_train_pca[a:(a+b)]\n",
    "        a=b\n",
    "\n",
    "    pickle_filename = \"Unstacked_Training/%s_noplay_train_dict.pkl\" % seed\n",
    "    with open(pickle_filename, 'wb') as file:\n",
    "        pickle.dump(noplay_train_dict, file)"
   ]
  },
  {
   "cell_type": "code",
   "execution_count": null,
   "metadata": {},
   "outputs": [],
   "source": [
    "pickle_filename = \"Unstacked_Training/0_goal_train_dict.pkl\"\n",
    "with open(pickle_filename, 'rb') as file:\n",
    "    goal_train_dict = pickle.load(file)\n",
    "    \n",
    "len(goal_train_dict)"
   ]
  },
  {
   "cell_type": "code",
   "execution_count": null,
   "metadata": {},
   "outputs": [],
   "source": []
  }
 ],
 "metadata": {
  "kernelspec": {
   "display_name": "Python 3",
   "language": "python",
   "name": "python3"
  },
  "language_info": {
   "codemirror_mode": {
    "name": "ipython",
    "version": 3
   },
   "file_extension": ".py",
   "mimetype": "text/x-python",
   "name": "python",
   "nbconvert_exporter": "python",
   "pygments_lexer": "ipython3",
   "version": "3.7.0"
  }
 },
 "nbformat": 4,
 "nbformat_minor": 2
}
