{
 "cells": [
  {
   "cell_type": "code",
   "execution_count": 2,
   "metadata": {},
   "outputs": [],
   "source": [
    "import numpy as np\n",
    "import pandas as pd\n",
    "import random\n",
    "from sklearn.decomposition import PCA\n",
    "import matplotlib.pyplot as plt\n",
    "import pickle"
   ]
  },
  {
   "cell_type": "markdown",
   "metadata": {},
   "source": [
    "# Examine PCA Models"
   ]
  },
  {
   "cell_type": "code",
   "execution_count": 5,
   "metadata": {},
   "outputs": [
    {
     "data": {
      "image/png": "[encoded data removed]",
      "text/plain": [
       "<Figure size 432x288 with 1 Axes>"
      ]
     },
     "metadata": {
      "needs_background": "light"
     },
     "output_type": "display_data"
    }
   ],
   "source": [
    "pickle_filename = \"%s_pca_model.pkl\" % seed\n",
    "with open(pickle_filename, 'rb') as file:\n",
    "    pca_model = pickle.load(file)\n",
    "    \n",
    "loadings = pca_model.components_\n",
    "plt.scatter(*loadings, alpha=0.3, label=\"Loadings\");\n",
    "\n",
    "plt.title(\"Loading plot\");\n",
    "plt.xlabel(\"Loadings on PC1\");\n",
    "plt.ylabel(\"Loadings on PC2\");\n",
    "plt.grid();\n",
    "plt.legend(loc='lower left');"
   ]
  },
  {
   "cell_type": "code",
   "execution_count": 6,
   "metadata": {},
   "outputs": [
    {
     "data": {
      "text/plain": [
       "array([[-0.09978514,  0.03740532, -0.09708238,  0.03840405, -0.09446689,\n",
       "         0.03942361, -0.09192353,  0.03982425, -0.0897111 ,  0.04092893,\n",
       "        -0.0876016 ,  0.04207531, -0.08605214,  0.04364607, -0.08481659,\n",
       "         0.04541168, -0.08531129,  0.04692896, -0.08759243,  0.04817553,\n",
       "        -0.09036543,  0.04837475, -0.09250954,  0.04835681, -0.09494204,\n",
       "         0.047841  , -0.09692922,  0.04765113, -0.09907527,  0.04768666,\n",
       "        -0.10080135,  0.04732571, -0.10343595,  0.03745406, -0.10004271,\n",
       "         0.03783072, -0.10178364,  0.03890271, -0.10343432,  0.04053551,\n",
       "        -0.10403304,  0.04208325, -0.10419316,  0.04535849, -0.1063011 ,\n",
       "         0.04606412, -0.10829286,  0.04690183, -0.10968482,  0.04815671,\n",
       "        -0.11060811,  0.04885609, -0.109939  ,  0.0447307 , -0.10339364,\n",
       "         0.04470511, -0.10208411,  0.04501711, -0.10088785,  0.04515654,\n",
       "        -0.09907273,  0.04411012, -0.09711558,  0.04476007, -0.09732124,\n",
       "         0.04540717, -0.09740285,  0.04610517, -0.09782083,  0.04674327,\n",
       "        -0.09841107,  0.04023435, -0.09843546,  0.04096251, -0.09904501,\n",
       "         0.04170845, -0.10008766,  0.04263879, -0.10058825,  0.04189979,\n",
       "        -0.09981315,  0.04117868, -0.09860225,  0.04680433, -0.10418239,\n",
       "         0.04737102, -0.10427935,  0.04799303, -0.10489249,  0.04880162,\n",
       "        -0.1058096 ,  0.04827927, -0.10470459,  0.04764083, -0.10437148,\n",
       "         0.04304874, -0.09214805,  0.04391418, -0.09419192,  0.04493051,\n",
       "        -0.09563555,  0.04577029, -0.09596982,  0.0464618 , -0.09659303,\n",
       "         0.04719476, -0.09628625,  0.04791133, -0.09551173,  0.04758769,\n",
       "        -0.09376928,  0.0469326 , -0.09212636,  0.04616946, -0.09125634,\n",
       "         0.04523056, -0.09075951,  0.04422493, -0.09120552,  0.04369126,\n",
       "        -0.09258767,  0.04500191, -0.09436169,  0.04586472, -0.09486579,\n",
       "         0.04657042, -0.0954276 ,  0.04749451, -0.09517838,  0.04675383,\n",
       "        -0.09365389,  0.04606991, -0.09281476,  0.04516071, -0.09255032,\n",
       "         0.04131793, -0.09918598,  0.04776855, -0.10453187,  0.03999127,\n",
       "        -0.10023627,  0.03556226, -0.07680584,  0.03250068, -0.06615623,\n",
       "         0.02707659, -0.02688892,  0.02737419, -0.00695688,  0.03623018,\n",
       "        -0.08791741,  0.04472955, -0.01074452,  0.0558317 ,  0.03388256,\n",
       "         0.08671343,  0.09892314,  0.0298959 ,  0.01125705, -0.01451976,\n",
       "        -0.07153164,  0.12733356,  0.11535135,  0.12419523,  0.11101533,\n",
       "        -0.06168245, -0.07965691,  0.03669944, -0.10031106,  0.03945956,\n",
       "        -0.1045279 ,  0.03340173, -0.08473698,  0.03402605, -0.10078114,\n",
       "        -0.06951002,  0.02358847,  0.03437229,  0.04141569, -0.00377457,\n",
       "        -0.01311765,  0.04100443, -0.02046617, -0.05673312],\n",
       "       [-0.02308427, -0.08949913, -0.0271057 , -0.08999895, -0.03083896,\n",
       "        -0.09056746, -0.03507267, -0.09107601, -0.03922264, -0.09189335,\n",
       "        -0.04209692, -0.09258806, -0.04405187, -0.09375601, -0.04654114,\n",
       "        -0.09601943, -0.04872915, -0.09783029, -0.05048979, -0.10028536,\n",
       "        -0.05168287, -0.10221699, -0.05258368, -0.10381004, -0.05219657,\n",
       "        -0.10506893, -0.05063004, -0.10602709, -0.04893999, -0.1078438 ,\n",
       "        -0.04755722, -0.10896331, -0.04474325, -0.09482625, -0.02349578,\n",
       "        -0.0973474 , -0.02290431, -0.10035093, -0.02344433, -0.10285043,\n",
       "        -0.02450547, -0.10508348, -0.02640735, -0.11053761, -0.03016261,\n",
       "        -0.11266362, -0.03140357, -0.11451787, -0.03343559, -0.11598747,\n",
       "        -0.03601838, -0.11613248, -0.03962028, -0.1065482 , -0.03139509,\n",
       "        -0.10626497, -0.03325251, -0.1062127 , -0.03504876, -0.10605634,\n",
       "        -0.03681299, -0.10232196, -0.03735104, -0.10346814, -0.03838291,\n",
       "        -0.10450701, -0.03944563, -0.10543925, -0.03995125, -0.10621316,\n",
       "        -0.04049607, -0.09661564, -0.02810007, -0.09858488, -0.02844406,\n",
       "        -0.10018956, -0.02938949, -0.10150665, -0.03092568, -0.09956005,\n",
       "        -0.03058194, -0.09776962, -0.02960355, -0.10891577, -0.03553996,\n",
       "        -0.11053358, -0.03602086, -0.11175914, -0.03759839, -0.11219734,\n",
       "        -0.03964775, -0.11114755, -0.03885005, -0.10994091, -0.03723104,\n",
       "        -0.09705395, -0.03935752, -0.09999512, -0.03935506, -0.10209504,\n",
       "        -0.03995073, -0.10315354, -0.04124484, -0.10414794, -0.04202658,\n",
       "        -0.10504733, -0.0438507 , -0.10567995, -0.04617537, -0.10399635,\n",
       "        -0.04634371, -0.10247442, -0.04558881, -0.10119786, -0.0444148 ,\n",
       "        -0.09987431, -0.04334016, -0.09857864, -0.0416377 , -0.09809709,\n",
       "        -0.04006749, -0.101093  , -0.04113616, -0.10250544, -0.04209836,\n",
       "        -0.10362461, -0.04315266, -0.10533563, -0.04540444, -0.10337185,\n",
       "        -0.04387611, -0.10215356, -0.04291018, -0.10073887, -0.04186024,\n",
       "        -0.09909738, -0.02952324, -0.11089379, -0.03713947, -0.10044833,\n",
       "        -0.03570369, -0.07426409, -0.04535385, -0.06719625, -0.02679905,\n",
       "        -0.04721609, -0.00754913, -0.06187845, -0.00114909, -0.07507888,\n",
       "        -0.06265298, -0.0089998 ,  0.01044462,  0.0018033 ,  0.03737564,\n",
       "         0.07739337,  0.09887161, -0.00497624,  0.03155599,  0.00792416,\n",
       "        -0.00802161,  0.10485998,  0.11106216,  0.02065373,  0.03223971,\n",
       "        -0.04939048, -0.05454418, -0.09644954, -0.02920665, -0.10423502,\n",
       "        -0.03584607, -0.07927703, -0.03192046, -0.09029966, -0.04333053,\n",
       "         0.09350835,  0.03085104,  0.0357741 ,  0.11450106, -0.07316986,\n",
       "        -0.02654392, -0.04530264, -0.02889953, -0.01016004]])"
      ]
     },
     "execution_count": 6,
     "metadata": {},
     "output_type": "execute_result"
    }
   ],
   "source": [
    "loadings"
   ]
  },
  {
   "cell_type": "code",
   "execution_count": null,
   "metadata": {},
   "outputs": [],
   "source": []
  },
  {
   "cell_type": "markdown",
   "metadata": {},
   "source": [
    "# Unstacking Training Patterns"
   ]
  },
  {
   "cell_type": "code",
   "execution_count": 4,
   "metadata": {},
   "outputs": [],
   "source": [
    "for j in range(1):   \n",
    "    seed=j\n",
    "    goal_train_pca=np.load('Training_Out\\%s_goal_train_pca.npy' % seed)\n",
    "    goal_train_time=np.load('Training_Out\\%s_goal_train_time.npy' % seed)\n",
    "\n",
    "    goal_train_dict={}\n",
    "    a=0\n",
    "    for i in range(len(goal_train_time)):\n",
    "        b=a+int(len(goal_train_time[i]))\n",
    "        goal_train_dict[i]=goal_train_pca[a:b]\n",
    "        a=b\n",
    "\n",
    "    np.save('%s_goal_train_dict.npy' % seed, goal_train_dict)"
   ]
  },
  {
   "cell_type": "code",
   "execution_count": null,
   "metadata": {},
   "outputs": [],
   "source": []
  }
 ],
 "metadata": {
  "kernelspec": {
   "display_name": "Python 3",
   "language": "python",
   "name": "python3"
  },
  "language_info": {
   "codemirror_mode": {
    "name": "ipython",
    "version": 3
   },
   "file_extension": ".py",
   "mimetype": "text/x-python",
   "name": "python",
   "nbconvert_exporter": "python",
   "pygments_lexer": "ipython3",
   "version": "3.7.0"
  }
 },
 "nbformat": 4,
 "nbformat_minor": 2
}
