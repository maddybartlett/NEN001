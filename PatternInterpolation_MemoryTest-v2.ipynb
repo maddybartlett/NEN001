{
 "cells": [
  {
   "cell_type": "code",
   "execution_count": 1,
   "metadata": {
    "collapsed": true
   },
   "outputs": [],
   "source": [
    "%matplotlib inline\n",
    "import matplotlib.pyplot as plt\n",
    "import nengo\n",
    "import nengolib\n",
    "import numpy as np\n",
    "import pandas as pd\n",
    "import random\n",
    "import scipy as sp\n",
    "from sklearn.metrics import accuracy_score\n",
    "from sklearn.decomposition import PCA\n",
    "\n",
    "import pytry"
   ]
  },
  {
   "cell_type": "code",
   "execution_count": 23,
   "metadata": {
    "collapsed": true
   },
   "outputs": [],
   "source": [
    "import timeit\n",
    "\n",
    "class FileProbeProcess(nengo.Process):\n",
    "    def __init__(self, filename, buffer_time=1.0, buffer_steps=100, dtype=np.dtype(float)):\n",
    "        self.filename = filename\n",
    "        self.buffer_time = buffer_time\n",
    "        self.buffer_steps = buffer_steps\n",
    "        self.f = None\n",
    "        self.dtype = dtype\n",
    "        super(FileProbeProcess, self).__init__(default_size_out=0)\n",
    "        \n",
    "    def flush(self):\n",
    "        for i in range(self.n_steps):\n",
    "            self.data[i].tofile(self.f)\n",
    "        self.f.flush()\n",
    "        self.n_steps = 0\n",
    "        self.last_time = timeit.default_timer()\n",
    "    \n",
    "        \n",
    "    def make_step(self, shape_in, shape_out, dt, rng):\n",
    "        if self.f is None:\n",
    "            self.f = open(self.filename, 'wb')\n",
    "\n",
    "            self.n_steps = 0\n",
    "            self.last_time = timeit.default_timer()\n",
    "            self.data = np.zeros((self.buffer_steps, shape_in[0]), dtype=self.dtype)\n",
    "        \n",
    "        \n",
    "        def step(t, x):\n",
    "            self.data[self.n_steps] = x\n",
    "            self.n_steps += 1\n",
    "            if self.n_steps >= self.buffer_steps or timeit.default_timer() > self.last_time + self.buffer_time:\n",
    "                self.flush()\n",
    "                \n",
    "        return step\n",
    "        \n",
    "        \n",
    "    def close(self):\n",
    "        self.flush()\n",
    "        self.f.close()\n",
    "        self.f = None\n",
    "        \n",
    "        "
   ]
  },
  {
   "cell_type": "code",
   "execution_count": 3,
   "metadata": {
    "collapsed": true
   },
   "outputs": [],
   "source": [
    "data = pd.read_csv(\"pinsoro-2017-06-20-145454904791-small.csv\", low_memory=False)\n",
    "\n",
    "x = np.array(data.iloc[:,11:195]).astype(float) #array of data for purple child (points in space for each frame)\n",
    "labs = np.array(data.iloc[:,218]).astype(str) #array of labels (purple child annotations, engagement)\n",
    "a = []\n",
    "for i in range(x.shape[1]):\n",
    "    y = pd.Series(x[:,i])\n",
    "    z = y.interpolate(limit_direction='both')\n",
    "    a.append(z)\n",
    "a = pd.DataFrame(a)\n",
    "a = a.dropna()\n",
    "a = np.array(a).T\n",
    "\n",
    "dt = 0.001"
   ]
  },
  {
   "cell_type": "code",
   "execution_count": 46,
   "metadata": {},
   "outputs": [
    {
     "data": {
      "text/plain": [
       "[<matplotlib.lines.Line2D at 0x13f23ba3588>]"
      ]
     },
     "execution_count": 46,
     "metadata": {},
     "output_type": "execute_result"
    },
    {
     "data": {
      "image/png": "[encoded data removed]",
      "text/plain": [
       "<matplotlib.figure.Figure at 0x13f23c99240>"
      ]
     },
     "metadata": {},
     "output_type": "display_data"
    }
   ],
   "source": [
    "data_t = np.array(data['timestamp'])\n",
    "\n",
    "\n",
    "plt.plot(data_t, (data_t-data_t[0])/60/60)"
   ]
  },
  {
   "cell_type": "code",
   "execution_count": 4,
   "metadata": {
    "collapsed": true
   },
   "outputs": [],
   "source": [
    "def extract_pattern(start, end): #function to extract consecutive frames with the same label \n",
    "    pattern = np.array(a[start:end,:]).astype(float)\n",
    "    frames = np.array(data.iloc[start:end,9]).astype(int)\n",
    "\n",
    "    good_indices = frames != -1\n",
    "    frames = frames[good_indices]\n",
    "    pattern = pattern[good_indices]\n",
    "\n",
    "    fps = 30.0\n",
    "    t_sample = (frames - frames[0])/fps\n",
    "\n",
    "    t = np.arange(int(t_sample[-1]/dt))*dt\n",
    "\n",
    "    result = []\n",
    "    for i in range(pattern.shape[1]):       \n",
    "        p = np.interp(t, t_sample, pattern[:,i])\n",
    "        result.append(p)\n",
    "    result = np.array(result).T\n",
    "\n",
    "    return t, result"
   ]
  },
  {
   "cell_type": "code",
   "execution_count": 5,
   "metadata": {
    "collapsed": true
   },
   "outputs": [],
   "source": [
    "start=[]\n",
    "start.append(0)\n",
    "end=[]\n",
    "label = []\n",
    "for i in range(1, (len(labs)-1)):\n",
    "    if labs[i]!=labs[i-1]:\n",
    "        start.append(i)\n",
    "    if labs[i]!=labs[i+1]:\n",
    "        end.append(i)\n",
    "        label.append(labs[i])"
   ]
  },
  {
   "cell_type": "code",
   "execution_count": 6,
   "metadata": {
    "collapsed": true
   },
   "outputs": [],
   "source": [
    "t_noplay=[]\n",
    "p_noplay=[]\n",
    "t_goal=[]\n",
    "p_goal=[]\n",
    "t_aim=[]\n",
    "p_aim=[]\n",
    "\n",
    "for i in range(1,(len(start)-1)):\n",
    "    if label[i]==('noplay'):\n",
    "        ti, pi = extract_pattern(start[i], end[i])\n",
    "        t_noplay.append(ti)\n",
    "        p_noplay.append(pi)\n",
    "    if label[i]==('goaloriented'):\n",
    "        ti, pi = extract_pattern(start[i], end[i])\n",
    "        t_goal.append(ti)\n",
    "        p_goal.append(pi)\n",
    "    if label[i]==('aimless'):\n",
    "        ti, pi = extract_pattern(start[i], end[i])\n",
    "        t_aim.append(ti)\n",
    "        p_aim.append(pi)"
   ]
  },
  {
   "cell_type": "code",
   "execution_count": 7,
   "metadata": {
    "collapsed": true
   },
   "outputs": [],
   "source": [
    "############ randomly split data 80/20 into training and testing sets ############ \n",
    "random.shuffle(p_goal)\n",
    "goal_train = p_goal[:(int(len(p_goal)*0.8))] \n",
    "goal_test = p_goal[(int(len(p_goal)*0.8)):]\n",
    "\n",
    "random.shuffle(p_noplay)\n",
    "noplay_train = p_noplay[:(int(len(p_noplay)*0.8))]\n",
    "noplay_test = p_noplay[(int(len(p_noplay)*0.8)):]"
   ]
  },
  {
   "cell_type": "code",
   "execution_count": 8,
   "metadata": {
    "collapsed": true
   },
   "outputs": [],
   "source": [
    "############ create pca model and convert each pattern into single dimension (first PCA construct) ############ \n",
    "train_all = np.vstack(goal_train+noplay_train)\n",
    "pca_model = PCA(n_components=2).fit(train_all)\n",
    "\n",
    "goal_patterns1 = {}\n",
    "goal_patterns2 = {}\n",
    "i=0\n",
    "for gp in goal_train:\n",
    "    goal_patterns1[i] = pca_model.transform(gp)[:,0]\n",
    "    goal_patterns2[i] = pca_model.transform(gp)[:,1]\n",
    "    i+=1\n",
    "\n",
    "noplay_patterns1 = {}\n",
    "noplay_patterns2 = {}\n",
    "i=0\n",
    "for npp in noplay_train:\n",
    "    noplay_patterns1[i] = pca_model.transform(npp)[:,0]\n",
    "    noplay_patterns2[i] = pca_model.transform(npp)[:,1]\n",
    "    i+=1"
   ]
  },
  {
   "cell_type": "code",
   "execution_count": 9,
   "metadata": {
    "collapsed": true
   },
   "outputs": [],
   "source": [
    "goal_patterns1 = [(goal_patterns1[key]) for key in goal_patterns1.keys()]\n",
    "goal_patterns2 = [(goal_patterns2[key]) for key in goal_patterns2.keys()]\n",
    "noplay_patterns1 = [(noplay_patterns1[key]) for key in noplay_patterns1.keys()]\n",
    "noplay_patterns2 = [(noplay_patterns2[key]) for key in noplay_patterns2.keys()]\n",
    "\n",
    "goal_patterns = np.vstack([goal_patterns1[0], goal_patterns2[0]]).T\n",
    "for gp in range(1,len(goal_train)):\n",
    "    goal_patterns = np.append(goal_patterns, (np.vstack([goal_patterns1[gp], goal_patterns2[gp]]).T), axis=0) \n",
    "noplay_patterns = np.vstack([noplay_patterns1[0], noplay_patterns2[0]]).T\n",
    "for npp in range(1,len(noplay_train)):\n",
    "    noplay_patterns = np.append(noplay_patterns, (np.vstack([noplay_patterns1[npp], noplay_patterns2[npp]]).T), axis=0) "
   ]
  },
  {
   "cell_type": "code",
   "execution_count": 85,
   "metadata": {},
   "outputs": [
    {
     "name": "stderr",
     "output_type": "stream",
     "text": [
      "c:\\users\\terry\\py3\\lib\\site-packages\\scipy\\signal\\filter_design.py:1551: BadCoefficients: Badly conditioned filter coefficients (numerator): the results may be meaningless\n",
      "  \"results may be meaningless\", BadCoefficients)\n"
     ]
    }
   ],
   "source": [
    "############ TRAINING WITH 80% ############ \n",
    "D = 2\n",
    "\n",
    "theta = 0.5\n",
    "net = nengo.Network()\n",
    "with net:\n",
    "    process = nengo.processes.WhiteSignal(period=100., high=3.0, y0=0)\n",
    "    #rw = nengolib.networks.RollingWindow(theta=theta, n_neurons=q.n_neurons, process=process, neuron_type=nengo.LIFRate(tau_rc=0.02, tau_ref=0.002, amplitude=1))\n",
    "    rw = []\n",
    "    for i in range(D):\n",
    "        rw.append(nengolib.networks.RollingWindow(theta=theta, n_neurons=3000, \n",
    "                                                  process=process, \n",
    "                                                  neuron_type=nengo.LIFRate()))"
   ]
  },
  {
   "cell_type": "code",
   "execution_count": 65,
   "metadata": {},
   "outputs": [],
   "source": [
    "s_window = int(theta/dt)\n",
    "s_pattern = len(min(goal_patterns1, key=len))\n",
    "\n",
    "t_window = np.linspace(0, 1, s_window)\n",
    "inv_basis = rw[0].inverse_basis(t_window)\n",
    "\n",
    "\n",
    "n_keep = 10*1000\n",
    "\n",
    "eval_points=[]\n",
    "target = []\n",
    "for i in range(s_pattern)[:n_keep]:\n",
    "    eval_points.append(np.dot(inv_basis, np.roll(goal_patterns, i)[:s_window]).T)\n",
    "    target.append([1])\n",
    "for i in range(s_pattern)[:n_keep]:  \n",
    "    eval_points.append(np.dot(inv_basis, np.roll(noplay_patterns, i)[:s_window]).T)\n",
    "    target.append([-1])\n",
    "eval_points = np.array(eval_points).reshape(len(eval_points), -1)"
   ]
  },
  {
   "cell_type": "code",
   "execution_count": 86,
   "metadata": {
    "collapsed": true
   },
   "outputs": [],
   "source": [
    "############ TEST ON TRAINING PATTERNS ############ \n",
    "\n",
    "with net:\n",
    "\n",
    "    pool = nengo.Ensemble(n_neurons=3000, dimensions=eval_points.shape[1],\n",
    "                          neuron_type=nengo.LIFRate(), seed=1)\n",
    "\n",
    "    start = 0\n",
    "    for r in rw:\n",
    "        nengo.Connection(r.state, pool[start:start+r.state.size_out])\n",
    "        start += r.state.size_out\n",
    "\n",
    "    result = nengo.Node(None, size_in=1)\n",
    "    dec_conn = nengo.Connection(pool, result,\n",
    "                     eval_points=eval_points, scale_eval_points=False,\n",
    "                     function=target, synapse=0.1)"
   ]
  },
  {
   "cell_type": "code",
   "execution_count": 82,
   "metadata": {
    "collapsed": true
   },
   "outputs": [],
   "source": [
    "train_all1 = np.array(goal_patterns1[0])\n",
    "for gp in range(1,(len(goal_patterns1))):\n",
    "    train_all1 = np.hstack([train_all1,goal_patterns1[gp]])\n",
    "train_all1 = train_all1[:n_keep]\n",
    "for npp in range(0,(len(noplay_patterns1))):\n",
    "    train_all1 = np.hstack([train_all1,noplay_patterns1[npp]])\n",
    "train_all1 = train_all1[:n_keep*2]\n",
    "\n",
    "train_all2 = np.array(goal_patterns2[0])\n",
    "for gp in range(1,(len(goal_patterns2))):\n",
    "    train_all2 = np.hstack([train_all2,goal_patterns2[gp]])\n",
    "train_all2 = train_all2[:n_keep]\n",
    "for npp in range(0,(len(noplay_patterns2))):\n",
    "    train_all2 = np.hstack([train_all2,noplay_patterns2[npp]])\n",
    "train_all2 = train_all2[:n_keep*2]\n"
   ]
  },
  {
   "cell_type": "code",
   "execution_count": 83,
   "metadata": {
    "collapsed": true
   },
   "outputs": [],
   "source": [
    "train_all = np.vstack([train_all1, train_all2]).T"
   ]
  },
  {
   "cell_type": "code",
   "execution_count": 87,
   "metadata": {},
   "outputs": [
    {
     "name": "stderr",
     "output_type": "stream",
     "text": [
      "c:\\users\\terry\\documents\\github\\nengolib\\nengolib\\signal\\system.py:717: UserWarning: Filtering with non-SISO systems is an experimental feature that may not behave as expected.\n",
      "  \"expected.\", UserWarning)\n"
     ]
    },
    {
     "data": {
      "application/vdom.v1+json": {
       "attributes": {},
       "tagName": "div"
      },
      "text/html": [
       "\n",
       "                <script>\n",
       "                    if (Jupyter.version.split(\".\")[0] < 5) {\n",
       "                        var pb = document.getElementById(\"b01da1f7-75bc-4fe9-977d-fb9ccd70ad44\");\n",
       "                        var text = document.createTextNode(\n",
       "                            \"HMTL progress bar requires Jupyter Notebook >= \" +\n",
       "                            \"5.0 or Jupyter Lab. Alternatively, you can use \" +\n",
       "                            \"TerminalProgressBar().\");\n",
       "                        pb.parentNode.insertBefore(text, pb);\n",
       "                    }\n",
       "                </script>\n",
       "                <div id=\"b01da1f7-75bc-4fe9-977d-fb9ccd70ad44\" style=\"\n",
       "                    width: 100%;\n",
       "                    border: 1px solid #cfcfcf;\n",
       "                    border-radius: 4px;\n",
       "                    text-align: center;\n",
       "                    position: relative;\">\n",
       "                  <div class=\"pb-text\" style=\"\n",
       "                      position: absolute;\n",
       "                      width: 100%;\">\n",
       "                    0%\n",
       "                  </div>\n",
       "                  <div class=\"pb-fill\" style=\"\n",
       "                      background-color: #bdd2e6;\n",
       "                      width: 0%;\">\n",
       "                    <style type=\"text/css\" scoped=\"scoped\">\n",
       "                        @keyframes pb-fill-anim {\n",
       "                            0% { background-position: 0 0; }\n",
       "                            100% { background-position: 100px 0; }\n",
       "                        }\n",
       "                    </style>\n",
       "                    &nbsp;\n",
       "                  </div>\n",
       "                </div>"
      ],
      "text/plain": [
       "HtmlProgressBar cannot be displayed. Please use the TerminalProgressBar. It can be enabled with `nengo.rc.set('progress', 'progress_bar', 'nengo.utils.progress.TerminalProgressBar')`."
      ]
     },
     "metadata": {},
     "output_type": "display_data"
    },
    {
     "data": {
      "application/javascript": [
       "\n",
       "              (function () {\n",
       "                  var root = document.getElementById('b01da1f7-75bc-4fe9-977d-fb9ccd70ad44');\n",
       "                  var text = root.getElementsByClassName('pb-text')[0];\n",
       "                  var fill = root.getElementsByClassName('pb-fill')[0];\n",
       "\n",
       "                  text.innerHTML = 'Build finished in 0:00:25.';\n",
       "                  \n",
       "            fill.style.width = '100%';\n",
       "            fill.style.animation = 'pb-fill-anim 2s linear infinite';\n",
       "            fill.style.backgroundSize = '100px 100%';\n",
       "            fill.style.backgroundImage = 'repeating-linear-gradient(' +\n",
       "                '90deg, #bdd2e6, #edf2f8 40%, #bdd2e6 80%, #bdd2e6)';\n",
       "        \n",
       "                  \n",
       "                fill.style.animation = 'none';\n",
       "                fill.style.backgroundImage = 'none';\n",
       "            \n",
       "              })();\n",
       "        "
      ],
      "application/vdom.v1+json": {
       "attributes": {
        "id": "cf133f83-058b-4969-abc0-9153c0789535",
        "style": {
         "border": "1px solid #cfcfcf",
         "borderRadius": "4px",
         "boxSizing": "border-box",
         "position": "relative",
         "textAlign": "center",
         "width": "100%"
        }
       },
       "children": [
        {
         "attributes": {
          "class": "pb-text",
          "style": {
           "position": "absolute",
           "width": "100%"
          }
         },
         "children": [
          "Build finished in 0:00:25."
         ],
         "tagName": "div"
        },
        {
         "attributes": {
          "class": "pb-fill",
          "style": {
           "animation": "none",
           "backgroundColor": "#bdd2e6",
           "backgroundImage": "none",
           "backgroundSize": "100px 100%",
           "width": "100%"
          }
         },
         "children": [
          {
           "attributes": {
            "scoped": "scoped",
            "type": "text/css"
           },
           "children": [
            "\n                        @keyframes pb-fill-anim {\n                            0% { background-position: 0 0; }\n                            100% { background-position: 100px 0; }\n                        }}"
           ],
           "tagName": "style"
          },
          " "
         ],
         "tagName": "div"
        }
       ],
       "tagName": "div"
      }
     },
     "metadata": {},
     "output_type": "display_data"
    },
    {
     "data": {
      "application/vdom.v1+json": {
       "attributes": {},
       "tagName": "div"
      },
      "text/html": [
       "\n",
       "                <script>\n",
       "                    if (Jupyter.version.split(\".\")[0] < 5) {\n",
       "                        var pb = document.getElementById(\"1f770a94-1d57-487a-ad12-d4cb0605258d\");\n",
       "                        var text = document.createTextNode(\n",
       "                            \"HMTL progress bar requires Jupyter Notebook >= \" +\n",
       "                            \"5.0 or Jupyter Lab. Alternatively, you can use \" +\n",
       "                            \"TerminalProgressBar().\");\n",
       "                        pb.parentNode.insertBefore(text, pb);\n",
       "                    }\n",
       "                </script>\n",
       "                <div id=\"1f770a94-1d57-487a-ad12-d4cb0605258d\" style=\"\n",
       "                    width: 100%;\n",
       "                    border: 1px solid #cfcfcf;\n",
       "                    border-radius: 4px;\n",
       "                    text-align: center;\n",
       "                    position: relative;\">\n",
       "                  <div class=\"pb-text\" style=\"\n",
       "                      position: absolute;\n",
       "                      width: 100%;\">\n",
       "                    0%\n",
       "                  </div>\n",
       "                  <div class=\"pb-fill\" style=\"\n",
       "                      background-color: #bdd2e6;\n",
       "                      width: 0%;\">\n",
       "                    <style type=\"text/css\" scoped=\"scoped\">\n",
       "                        @keyframes pb-fill-anim {\n",
       "                            0% { background-position: 0 0; }\n",
       "                            100% { background-position: 100px 0; }\n",
       "                        }\n",
       "                    </style>\n",
       "                    &nbsp;\n",
       "                  </div>\n",
       "                </div>"
      ],
      "text/plain": [
       "HtmlProgressBar cannot be displayed. Please use the TerminalProgressBar. It can be enabled with `nengo.rc.set('progress', 'progress_bar', 'nengo.utils.progress.TerminalProgressBar')`."
      ]
     },
     "metadata": {},
     "output_type": "display_data"
    },
    {
     "data": {
      "application/javascript": [
       "\n",
       "              (function () {\n",
       "                  var root = document.getElementById('1f770a94-1d57-487a-ad12-d4cb0605258d');\n",
       "                  var text = root.getElementsByClassName('pb-text')[0];\n",
       "                  var fill = root.getElementsByClassName('pb-fill')[0];\n",
       "\n",
       "                  text.innerHTML = 'Simulation finished in 0:00:57.';\n",
       "                  \n",
       "            if (100.0 > 0.) {\n",
       "                fill.style.transition = 'width 0.1s linear';\n",
       "            } else {\n",
       "                fill.style.transition = 'none';\n",
       "            }\n",
       "\n",
       "            fill.style.width = '100.0%';\n",
       "            fill.style.animation = 'none';\n",
       "            fill.style.backgroundImage = 'none'\n",
       "        \n",
       "                  \n",
       "                fill.style.animation = 'none';\n",
       "                fill.style.backgroundImage = 'none';\n",
       "            \n",
       "              })();\n",
       "        "
      ],
      "application/vdom.v1+json": {
       "attributes": {
        "id": "50f2b73f-b33c-4ff8-8a74-81003a95dc5c",
        "style": {
         "border": "1px solid #cfcfcf",
         "borderRadius": "4px",
         "boxSizing": "border-box",
         "position": "relative",
         "textAlign": "center",
         "width": "100%"
        }
       },
       "children": [
        {
         "attributes": {
          "class": "pb-text",
          "style": {
           "position": "absolute",
           "width": "100%"
          }
         },
         "children": [
          "Simulation finished in 0:00:57."
         ],
         "tagName": "div"
        },
        {
         "attributes": {
          "class": "pb-fill",
          "style": {
           "animation": "none",
           "backgroundColor": "#bdd2e6",
           "backgroundImage": "none",
           "transition": "width 0.1s linear",
           "width": "100%"
          }
         },
         "children": [
          {
           "attributes": {
            "scoped": "scoped",
            "type": "text/css"
           },
           "children": [
            "\n                        @keyframes pb-fill-anim {\n                            0% { background-position: 0 0; }\n                            100% { background-position: 100px 0; }\n                        }}"
           ],
           "tagName": "style"
          },
          " "
         ],
         "tagName": "div"
        }
       ],
       "tagName": "div"
      }
     },
     "metadata": {},
     "output_type": "display_data"
    }
   ],
   "source": [
    "\n",
    "\n",
    "\n",
    "presentation_time_train=0.001\n",
    "\n",
    "\n",
    "model = nengo.Network()\n",
    "model.networks.append(net)\n",
    "with model:    \n",
    "    stim = nengo.Node(nengo.processes.PresentInput(train_all, presentation_time=presentation_time_train))\n",
    "    assert stim.size_out == D\n",
    "    for i in range(D):\n",
    "        nengo.Connection(stim[i], rw[i].input, synapse=None)\n",
    "\n",
    "    #fp_result = nengo.Node(FileProbeProcess('result.data'), size_in=result.size_out)\n",
    "    #nengo.Connection(result, fp_result, synapse=None)\n",
    "    p_result = nengo.Probe(result)\n",
    "    \n",
    "    #fp_stim = nengo.Node(FileProbeProcess('stim.data'), size_in=stim.size_out)\n",
    "    #nengo.Connection(stim, fp_stim, synapse=None)\n",
    "    p_stim = nengo.Probe(stim)\n",
    "    \n",
    "    #fp_pool = nengo.Node(FileProbeProcess('pool.data'), size_in=pool.size_out)\n",
    "    #nengo.Connection(pool, fp_pool, synapse=None)\n",
    "    p_pool = nengo.Probe(pool)\n",
    "sim = nengo.Simulator(model)\n",
    "sim.run(20)\n",
    "#fp_result.output.close()\n",
    "#fp_stim.output.close()\n",
    "#fp_pool.output.close()"
   ]
  },
  {
   "cell_type": "code",
   "execution_count": 88,
   "metadata": {},
   "outputs": [
    {
     "data": {
      "text/plain": [
       "[<matplotlib.lines.Line2D at 0x13f2d505a90>,\n",
       " <matplotlib.lines.Line2D at 0x13f2d505c50>]"
      ]
     },
     "execution_count": 88,
     "metadata": {},
     "output_type": "execute_result"
    },
    {
     "data": {
      "image/png": "[encoded data removed]",
      "text/plain": [
       "<matplotlib.figure.Figure at 0x13f24f62240>"
      ]
     },
     "metadata": {},
     "output_type": "display_data"
    }
   ],
   "source": [
    "plt.plot(train_all[:,:])"
   ]
  },
  {
   "cell_type": "code",
   "execution_count": 89,
   "metadata": {},
   "outputs": [
    {
     "data": {
      "text/plain": [
       "[<matplotlib.lines.Line2D at 0x13f2d581588>]"
      ]
     },
     "execution_count": 89,
     "metadata": {},
     "output_type": "execute_result"
    },
    {
     "data": {
      "image/png": "[encoded data removed]",
      "text/plain": [
       "<matplotlib.figure.Figure at 0x13f2d546198>"
      ]
     },
     "metadata": {},
     "output_type": "display_data"
    }
   ],
   "source": [
    "plt.plot(target)"
   ]
  },
  {
   "cell_type": "code",
   "execution_count": 90,
   "metadata": {},
   "outputs": [
    {
     "data": {
      "text/plain": [
       "(20000,)"
      ]
     },
     "execution_count": 90,
     "metadata": {},
     "output_type": "execute_result"
    }
   ],
   "source": [
    "train_all1.shape"
   ]
  },
  {
   "cell_type": "code",
   "execution_count": 91,
   "metadata": {},
   "outputs": [],
   "source": [
    "#data_result = np.fromfile('result.data').reshape(-1, result.size_out)\n",
    "#data_stim = np.fromfile('stim.data').reshape(-1, stim.size_out)\n",
    "#data_pool = np.fromfile('pool.data').reshape(-1, pool.size_out)\n",
    "\n"
   ]
  },
  {
   "cell_type": "code",
   "execution_count": 92,
   "metadata": {},
   "outputs": [
    {
     "data": {
      "text/plain": [
       "[<matplotlib.lines.Line2D at 0x13f2d649240>,\n",
       " <matplotlib.lines.Line2D at 0x13f2d649400>,\n",
       " <matplotlib.lines.Line2D at 0x13f2d6495f8>,\n",
       " <matplotlib.lines.Line2D at 0x13f2d6497f0>,\n",
       " <matplotlib.lines.Line2D at 0x13f2d6499e8>,\n",
       " <matplotlib.lines.Line2D at 0x13f2d649be0>,\n",
       " <matplotlib.lines.Line2D at 0x13f2d649dd8>,\n",
       " <matplotlib.lines.Line2D at 0x13f2d649fd0>,\n",
       " <matplotlib.lines.Line2D at 0x13f2d64f208>,\n",
       " <matplotlib.lines.Line2D at 0x13f2d64f400>,\n",
       " <matplotlib.lines.Line2D at 0x13f2d557f98>,\n",
       " <matplotlib.lines.Line2D at 0x13f2d64f7b8>]"
      ]
     },
     "execution_count": 92,
     "metadata": {},
     "output_type": "execute_result"
    },
    {
     "data": {
      "image/png": "[encoded data removed]",
      "text/plain": [
       "<matplotlib.figure.Figure at 0x13f24c8f198>"
      ]
     },
     "metadata": {},
     "output_type": "display_data"
    }
   ],
   "source": [
    "plt.plot(data_pool)"
   ]
  },
  {
   "cell_type": "code",
   "execution_count": null,
   "metadata": {
    "collapsed": true
   },
   "outputs": [],
   "source": [
    "############ GET RESULTS ############ \n",
    "\n",
    "goal_train_len = {}\n",
    "goal_train_len[0] = int(len(goal_patterns1[0])*presentation_time_train/dt)\n",
    "for i in range(1,len(goal_train)):\n",
    "    goal_train_len[i] = goal_train_len[i-1]+int(len(goal_patterns1[i])*presentation_time_train/dt)\n",
    "\n",
    "goal_train_means = {}\n",
    "goal_train_means[0] = np.mean(sim.data[p_result][0:goal_train_len[0]])\n",
    "for i in range(1,len(goal_train)):\n",
    "    goal_train_means[i] = np.mean(sim.data[p_result][goal_train_len[i-1]:goal_train_len[i]])\n",
    "\n",
    "noplay_train_len = {}\n",
    "noplay_train_len[0] = int(len(noplay_patterns1[0])*presentation_time_train/dt)\n",
    "for i in range(1,len(noplay_train)):\n",
    "    noplay_train_len[i] = noplay_train_len[i-1]+int(len(noplay_patterns1[i])*presentation_time_train/dt)\n",
    "\n",
    "noplay_train_means = {}\n",
    "noplay_train_means[0] = np.mean(sim.data[p_result][goal_train_len[len(goal_train_len)-1]:noplay_train_len[0]+goal_train_len[len(goal_train_len)-1]])\n",
    "for i in range(1,len(noplay_train)):\n",
    "    noplay_train_means[i] = np.mean(sim.data[p_result][noplay_train_len[i-1]:noplay_train_len[i]])\n",
    "\n",
    "for j in range(len(goal_patterns1)):\n",
    "    key_j = 'gtr_{}'.format(j)  \n",
    "    goal_train_means[key_j] = goal_train_means.pop(j)\n",
    "\n",
    "for j in range(len(noplay_patterns1)):\n",
    "    key_j = 'ntr_{}'.format(j)  \n",
    "    noplay_train_means[key_j] = noplay_train_means.pop(j)"
   ]
  },
  {
   "cell_type": "code",
   "execution_count": null,
   "metadata": {
    "collapsed": true
   },
   "outputs": [],
   "source": [
    "means = {**goal_train_means, **noplay_train_means}\n",
    "\n",
    "print(means)"
   ]
  }
 ],
 "metadata": {
  "kernelspec": {
   "display_name": "Python 3",
   "language": "python",
   "name": "python3"
  },
  "language_info": {
   "codemirror_mode": {
    "name": "ipython",
    "version": 3
   },
   "file_extension": ".py",
   "mimetype": "text/x-python",
   "name": "python",
   "nbconvert_exporter": "python",
   "pygments_lexer": "ipython3",
   "version": "3.7.0"
  }
 },
 "nbformat": 4,
 "nbformat_minor": 2
}
