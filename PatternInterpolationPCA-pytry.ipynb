{
 "cells": [
  {
   "cell_type": "code",
   "execution_count": 2,
   "metadata": {
    "collapsed": true
   },
   "outputs": [],
   "source": [
    "%matplotlib inline\n",
    "import matplotlib.pyplot as plt\n",
    "import nengo\n",
    "import nengolib\n",
    "import numpy as np\n",
    "import pandas as pd\n",
    "import scipy as sp\n",
    "\n",
    "import pytry"
   ]
  },
  {
   "cell_type": "code",
   "execution_count": 5,
   "metadata": {},
   "outputs": [],
   "source": [
    "from sklearn.decomposition import PCA\n",
    "\n",
    "\n",
    "class PatternInterpolationTrial(pytry.Trial):\n",
    "    def params(self):\n",
    "        self.param('number of neurons', n_neurons=2000)\n",
    "        \n",
    "    def evaluate(self, p):\n",
    "        data = pd.read_csv(\"pinsoro-2017-06-12-140651300755-small.csv\", low_memory=False)\n",
    "\n",
    "        x = np.array(data.iloc[:,11:195]).astype(float)\n",
    "        a = []\n",
    "        for i in range(x.shape[1]):\n",
    "            y = pd.Series(x[:,i])\n",
    "            z = y.interpolate(limit_direction='both')\n",
    "            a.append(z)\n",
    "        a = pd.DataFrame(a)\n",
    "        a = a.dropna()\n",
    "        a = np.array(a).T\n",
    "\n",
    "\n",
    "        dt = 0.001\n",
    "\n",
    "        def extract_pattern(start, end):\n",
    "            pattern = np.array(a[start:end,:]).astype(float)\n",
    "            frames = np.array(data.iloc[start:end,9]).astype(int)\n",
    "\n",
    "            good_indices = frames != -1\n",
    "            frames = frames[good_indices]\n",
    "            pattern = pattern[good_indices]\n",
    "\n",
    "            fps = 30.0\n",
    "            t_sample = (frames - frames[0])/fps\n",
    "\n",
    "            t = np.arange(int(t_sample[-1]/dt))*dt\n",
    "\n",
    "            result = []\n",
    "            for i in range(pattern.shape[1]):       \n",
    "                p = np.interp(t, t_sample, pattern[:,i])\n",
    "                result.append(p)\n",
    "            result = np.array(result).T\n",
    "\n",
    "            return t, result\n",
    "\n",
    "\n",
    "        t1, result1 = extract_pattern(10175, 10280) #goaloriented\n",
    "        t2, result2 = extract_pattern(22854, 23059) #noplay\n",
    "        t3, result3 = extract_pattern(13811, 14182) #goaloriented\n",
    "        t4, result4 = extract_pattern(9796, 10174) #noplay \n",
    "        t5, result5 = extract_pattern(22753, 22853) #goaloriented \n",
    "        t6, result6 = extract_pattern(14583, 14991) #noplay\n",
    "\n",
    "        nb_components=1\n",
    "        train_all = np.vstack([result1, result2, result3, result4, result5, result6])\n",
    "        pca_model = PCA(n_components=nb_components).fit(train_all)\n",
    "        #print(\"Cumulative explained variance: %s\" % pca_model.explained_variance_ratio_.cumsum())\n",
    "\n",
    "        p1 = pca_model.transform(result1)[:,0]\n",
    "        p2 = pca_model.transform(result2)[:,0]\n",
    "        p3 = pca_model.transform(result3)[:,0]\n",
    "        p4 = pca_model.transform(result4)[:,0]\n",
    "        p5 = pca_model.transform(result5)[:,0]\n",
    "        p6 = pca_model.transform(result6)[:,0]\n",
    "\n",
    "        #plt.plot(t1, p1, label='p1')\n",
    "        #plt.plot(t2, p2, label='p2')\n",
    "        #plt.plot(t3, p3, label='p3')\n",
    "        #plt.plot(t4, p4, label='p4')\n",
    "        #plt.plot(t5, p5, label='p5')\n",
    "        #plt.plot(t6, p6, label='p6')\n",
    "        #plt.legend()\n",
    "\n",
    "        theta = 1.0\n",
    "\n",
    "        net = nengo.Network()\n",
    "        with net:\n",
    "            process = nengo.processes.WhiteSignal(period=100., high=1.0, y0=0)\n",
    "            rw = nengolib.networks.RollingWindow(theta=theta, n_neurons=p.n_neurons, process=process, neuron_type=nengo.LIFRate(tau_rc=0.02, tau_ref=0.002, amplitude=1))\n",
    "\n",
    "        s_window = int(theta/dt)\n",
    "        #print(s_window)\n",
    "        s_pattern = min(len(p1), len(p2), len(p3), len(p4), len(p5), len(p6))\n",
    "\n",
    "        t_window = np.linspace(0, 1, s_window)\n",
    "        inv_basis = rw.inverse_basis(t_window)\n",
    "\n",
    "        eval_points=[]\n",
    "        target = []\n",
    "        for i in range(s_pattern):\n",
    "            eval_points.append(np.dot(inv_basis, np.roll(p1, i)[:s_window]))\n",
    "            target.append([1])\n",
    "            eval_points.append(np.dot(inv_basis, np.roll(p2, i)[:s_window]))\n",
    "            target.append([-1])\n",
    "            eval_points.append(np.dot(inv_basis, np.roll(p3, i)[:s_window]))\n",
    "            target.append([1])\n",
    "            eval_points.append(np.dot(inv_basis, np.roll(p4, i)[:s_window]))\n",
    "            target.append([-1])\n",
    "            eval_points.append(np.dot(inv_basis, np.roll(p5, i)[:s_window]))\n",
    "            target.append([1])\n",
    "            eval_points.append(np.dot(inv_basis, np.roll(p6, i)[:s_window]))\n",
    "            target.append([-1])\n",
    "\n",
    "        eval_points = np.array(eval_points)\n",
    "        #print(eval_points.shape)\n",
    "\n",
    "        with net:\n",
    "            result = nengo.Node(None, size_in=1)\n",
    "            nengo.Connection(rw.state, result,\n",
    "                             eval_points=eval_points, scale_eval_points=True,\n",
    "                             function=target, synapse=0.1)\n",
    "\n",
    "        \n",
    "        p_all = np.hstack([p1, p2, p3, p4, p5, p6])\n",
    "\n",
    "        presentation_time_train=0.00063\n",
    "\n",
    "        model = nengo.Network()\n",
    "        model.networks.append(net)\n",
    "        with model:    \n",
    "            stim = nengo.Node(nengo.processes.PresentInput(p_all, presentation_time=presentation_time_train))\n",
    "            nengo.Connection(stim, rw.input, synapse=None)\n",
    "\n",
    "            p_result = nengo.Probe(result)\n",
    "            p_stim = nengo.Probe(stim)\n",
    "        sim = nengo.Simulator(model)\n",
    "        sim.run(30)\n",
    "\n",
    "        #plt.plot(sim.trange(), sim.data[p_stim], label='input')\n",
    "        #plt.plot(sim.trange(), sim.data[p_result], label='output')\n",
    "        #plt.legend(loc='best')\n",
    "\n",
    "\n",
    "\n",
    "        p1_len = int(len(p1)*presentation_time_train/dt)\n",
    "        p2_len = p1_len+int(len(p2)*presentation_time_train/dt)\n",
    "        p3_len = p2_len+int(len(p3)*presentation_time_train/dt)\n",
    "        p4_len = p3_len+int(len(p4)*presentation_time_train/dt)\n",
    "        p5_len = p4_len+int(len(p5)*presentation_time_train/dt)\n",
    "        p6_len = p5_len+int(len(p6)*presentation_time_train/dt)\n",
    "\n",
    "        mean1 = np.mean(sim.data[p_result][0:p1_len])\n",
    "        std1 = np.std(sim.data[p_result][0:p1_len])\n",
    "        median1 = np.median(sim.data[p_result][0:p1_len])\n",
    "        mean2 = np.mean(sim.data[p_result][p1_len:p2_len])\n",
    "        std2 = np.std(sim.data[p_result][p1_len:p2_len])\n",
    "        median2 = np.median(sim.data[p_result][p1_len:p2_len])\n",
    "        mean3 = np.mean(sim.data[p_result][p2_len:p3_len])\n",
    "        std3 = np.std(sim.data[p_result][p2_len:p3_len])\n",
    "        median3 = np.median(sim.data[p_result][p2_len:p3_len])\n",
    "        mean4 = np.mean(sim.data[p_result][p3_len:p4_len])\n",
    "        std4 = np.std(sim.data[p_result][p3_len:p4_len])\n",
    "        median4 = np.median(sim.data[p_result][p3_len:p4_len])\n",
    "        mean5 = np.mean(sim.data[p_result][p4_len:p5_len])\n",
    "        std5 = np.std(sim.data[p_result][p4_len:p5_len])\n",
    "        median5 = np.median(sim.data[p_result][p4_len:p5_len])\n",
    "        mean6 = np.mean(sim.data[p_result][p5_len:p6_len])\n",
    "        std6 = np.std(sim.data[p_result][p5_len:p6_len])\n",
    "        median6 = np.median(sim.data[p_result][p5_len:p6_len])\n",
    "\n",
    "        #print(\"Goal Oriented Mean:   \",mean1,\" SD: \",std1,\" Median: \",median1)\n",
    "        #print(\"No Play Mean:         \",mean2,\" SD: \",std2,\" Median: \",median2)\n",
    "        #print(\"Goal Oriented Mean:   \",mean3,\" SD: \",std3,\" Median: \",median3)\n",
    "        #print(\"No Play Mean:         \",mean4,\" SD: \",std4,\" Median: \",median4)\n",
    "        #print(\"Goal Oriented Mean:   \",mean5,\" SD: \",std5,\" Median: \",median5)\n",
    "        #print(\"No Play Mean:         \",mean6,\" SD: \",std6,\" Median: \",median6)\n",
    "\n",
    "\n",
    "        t7, result7 = extract_pattern(8684, 8990) #aimless\n",
    "        t8, result8 = extract_pattern(10464, 10822) #aimless\n",
    "        t9, result9 = extract_pattern(13062, 13810) #aimless\n",
    "\n",
    "        testp1 = pca_model.transform(result7)[:,0]\n",
    "        testp2 = pca_model.transform(result8)[:,0]\n",
    "        testp3 = pca_model.transform(result9)[:,0]\n",
    "\n",
    "        #plt.plot(t7, testp1, label='testp1')\n",
    "        #plt.plot(t8, testp2, label='testp2')\n",
    "        #plt.plot(t9, testp3, label='testp3')\n",
    "\n",
    "        #plt.legend()\n",
    "        \n",
    "\n",
    "        testp = testp2\n",
    "        p_all = np.hstack([p1, testp, p4])\n",
    "\n",
    "        presentation_time_test=0.0011\n",
    "\n",
    "        model = nengo.Network()\n",
    "        model.networks.append(net)\n",
    "        with model:    \n",
    "            stim = nengo.Node(nengo.processes.PresentInput(p_all, presentation_time=presentation_time_test))\n",
    "            nengo.Connection(stim, rw.input, synapse=None)\n",
    "\n",
    "            p_result = nengo.Probe(result)\n",
    "            p_stim = nengo.Probe(stim)\n",
    "        sim = nengo.Simulator(model)\n",
    "        sim.run(30)\n",
    "\n",
    "        #plt.plot(sim.trange(), sim.data[p_stim], label='input')\n",
    "        #plt.plot(sim.trange(), sim.data[p_result], label='output')\n",
    "        #plt.legend(loc='best')\n",
    "\n",
    "\n",
    "\n",
    "        p1_len = int(len(p1)*presentation_time_test/dt)\n",
    "        testp_len = p1_len+int(len(testp)*presentation_time_test/dt)\n",
    "        p4_len = testp_len+int(len(p4)*presentation_time_test/dt)\n",
    "\n",
    "        mean1 = np.mean(sim.data[p_result][0:p1_len])\n",
    "        std1 = np.std(sim.data[p_result][0:p1_len])\n",
    "        median1 = np.median(sim.data[p_result][0:p1_len])\n",
    "\n",
    "        mean2 = np.mean(sim.data[p_result][p1_len:testp_len])\n",
    "        std2 = np.std(sim.data[p_result][p1_len:testp_len])\n",
    "        median2 = np.median(sim.data[p_result][p1_len:testp_len])\n",
    "\n",
    "        mean3 = np.mean(sim.data[p_result][testp_len:p4_len])\n",
    "        std3 = np.std(sim.data[p_result][testp_len:p4_len])\n",
    "        median3 = np.median(sim.data[p_result][testp_len:p4_len])\n",
    "\n",
    "        #print(\"Goal Oriented Mean:   \",mean1,\" SD: \",std1,\" Median: \",median1)\n",
    "        #print(\"Aimless Mean:         \",mean2,\" SD: \",std2,\" Median: \",median2)\n",
    "        #print(\"No Play Mean:         \",mean3,\" SD: \",std3,\" Median: \",median3)\n",
    "        \n",
    "        \n",
    "        return dict(\n",
    "            mean_goal=mean1,\n",
    "            std_goal=std1,\n",
    "            median_goal=median1,\n",
    "            mean_aimless=mean2,\n",
    "            std_aimless=std2,\n",
    "            median_aimless=median2,\n",
    "            mean_noplay=mean3,\n",
    "            std_noplay=std3,\n",
    "            median_noplay=median3,\n",
    "        )\n"
   ]
  },
  {
   "cell_type": "code",
   "execution_count": 6,
   "metadata": {},
   "outputs": [
    {
     "name": "stdout",
     "output_type": "stream",
     "text": [
      "running PatternInterpolationTrial#20190122-103717-96cac3d4\n"
     ]
    },
    {
     "name": "stderr",
     "output_type": "stream",
     "text": [
      "c:\\users\\terry\\py3\\lib\\site-packages\\scipy\\signal\\filter_design.py:1551: BadCoefficients: Badly conditioned filter coefficients (numerator): the results may be meaningless\n",
      "  \"results may be meaningless\", BadCoefficients)\n",
      "c:\\users\\terry\\documents\\github\\nengolib\\nengolib\\signal\\system.py:717: UserWarning: Filtering with non-SISO systems is an experimental feature that may not behave as expected.\n",
      "  \"expected.\", UserWarning)\n"
     ]
    },
    {
     "data": {
      "text/html": [
       "\n",
       "                <div id=\"ec623373-c0fb-46c2-bc02-0d1851d8877c\" style=\"\n",
       "                    width: 100%;\n",
       "                    border: 1px solid #cfcfcf;\n",
       "                    border-radius: 4px;\n",
       "                    text-align: center;\n",
       "                    position: relative;\">\n",
       "                  <div class=\"pb-text\" style=\"\n",
       "                      position: absolute;\n",
       "                      width: 100%;\">\n",
       "                    0%\n",
       "                  </div>\n",
       "                  <div class=\"pb-fill\" style=\"\n",
       "                      background-color: #bdd2e6;\n",
       "                      width: 0%;\">\n",
       "                    <style type=\"text/css\" scoped=\"scoped\">\n",
       "                        @keyframes pb-fill-anim {\n",
       "                            0% { background-position: 0 0; }\n",
       "                            100% { background-position: 100px 0; }\n",
       "                        }\n",
       "                    </style>\n",
       "                    &nbsp;\n",
       "                  </div>\n",
       "                </div>"
      ],
      "text/plain": [
       "HtmlProgressBar cannot be displayed. Please use the TerminalProgressBar. It can be enabled with `nengo.rc.set('progress', 'progress_bar', 'nengo.utils.progress.TerminalProgressBar')`."
      ]
     },
     "metadata": {},
     "output_type": "display_data"
    },
    {
     "data": {
      "application/javascript": [
       "\n",
       "              (function () {\n",
       "                  var root = document.getElementById('ec623373-c0fb-46c2-bc02-0d1851d8877c');\n",
       "                  var text = root.getElementsByClassName('pb-text')[0];\n",
       "                  var fill = root.getElementsByClassName('pb-fill')[0];\n",
       "\n",
       "                  text.innerHTML = 'Build finished in 0:00:07.';\n",
       "                  \n",
       "            fill.style.width = '100%';\n",
       "            fill.style.animation = 'pb-fill-anim 2s linear infinite';\n",
       "            fill.style.backgroundSize = '100px 100%';\n",
       "            fill.style.backgroundImage = 'repeating-linear-gradient(' +\n",
       "                '90deg, #bdd2e6, #edf2f8 40%, #bdd2e6 80%, #bdd2e6)';\n",
       "        \n",
       "                  \n",
       "                fill.style.animation = 'none';\n",
       "                fill.style.backgroundImage = 'none';\n",
       "            \n",
       "              })();\n",
       "        "
      ],
      "text/plain": [
       "<IPython.core.display.Javascript object>"
      ]
     },
     "metadata": {},
     "output_type": "display_data"
    },
    {
     "data": {
      "text/html": [
       "\n",
       "                <div id=\"a264d38d-7a8c-41b9-8d3d-647ef978f348\" style=\"\n",
       "                    width: 100%;\n",
       "                    border: 1px solid #cfcfcf;\n",
       "                    border-radius: 4px;\n",
       "                    text-align: center;\n",
       "                    position: relative;\">\n",
       "                  <div class=\"pb-text\" style=\"\n",
       "                      position: absolute;\n",
       "                      width: 100%;\">\n",
       "                    0%\n",
       "                  </div>\n",
       "                  <div class=\"pb-fill\" style=\"\n",
       "                      background-color: #bdd2e6;\n",
       "                      width: 0%;\">\n",
       "                    <style type=\"text/css\" scoped=\"scoped\">\n",
       "                        @keyframes pb-fill-anim {\n",
       "                            0% { background-position: 0 0; }\n",
       "                            100% { background-position: 100px 0; }\n",
       "                        }\n",
       "                    </style>\n",
       "                    &nbsp;\n",
       "                  </div>\n",
       "                </div>"
      ],
      "text/plain": [
       "HtmlProgressBar cannot be displayed. Please use the TerminalProgressBar. It can be enabled with `nengo.rc.set('progress', 'progress_bar', 'nengo.utils.progress.TerminalProgressBar')`."
      ]
     },
     "metadata": {},
     "output_type": "display_data"
    },
    {
     "data": {
      "application/javascript": [
       "\n",
       "              (function () {\n",
       "                  var root = document.getElementById('a264d38d-7a8c-41b9-8d3d-647ef978f348');\n",
       "                  var text = root.getElementsByClassName('pb-text')[0];\n",
       "                  var fill = root.getElementsByClassName('pb-fill')[0];\n",
       "\n",
       "                  text.innerHTML = 'Simulation finished in 0:00:30.';\n",
       "                  \n",
       "            if (100.0 > 0.) {\n",
       "                fill.style.transition = 'width 0.1s linear';\n",
       "            } else {\n",
       "                fill.style.transition = 'none';\n",
       "            }\n",
       "\n",
       "            fill.style.width = '100.0%';\n",
       "            fill.style.animation = 'none';\n",
       "            fill.style.backgroundImage = 'none'\n",
       "        \n",
       "                  \n",
       "                fill.style.animation = 'none';\n",
       "                fill.style.backgroundImage = 'none';\n",
       "            \n",
       "              })();\n",
       "        "
      ],
      "text/plain": [
       "<IPython.core.display.Javascript object>"
      ]
     },
     "metadata": {},
     "output_type": "display_data"
    },
    {
     "data": {
      "text/html": [
       "\n",
       "                <div id=\"d5199b04-6dc6-4155-b5ff-0fee9453148b\" style=\"\n",
       "                    width: 100%;\n",
       "                    border: 1px solid #cfcfcf;\n",
       "                    border-radius: 4px;\n",
       "                    text-align: center;\n",
       "                    position: relative;\">\n",
       "                  <div class=\"pb-text\" style=\"\n",
       "                      position: absolute;\n",
       "                      width: 100%;\">\n",
       "                    0%\n",
       "                  </div>\n",
       "                  <div class=\"pb-fill\" style=\"\n",
       "                      background-color: #bdd2e6;\n",
       "                      width: 0%;\">\n",
       "                    <style type=\"text/css\" scoped=\"scoped\">\n",
       "                        @keyframes pb-fill-anim {\n",
       "                            0% { background-position: 0 0; }\n",
       "                            100% { background-position: 100px 0; }\n",
       "                        }\n",
       "                    </style>\n",
       "                    &nbsp;\n",
       "                  </div>\n",
       "                </div>"
      ],
      "text/plain": [
       "HtmlProgressBar cannot be displayed. Please use the TerminalProgressBar. It can be enabled with `nengo.rc.set('progress', 'progress_bar', 'nengo.utils.progress.TerminalProgressBar')`."
      ]
     },
     "metadata": {},
     "output_type": "display_data"
    },
    {
     "data": {
      "application/javascript": [
       "\n",
       "              (function () {\n",
       "                  var root = document.getElementById('d5199b04-6dc6-4155-b5ff-0fee9453148b');\n",
       "                  var text = root.getElementsByClassName('pb-text')[0];\n",
       "                  var fill = root.getElementsByClassName('pb-fill')[0];\n",
       "\n",
       "                  text.innerHTML = 'Build finished in 0:00:07.';\n",
       "                  \n",
       "            fill.style.width = '100%';\n",
       "            fill.style.animation = 'pb-fill-anim 2s linear infinite';\n",
       "            fill.style.backgroundSize = '100px 100%';\n",
       "            fill.style.backgroundImage = 'repeating-linear-gradient(' +\n",
       "                '90deg, #bdd2e6, #edf2f8 40%, #bdd2e6 80%, #bdd2e6)';\n",
       "        \n",
       "                  \n",
       "                fill.style.animation = 'none';\n",
       "                fill.style.backgroundImage = 'none';\n",
       "            \n",
       "              })();\n",
       "        "
      ],
      "text/plain": [
       "<IPython.core.display.Javascript object>"
      ]
     },
     "metadata": {},
     "output_type": "display_data"
    },
    {
     "data": {
      "text/html": [
       "\n",
       "                <div id=\"0a446418-ef36-42d4-a345-d0a84ecf3d5e\" style=\"\n",
       "                    width: 100%;\n",
       "                    border: 1px solid #cfcfcf;\n",
       "                    border-radius: 4px;\n",
       "                    text-align: center;\n",
       "                    position: relative;\">\n",
       "                  <div class=\"pb-text\" style=\"\n",
       "                      position: absolute;\n",
       "                      width: 100%;\">\n",
       "                    0%\n",
       "                  </div>\n",
       "                  <div class=\"pb-fill\" style=\"\n",
       "                      background-color: #bdd2e6;\n",
       "                      width: 0%;\">\n",
       "                    <style type=\"text/css\" scoped=\"scoped\">\n",
       "                        @keyframes pb-fill-anim {\n",
       "                            0% { background-position: 0 0; }\n",
       "                            100% { background-position: 100px 0; }\n",
       "                        }\n",
       "                    </style>\n",
       "                    &nbsp;\n",
       "                  </div>\n",
       "                </div>"
      ],
      "text/plain": [
       "HtmlProgressBar cannot be displayed. Please use the TerminalProgressBar. It can be enabled with `nengo.rc.set('progress', 'progress_bar', 'nengo.utils.progress.TerminalProgressBar')`."
      ]
     },
     "metadata": {},
     "output_type": "display_data"
    },
    {
     "data": {
      "application/javascript": [
       "\n",
       "              (function () {\n",
       "                  var root = document.getElementById('0a446418-ef36-42d4-a345-d0a84ecf3d5e');\n",
       "                  var text = root.getElementsByClassName('pb-text')[0];\n",
       "                  var fill = root.getElementsByClassName('pb-fill')[0];\n",
       "\n",
       "                  text.innerHTML = 'Simulation finished in 0:00:29.';\n",
       "                  \n",
       "            if (100.0 > 0.) {\n",
       "                fill.style.transition = 'width 0.1s linear';\n",
       "            } else {\n",
       "                fill.style.transition = 'none';\n",
       "            }\n",
       "\n",
       "            fill.style.width = '100.0%';\n",
       "            fill.style.animation = 'none';\n",
       "            fill.style.backgroundImage = 'none'\n",
       "        \n",
       "                  \n",
       "                fill.style.animation = 'none';\n",
       "                fill.style.backgroundImage = 'none';\n",
       "            \n",
       "              })();\n",
       "        "
      ],
      "text/plain": [
       "<IPython.core.display.Javascript object>"
      ]
     },
     "metadata": {},
     "output_type": "display_data"
    },
    {
     "name": "stdout",
     "output_type": "stream",
     "text": [
      "seed = 1\n",
      "n_neurons = 2000\n",
      "mean_aimless = 0.4479469621066245\n",
      "mean_goal = 0.5113293599712062\n",
      "mean_noplay = -0.15836460138270975\n",
      "median_aimless = 0.3896296066127606\n",
      "median_goal = 0.5714383712925883\n",
      "median_noplay = 0.029218707900557223\n",
      "std_aimless = 0.9159157601030794\n",
      "std_goal = 0.35866731418209286\n",
      "std_noplay = 0.43037766282252377\n"
     ]
    },
    {
     "data": {
      "text/plain": [
       "{'mean_aimless': 0.4479469621066245,\n",
       " 'mean_goal': 0.5113293599712062,\n",
       " 'mean_noplay': -0.15836460138270975,\n",
       " 'median_aimless': 0.3896296066127606,\n",
       " 'median_goal': 0.5714383712925883,\n",
       " 'median_noplay': 0.029218707900557223,\n",
       " 'std_aimless': 0.9159157601030794,\n",
       " 'std_goal': 0.35866731418209286,\n",
       " 'std_noplay': 0.43037766282252377}"
      ]
     },
     "execution_count": 6,
     "metadata": {},
     "output_type": "execute_result"
    }
   ],
   "source": [
    "PatternInterpolationTrial().run()"
   ]
  },
  {
   "cell_type": "code",
   "execution_count": 9,
   "metadata": {},
   "outputs": [
    {
     "name": "stdout",
     "output_type": "stream",
     "text": [
      "running PatternInterpolationTrial#20190122-104155-de57966c\n"
     ]
    },
    {
     "name": "stderr",
     "output_type": "stream",
     "text": [
      "c:\\users\\terry\\py3\\lib\\site-packages\\scipy\\signal\\filter_design.py:1551: BadCoefficients: Badly conditioned filter coefficients (numerator): the results may be meaningless\n",
      "  \"results may be meaningless\", BadCoefficients)\n",
      "c:\\users\\terry\\documents\\github\\nengolib\\nengolib\\signal\\system.py:717: UserWarning: Filtering with non-SISO systems is an experimental feature that may not behave as expected.\n",
      "  \"expected.\", UserWarning)\n"
     ]
    },
    {
     "data": {
      "text/html": [
       "\n",
       "                <div id=\"67b5759a-aa4f-4623-a13b-84e219558b69\" style=\"\n",
       "                    width: 100%;\n",
       "                    border: 1px solid #cfcfcf;\n",
       "                    border-radius: 4px;\n",
       "                    text-align: center;\n",
       "                    position: relative;\">\n",
       "                  <div class=\"pb-text\" style=\"\n",
       "                      position: absolute;\n",
       "                      width: 100%;\">\n",
       "                    0%\n",
       "                  </div>\n",
       "                  <div class=\"pb-fill\" style=\"\n",
       "                      background-color: #bdd2e6;\n",
       "                      width: 0%;\">\n",
       "                    <style type=\"text/css\" scoped=\"scoped\">\n",
       "                        @keyframes pb-fill-anim {\n",
       "                            0% { background-position: 0 0; }\n",
       "                            100% { background-position: 100px 0; }\n",
       "                        }\n",
       "                    </style>\n",
       "                    &nbsp;\n",
       "                  </div>\n",
       "                </div>"
      ],
      "text/plain": [
       "HtmlProgressBar cannot be displayed. Please use the TerminalProgressBar. It can be enabled with `nengo.rc.set('progress', 'progress_bar', 'nengo.utils.progress.TerminalProgressBar')`."
      ]
     },
     "metadata": {},
     "output_type": "display_data"
    },
    {
     "data": {
      "application/javascript": [
       "\n",
       "              (function () {\n",
       "                  var root = document.getElementById('67b5759a-aa4f-4623-a13b-84e219558b69');\n",
       "                  var text = root.getElementsByClassName('pb-text')[0];\n",
       "                  var fill = root.getElementsByClassName('pb-fill')[0];\n",
       "\n",
       "                  text.innerHTML = 'Build finished in 0:00:08.';\n",
       "                  \n",
       "            fill.style.width = '100%';\n",
       "            fill.style.animation = 'pb-fill-anim 2s linear infinite';\n",
       "            fill.style.backgroundSize = '100px 100%';\n",
       "            fill.style.backgroundImage = 'repeating-linear-gradient(' +\n",
       "                '90deg, #bdd2e6, #edf2f8 40%, #bdd2e6 80%, #bdd2e6)';\n",
       "        \n",
       "                  \n",
       "                fill.style.animation = 'none';\n",
       "                fill.style.backgroundImage = 'none';\n",
       "            \n",
       "              })();\n",
       "        "
      ],
      "text/plain": [
       "<IPython.core.display.Javascript object>"
      ]
     },
     "metadata": {},
     "output_type": "display_data"
    },
    {
     "data": {
      "text/html": [
       "\n",
       "                <div id=\"c8a14895-d354-4384-bfdc-6657cbd3523c\" style=\"\n",
       "                    width: 100%;\n",
       "                    border: 1px solid #cfcfcf;\n",
       "                    border-radius: 4px;\n",
       "                    text-align: center;\n",
       "                    position: relative;\">\n",
       "                  <div class=\"pb-text\" style=\"\n",
       "                      position: absolute;\n",
       "                      width: 100%;\">\n",
       "                    0%\n",
       "                  </div>\n",
       "                  <div class=\"pb-fill\" style=\"\n",
       "                      background-color: #bdd2e6;\n",
       "                      width: 0%;\">\n",
       "                    <style type=\"text/css\" scoped=\"scoped\">\n",
       "                        @keyframes pb-fill-anim {\n",
       "                            0% { background-position: 0 0; }\n",
       "                            100% { background-position: 100px 0; }\n",
       "                        }\n",
       "                    </style>\n",
       "                    &nbsp;\n",
       "                  </div>\n",
       "                </div>"
      ],
      "text/plain": [
       "HtmlProgressBar cannot be displayed. Please use the TerminalProgressBar. It can be enabled with `nengo.rc.set('progress', 'progress_bar', 'nengo.utils.progress.TerminalProgressBar')`."
      ]
     },
     "metadata": {},
     "output_type": "display_data"
    },
    {
     "data": {
      "application/javascript": [
       "\n",
       "              (function () {\n",
       "                  var root = document.getElementById('c8a14895-d354-4384-bfdc-6657cbd3523c');\n",
       "                  var text = root.getElementsByClassName('pb-text')[0];\n",
       "                  var fill = root.getElementsByClassName('pb-fill')[0];\n",
       "\n",
       "                  text.innerHTML = 'Simulation finished in 0:00:23.';\n",
       "                  \n",
       "            if (100.0 > 0.) {\n",
       "                fill.style.transition = 'width 0.1s linear';\n",
       "            } else {\n",
       "                fill.style.transition = 'none';\n",
       "            }\n",
       "\n",
       "            fill.style.width = '100.0%';\n",
       "            fill.style.animation = 'none';\n",
       "            fill.style.backgroundImage = 'none'\n",
       "        \n",
       "                  \n",
       "                fill.style.animation = 'none';\n",
       "                fill.style.backgroundImage = 'none';\n",
       "            \n",
       "              })();\n",
       "        "
      ],
      "text/plain": [
       "<IPython.core.display.Javascript object>"
      ]
     },
     "metadata": {},
     "output_type": "display_data"
    },
    {
     "data": {
      "text/html": [
       "\n",
       "                <div id=\"669b0c72-a680-4399-adca-62497ef4e9e1\" style=\"\n",
       "                    width: 100%;\n",
       "                    border: 1px solid #cfcfcf;\n",
       "                    border-radius: 4px;\n",
       "                    text-align: center;\n",
       "                    position: relative;\">\n",
       "                  <div class=\"pb-text\" style=\"\n",
       "                      position: absolute;\n",
       "                      width: 100%;\">\n",
       "                    0%\n",
       "                  </div>\n",
       "                  <div class=\"pb-fill\" style=\"\n",
       "                      background-color: #bdd2e6;\n",
       "                      width: 0%;\">\n",
       "                    <style type=\"text/css\" scoped=\"scoped\">\n",
       "                        @keyframes pb-fill-anim {\n",
       "                            0% { background-position: 0 0; }\n",
       "                            100% { background-position: 100px 0; }\n",
       "                        }\n",
       "                    </style>\n",
       "                    &nbsp;\n",
       "                  </div>\n",
       "                </div>"
      ],
      "text/plain": [
       "HtmlProgressBar cannot be displayed. Please use the TerminalProgressBar. It can be enabled with `nengo.rc.set('progress', 'progress_bar', 'nengo.utils.progress.TerminalProgressBar')`."
      ]
     },
     "metadata": {},
     "output_type": "display_data"
    },
    {
     "data": {
      "application/javascript": [
       "\n",
       "              (function () {\n",
       "                  var root = document.getElementById('669b0c72-a680-4399-adca-62497ef4e9e1');\n",
       "                  var text = root.getElementsByClassName('pb-text')[0];\n",
       "                  var fill = root.getElementsByClassName('pb-fill')[0];\n",
       "\n",
       "                  text.innerHTML = 'Build finished in 0:00:08.';\n",
       "                  \n",
       "            fill.style.width = '100%';\n",
       "            fill.style.animation = 'pb-fill-anim 2s linear infinite';\n",
       "            fill.style.backgroundSize = '100px 100%';\n",
       "            fill.style.backgroundImage = 'repeating-linear-gradient(' +\n",
       "                '90deg, #bdd2e6, #edf2f8 40%, #bdd2e6 80%, #bdd2e6)';\n",
       "        \n",
       "                  \n",
       "                fill.style.animation = 'none';\n",
       "                fill.style.backgroundImage = 'none';\n",
       "            \n",
       "              })();\n",
       "        "
      ],
      "text/plain": [
       "<IPython.core.display.Javascript object>"
      ]
     },
     "metadata": {},
     "output_type": "display_data"
    },
    {
     "data": {
      "text/html": [
       "\n",
       "                <div id=\"dc4f9d84-0249-4023-97f7-01c97f3fda22\" style=\"\n",
       "                    width: 100%;\n",
       "                    border: 1px solid #cfcfcf;\n",
       "                    border-radius: 4px;\n",
       "                    text-align: center;\n",
       "                    position: relative;\">\n",
       "                  <div class=\"pb-text\" style=\"\n",
       "                      position: absolute;\n",
       "                      width: 100%;\">\n",
       "                    0%\n",
       "                  </div>\n",
       "                  <div class=\"pb-fill\" style=\"\n",
       "                      background-color: #bdd2e6;\n",
       "                      width: 0%;\">\n",
       "                    <style type=\"text/css\" scoped=\"scoped\">\n",
       "                        @keyframes pb-fill-anim {\n",
       "                            0% { background-position: 0 0; }\n",
       "                            100% { background-position: 100px 0; }\n",
       "                        }\n",
       "                    </style>\n",
       "                    &nbsp;\n",
       "                  </div>\n",
       "                </div>"
      ],
      "text/plain": [
       "HtmlProgressBar cannot be displayed. Please use the TerminalProgressBar. It can be enabled with `nengo.rc.set('progress', 'progress_bar', 'nengo.utils.progress.TerminalProgressBar')`."
      ]
     },
     "metadata": {},
     "output_type": "display_data"
    },
    {
     "data": {
      "application/javascript": [
       "\n",
       "              (function () {\n",
       "                  var root = document.getElementById('dc4f9d84-0249-4023-97f7-01c97f3fda22');\n",
       "                  var text = root.getElementsByClassName('pb-text')[0];\n",
       "                  var fill = root.getElementsByClassName('pb-fill')[0];\n",
       "\n",
       "                  text.innerHTML = 'Simulation finished in 0:00:24.';\n",
       "                  \n",
       "            if (100.0 > 0.) {\n",
       "                fill.style.transition = 'width 0.1s linear';\n",
       "            } else {\n",
       "                fill.style.transition = 'none';\n",
       "            }\n",
       "\n",
       "            fill.style.width = '100.0%';\n",
       "            fill.style.animation = 'none';\n",
       "            fill.style.backgroundImage = 'none'\n",
       "        \n",
       "                  \n",
       "                fill.style.animation = 'none';\n",
       "                fill.style.backgroundImage = 'none';\n",
       "            \n",
       "              })();\n",
       "        "
      ],
      "text/plain": [
       "<IPython.core.display.Javascript object>"
      ]
     },
     "metadata": {},
     "output_type": "display_data"
    },
    {
     "name": "stdout",
     "output_type": "stream",
     "text": [
      "seed = 0\n",
      "n_neurons = 2000\n",
      "mean_aimless = 0.3970490313643537\n",
      "mean_goal = 0.5201683994186217\n",
      "mean_noplay = -0.12551287165668312\n",
      "median_aimless = 0.5020341081793528\n",
      "median_goal = 0.5897584615053131\n",
      "median_noplay = 0.11345209860279531\n",
      "std_aimless = 0.8946142890032165\n",
      "std_goal = 0.3436169048729272\n",
      "std_noplay = 0.501456950162044\n",
      "running PatternInterpolationTrial#20190122-104303-a1bca411\n"
     ]
    },
    {
     "data": {
      "text/html": [
       "\n",
       "                <div id=\"be3ff0d8-1768-4a63-a71c-481bb96e41a9\" style=\"\n",
       "                    width: 100%;\n",
       "                    border: 1px solid #cfcfcf;\n",
       "                    border-radius: 4px;\n",
       "                    text-align: center;\n",
       "                    position: relative;\">\n",
       "                  <div class=\"pb-text\" style=\"\n",
       "                      position: absolute;\n",
       "                      width: 100%;\">\n",
       "                    0%\n",
       "                  </div>\n",
       "                  <div class=\"pb-fill\" style=\"\n",
       "                      background-color: #bdd2e6;\n",
       "                      width: 0%;\">\n",
       "                    <style type=\"text/css\" scoped=\"scoped\">\n",
       "                        @keyframes pb-fill-anim {\n",
       "                            0% { background-position: 0 0; }\n",
       "                            100% { background-position: 100px 0; }\n",
       "                        }\n",
       "                    </style>\n",
       "                    &nbsp;\n",
       "                  </div>\n",
       "                </div>"
      ],
      "text/plain": [
       "HtmlProgressBar cannot be displayed. Please use the TerminalProgressBar. It can be enabled with `nengo.rc.set('progress', 'progress_bar', 'nengo.utils.progress.TerminalProgressBar')`."
      ]
     },
     "metadata": {},
     "output_type": "display_data"
    },
    {
     "data": {
      "application/javascript": [
       "\n",
       "              (function () {\n",
       "                  var root = document.getElementById('be3ff0d8-1768-4a63-a71c-481bb96e41a9');\n",
       "                  var text = root.getElementsByClassName('pb-text')[0];\n",
       "                  var fill = root.getElementsByClassName('pb-fill')[0];\n",
       "\n",
       "                  text.innerHTML = 'Build finished in 0:00:09.';\n",
       "                  \n",
       "            fill.style.width = '100%';\n",
       "            fill.style.animation = 'pb-fill-anim 2s linear infinite';\n",
       "            fill.style.backgroundSize = '100px 100%';\n",
       "            fill.style.backgroundImage = 'repeating-linear-gradient(' +\n",
       "                '90deg, #bdd2e6, #edf2f8 40%, #bdd2e6 80%, #bdd2e6)';\n",
       "        \n",
       "                  \n",
       "                fill.style.animation = 'none';\n",
       "                fill.style.backgroundImage = 'none';\n",
       "            \n",
       "              })();\n",
       "        "
      ],
      "text/plain": [
       "<IPython.core.display.Javascript object>"
      ]
     },
     "metadata": {},
     "output_type": "display_data"
    },
    {
     "data": {
      "text/html": [
       "\n",
       "                <div id=\"9edb6850-2500-4fad-8953-f6e6998d0b9d\" style=\"\n",
       "                    width: 100%;\n",
       "                    border: 1px solid #cfcfcf;\n",
       "                    border-radius: 4px;\n",
       "                    text-align: center;\n",
       "                    position: relative;\">\n",
       "                  <div class=\"pb-text\" style=\"\n",
       "                      position: absolute;\n",
       "                      width: 100%;\">\n",
       "                    0%\n",
       "                  </div>\n",
       "                  <div class=\"pb-fill\" style=\"\n",
       "                      background-color: #bdd2e6;\n",
       "                      width: 0%;\">\n",
       "                    <style type=\"text/css\" scoped=\"scoped\">\n",
       "                        @keyframes pb-fill-anim {\n",
       "                            0% { background-position: 0 0; }\n",
       "                            100% { background-position: 100px 0; }\n",
       "                        }\n",
       "                    </style>\n",
       "                    &nbsp;\n",
       "                  </div>\n",
       "                </div>"
      ],
      "text/plain": [
       "HtmlProgressBar cannot be displayed. Please use the TerminalProgressBar. It can be enabled with `nengo.rc.set('progress', 'progress_bar', 'nengo.utils.progress.TerminalProgressBar')`."
      ]
     },
     "metadata": {},
     "output_type": "display_data"
    },
    {
     "data": {
      "application/javascript": [
       "\n",
       "              (function () {\n",
       "                  var root = document.getElementById('9edb6850-2500-4fad-8953-f6e6998d0b9d');\n",
       "                  var text = root.getElementsByClassName('pb-text')[0];\n",
       "                  var fill = root.getElementsByClassName('pb-fill')[0];\n",
       "\n",
       "                  text.innerHTML = 'Simulation finished in 0:00:25.';\n",
       "                  \n",
       "            if (100.0 > 0.) {\n",
       "                fill.style.transition = 'width 0.1s linear';\n",
       "            } else {\n",
       "                fill.style.transition = 'none';\n",
       "            }\n",
       "\n",
       "            fill.style.width = '100.0%';\n",
       "            fill.style.animation = 'none';\n",
       "            fill.style.backgroundImage = 'none'\n",
       "        \n",
       "                  \n",
       "                fill.style.animation = 'none';\n",
       "                fill.style.backgroundImage = 'none';\n",
       "            \n",
       "              })();\n",
       "        "
      ],
      "text/plain": [
       "<IPython.core.display.Javascript object>"
      ]
     },
     "metadata": {},
     "output_type": "display_data"
    },
    {
     "data": {
      "text/html": [
       "\n",
       "                <div id=\"ab16d9c6-3d57-4e8e-ac25-7bddacb4e53b\" style=\"\n",
       "                    width: 100%;\n",
       "                    border: 1px solid #cfcfcf;\n",
       "                    border-radius: 4px;\n",
       "                    text-align: center;\n",
       "                    position: relative;\">\n",
       "                  <div class=\"pb-text\" style=\"\n",
       "                      position: absolute;\n",
       "                      width: 100%;\">\n",
       "                    0%\n",
       "                  </div>\n",
       "                  <div class=\"pb-fill\" style=\"\n",
       "                      background-color: #bdd2e6;\n",
       "                      width: 0%;\">\n",
       "                    <style type=\"text/css\" scoped=\"scoped\">\n",
       "                        @keyframes pb-fill-anim {\n",
       "                            0% { background-position: 0 0; }\n",
       "                            100% { background-position: 100px 0; }\n",
       "                        }\n",
       "                    </style>\n",
       "                    &nbsp;\n",
       "                  </div>\n",
       "                </div>"
      ],
      "text/plain": [
       "HtmlProgressBar cannot be displayed. Please use the TerminalProgressBar. It can be enabled with `nengo.rc.set('progress', 'progress_bar', 'nengo.utils.progress.TerminalProgressBar')`."
      ]
     },
     "metadata": {},
     "output_type": "display_data"
    },
    {
     "data": {
      "application/javascript": [
       "\n",
       "              (function () {\n",
       "                  var root = document.getElementById('ab16d9c6-3d57-4e8e-ac25-7bddacb4e53b');\n",
       "                  var text = root.getElementsByClassName('pb-text')[0];\n",
       "                  var fill = root.getElementsByClassName('pb-fill')[0];\n",
       "\n",
       "                  text.innerHTML = 'Build finished in 0:00:08.';\n",
       "                  \n",
       "            fill.style.width = '100%';\n",
       "            fill.style.animation = 'pb-fill-anim 2s linear infinite';\n",
       "            fill.style.backgroundSize = '100px 100%';\n",
       "            fill.style.backgroundImage = 'repeating-linear-gradient(' +\n",
       "                '90deg, #bdd2e6, #edf2f8 40%, #bdd2e6 80%, #bdd2e6)';\n",
       "        \n",
       "                  \n",
       "                fill.style.animation = 'none';\n",
       "                fill.style.backgroundImage = 'none';\n",
       "            \n",
       "              })();\n",
       "        "
      ],
      "text/plain": [
       "<IPython.core.display.Javascript object>"
      ]
     },
     "metadata": {},
     "output_type": "display_data"
    },
    {
     "data": {
      "text/html": [
       "\n",
       "                <div id=\"3d19bf62-85ff-45c0-8110-7fbe5c423838\" style=\"\n",
       "                    width: 100%;\n",
       "                    border: 1px solid #cfcfcf;\n",
       "                    border-radius: 4px;\n",
       "                    text-align: center;\n",
       "                    position: relative;\">\n",
       "                  <div class=\"pb-text\" style=\"\n",
       "                      position: absolute;\n",
       "                      width: 100%;\">\n",
       "                    0%\n",
       "                  </div>\n",
       "                  <div class=\"pb-fill\" style=\"\n",
       "                      background-color: #bdd2e6;\n",
       "                      width: 0%;\">\n",
       "                    <style type=\"text/css\" scoped=\"scoped\">\n",
       "                        @keyframes pb-fill-anim {\n",
       "                            0% { background-position: 0 0; }\n",
       "                            100% { background-position: 100px 0; }\n",
       "                        }\n",
       "                    </style>\n",
       "                    &nbsp;\n",
       "                  </div>\n",
       "                </div>"
      ],
      "text/plain": [
       "HtmlProgressBar cannot be displayed. Please use the TerminalProgressBar. It can be enabled with `nengo.rc.set('progress', 'progress_bar', 'nengo.utils.progress.TerminalProgressBar')`."
      ]
     },
     "metadata": {},
     "output_type": "display_data"
    },
    {
     "data": {
      "application/javascript": [
       "\n",
       "              (function () {\n",
       "                  var root = document.getElementById('3d19bf62-85ff-45c0-8110-7fbe5c423838');\n",
       "                  var text = root.getElementsByClassName('pb-text')[0];\n",
       "                  var fill = root.getElementsByClassName('pb-fill')[0];\n",
       "\n",
       "                  text.innerHTML = 'Simulation finished in 0:00:20.';\n",
       "                  \n",
       "            if (100.0 > 0.) {\n",
       "                fill.style.transition = 'width 0.1s linear';\n",
       "            } else {\n",
       "                fill.style.transition = 'none';\n",
       "            }\n",
       "\n",
       "            fill.style.width = '100.0%';\n",
       "            fill.style.animation = 'none';\n",
       "            fill.style.backgroundImage = 'none'\n",
       "        \n",
       "                  \n",
       "                fill.style.animation = 'none';\n",
       "                fill.style.backgroundImage = 'none';\n",
       "            \n",
       "              })();\n",
       "        "
      ],
      "text/plain": [
       "<IPython.core.display.Javascript object>"
      ]
     },
     "metadata": {},
     "output_type": "display_data"
    },
    {
     "name": "stdout",
     "output_type": "stream",
     "text": [
      "seed = 1\n",
      "n_neurons = 2000\n",
      "mean_aimless = 0.4479469621066245\n",
      "mean_goal = 0.5113293599712062\n",
      "mean_noplay = -0.15836460138270972\n",
      "median_aimless = 0.38962960661276047\n",
      "median_goal = 0.5714383712925883\n",
      "median_noplay = 0.02921870790055721\n",
      "std_aimless = 0.9159157601030794\n",
      "std_goal = 0.35866731418209286\n",
      "std_noplay = 0.43037766282252377\n"
     ]
    }
   ],
   "source": [
    "for seed in range(2):\n",
    "    PatternInterpolationTrial().run(seed=seed, data_dir='basic_experiment')"
   ]
  },
  {
   "cell_type": "code",
   "execution_count": 8,
   "metadata": {},
   "outputs": [
    {
     "name": "stdout",
     "output_type": "stream",
     "text": [
      "    n_neurons: number of neurons (default=2000)\n",
      "         seed: random number seed (default=1)\n",
      "     data_dir: data directory (default='data')\n",
      "data_filename: filename for data (default='')\n",
      "  data_format: data file format [txt,npz] (default='txt')\n",
      "      verbose: print progress information (default=True)\n"
     ]
    }
   ],
   "source": [
    "print(PatternInterpolationTrial().show_params())"
   ]
  },
  {
   "cell_type": "code",
   "execution_count": 4,
   "metadata": {},
   "outputs": [
    {
     "name": "stderr",
     "output_type": "stream",
     "text": [
      "c:\\users\\terry\\py3\\lib\\site-packages\\scipy\\signal\\filter_design.py:1551: BadCoefficients: Badly conditioned filter coefficients (numerator): the results may be meaningless\n",
      "  \"results may be meaningless\", BadCoefficients)\n"
     ]
    }
   ],
   "source": [
    "for seed in range(2):\n",
    "    for n_neurons in [200, 500, 1000, 2000, 5000]:\n",
    "        PatternInterpolationTrial().run(seed=seed, n_neurons=n_neurons,\n",
    "                                        data_dir='vary_n_neurons')"
   ]
  },
  {
   "cell_type": "code",
   "execution_count": null,
   "metadata": {
    "collapsed": true
   },
   "outputs": [],
   "source": []
  },
  {
   "cell_type": "code",
   "execution_count": 11,
   "metadata": {},
   "outputs": [],
   "source": [
    "data = pytry.read('basic_experiment')"
   ]
  },
  {
   "cell_type": "code",
   "execution_count": 14,
   "metadata": {},
   "outputs": [
    {
     "name": "stdout",
     "output_type": "stream",
     "text": [
      "[{'seed': 0, 'n_neurons': 2000, 'mean_goal': 0.5201683994186217, 'std_goal': 0.3436169048729272, 'median_goal': 0.5897584615053131, 'mean_aimless': 0.3970490313643537, 'std_aimless': 0.8946142890032165, 'median_aimless': 0.5020341081793528, 'mean_noplay': -0.12551287165668312, 'std_noplay': 0.501456950162044, 'median_noplay': 0.11345209860279531}, {'seed': 1, 'n_neurons': 2000, 'mean_goal': 0.5113293599712062, 'std_goal': 0.35866731418209286, 'median_goal': 0.5714383712925883, 'mean_aimless': 0.4479469621066245, 'std_aimless': 0.9159157601030794, 'median_aimless': 0.38962960661276047, 'mean_noplay': -0.15836460138270972, 'std_noplay': 0.43037766282252377, 'median_noplay': 0.02921870790055721}]\n"
     ]
    }
   ],
   "source": [
    "print(list(data))"
   ]
  },
  {
   "cell_type": "code",
   "execution_count": 17,
   "metadata": {
    "collapsed": true
   },
   "outputs": [],
   "source": [
    "import pandas\n",
    "df = pandas.DataFrame(pytry.read('basic_experiment'))"
   ]
  },
  {
   "cell_type": "code",
   "execution_count": 18,
   "metadata": {},
   "outputs": [
    {
     "data": {
      "text/html": [
       "<div>\n",
       "<style>\n",
       "    .dataframe thead tr:only-child th {\n",
       "        text-align: right;\n",
       "    }\n",
       "\n",
       "    .dataframe thead th {\n",
       "        text-align: left;\n",
       "    }\n",
       "\n",
       "    .dataframe tbody tr th {\n",
       "        vertical-align: top;\n",
       "    }\n",
       "</style>\n",
       "<table border=\"1\" class=\"dataframe\">\n",
       "  <thead>\n",
       "    <tr style=\"text-align: right;\">\n",
       "      <th></th>\n",
       "      <th>mean_aimless</th>\n",
       "      <th>mean_goal</th>\n",
       "      <th>mean_noplay</th>\n",
       "      <th>median_aimless</th>\n",
       "      <th>median_goal</th>\n",
       "      <th>median_noplay</th>\n",
       "      <th>n_neurons</th>\n",
       "      <th>seed</th>\n",
       "      <th>std_aimless</th>\n",
       "      <th>std_goal</th>\n",
       "      <th>std_noplay</th>\n",
       "    </tr>\n",
       "  </thead>\n",
       "  <tbody>\n",
       "    <tr>\n",
       "      <th>0</th>\n",
       "      <td>0.397049</td>\n",
       "      <td>0.520168</td>\n",
       "      <td>-0.125513</td>\n",
       "      <td>0.502034</td>\n",
       "      <td>0.589758</td>\n",
       "      <td>0.113452</td>\n",
       "      <td>2000</td>\n",
       "      <td>0</td>\n",
       "      <td>0.894614</td>\n",
       "      <td>0.343617</td>\n",
       "      <td>0.501457</td>\n",
       "    </tr>\n",
       "    <tr>\n",
       "      <th>1</th>\n",
       "      <td>0.447947</td>\n",
       "      <td>0.511329</td>\n",
       "      <td>-0.158365</td>\n",
       "      <td>0.389630</td>\n",
       "      <td>0.571438</td>\n",
       "      <td>0.029219</td>\n",
       "      <td>2000</td>\n",
       "      <td>1</td>\n",
       "      <td>0.915916</td>\n",
       "      <td>0.358667</td>\n",
       "      <td>0.430378</td>\n",
       "    </tr>\n",
       "  </tbody>\n",
       "</table>\n",
       "</div>"
      ],
      "text/plain": [
       "   mean_aimless  mean_goal  mean_noplay  median_aimless  median_goal  \\\n",
       "0      0.397049   0.520168    -0.125513        0.502034     0.589758   \n",
       "1      0.447947   0.511329    -0.158365        0.389630     0.571438   \n",
       "\n",
       "   median_noplay  n_neurons  seed  std_aimless  std_goal  std_noplay  \n",
       "0       0.113452       2000     0     0.894614  0.343617    0.501457  \n",
       "1       0.029219       2000     1     0.915916  0.358667    0.430378  "
      ]
     },
     "execution_count": 18,
     "metadata": {},
     "output_type": "execute_result"
    }
   ],
   "source": [
    "df"
   ]
  },
  {
   "cell_type": "code",
   "execution_count": 20,
   "metadata": {},
   "outputs": [
    {
     "data": {
      "text/plain": [
       "<matplotlib.axes._subplots.AxesSubplot at 0x1b482aeb0f0>"
      ]
     },
     "execution_count": 20,
     "metadata": {},
     "output_type": "execute_result"
    },
    {
     "data": {
      "image/png": "[encoded data removed]",
      "text/plain": [
       "<matplotlib.figure.Figure at 0x1b4965bd6d8>"
      ]
     },
     "metadata": {},
     "output_type": "display_data"
    }
   ],
   "source": [
    "import seaborn\n",
    "\n",
    "seaborn.barplot('n_neurons', 'mean_aimless', data=df)"
   ]
  },
  {
   "cell_type": "code",
   "execution_count": null,
   "metadata": {
    "collapsed": true
   },
   "outputs": [],
   "source": []
  }
 ],
 "metadata": {
  "kernelspec": {
   "display_name": "Python 3",
   "language": "python",
   "name": "python3"
  },
  "language_info": {
   "codemirror_mode": {
    "name": "ipython",
    "version": 3
   },
   "file_extension": ".py",
   "mimetype": "text/x-python",
   "name": "python",
   "nbconvert_exporter": "python",
   "pygments_lexer": "ipython3",
   "version": "3.6.1"
  }
 },
 "nbformat": 4,
 "nbformat_minor": 2
}
